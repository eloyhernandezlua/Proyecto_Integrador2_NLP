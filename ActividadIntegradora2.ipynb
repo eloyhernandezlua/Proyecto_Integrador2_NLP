{
  "nbformat": 4,
  "nbformat_minor": 0,
  "metadata": {
    "colab": {
      "name": "ActividadIntegradora2.ipynb",
      "provenance": [],
      "collapsed_sections": [
        "V6EoIWVTM9CH"
      ],
      "toc_visible": true
    },
    "kernelspec": {
      "name": "python3",
      "display_name": "Python 3"
    },
    "language_info": {
      "name": "python"
    },
    "accelerator": "GPU",
    "widgets": {
      "application/vnd.jupyter.widget-state+json": {
        "9325b0de22db4d01bfe8642e8a7846e7": {
          "model_module": "@jupyter-widgets/controls",
          "model_name": "HBoxModel",
          "state": {
            "_view_name": "HBoxView",
            "_dom_classes": [],
            "_model_name": "HBoxModel",
            "_view_module": "@jupyter-widgets/controls",
            "_model_module_version": "1.5.0",
            "_view_count": null,
            "_view_module_version": "1.5.0",
            "box_style": "",
            "layout": "IPY_MODEL_879fe53e2ea24cfe932dd620a623c0ec",
            "_model_module": "@jupyter-widgets/controls",
            "children": [
              "IPY_MODEL_0436d4317630490e9a8ba48e1d7769e2",
              "IPY_MODEL_16f03d4b33aa456f9be753bfe3fea5dd"
            ]
          }
        },
        "879fe53e2ea24cfe932dd620a623c0ec": {
          "model_module": "@jupyter-widgets/base",
          "model_name": "LayoutModel",
          "state": {
            "_view_name": "LayoutView",
            "grid_template_rows": null,
            "right": null,
            "justify_content": null,
            "_view_module": "@jupyter-widgets/base",
            "overflow": null,
            "_model_module_version": "1.2.0",
            "_view_count": null,
            "flex_flow": null,
            "width": null,
            "min_width": null,
            "border": null,
            "align_items": null,
            "bottom": null,
            "_model_module": "@jupyter-widgets/base",
            "top": null,
            "grid_column": null,
            "overflow_y": null,
            "overflow_x": null,
            "grid_auto_flow": null,
            "grid_area": null,
            "grid_template_columns": null,
            "flex": null,
            "_model_name": "LayoutModel",
            "justify_items": null,
            "grid_row": null,
            "max_height": null,
            "align_content": null,
            "visibility": null,
            "align_self": null,
            "height": null,
            "min_height": null,
            "padding": null,
            "grid_auto_rows": null,
            "grid_gap": null,
            "max_width": null,
            "order": null,
            "_view_module_version": "1.2.0",
            "grid_template_areas": null,
            "object_position": null,
            "object_fit": null,
            "grid_auto_columns": null,
            "margin": null,
            "display": null,
            "left": null
          }
        },
        "0436d4317630490e9a8ba48e1d7769e2": {
          "model_module": "@jupyter-widgets/controls",
          "model_name": "FloatProgressModel",
          "state": {
            "_view_name": "ProgressView",
            "style": "IPY_MODEL_3ba8f25a65834c8c98a544639f755d80",
            "_dom_classes": [],
            "description": "Downloading: 100%",
            "_model_name": "FloatProgressModel",
            "bar_style": "success",
            "max": 4420,
            "_view_module": "@jupyter-widgets/controls",
            "_model_module_version": "1.5.0",
            "value": 4420,
            "_view_count": null,
            "_view_module_version": "1.5.0",
            "orientation": "horizontal",
            "min": 0,
            "description_tooltip": null,
            "_model_module": "@jupyter-widgets/controls",
            "layout": "IPY_MODEL_e6d1e002257c45bd96f2776b1397b27e"
          }
        },
        "16f03d4b33aa456f9be753bfe3fea5dd": {
          "model_module": "@jupyter-widgets/controls",
          "model_name": "HTMLModel",
          "state": {
            "_view_name": "HTMLView",
            "style": "IPY_MODEL_a346d6dda08c427fbeac8240f1dfa7bf",
            "_dom_classes": [],
            "description": "",
            "_model_name": "HTMLModel",
            "placeholder": "​",
            "_view_module": "@jupyter-widgets/controls",
            "_model_module_version": "1.5.0",
            "value": " 4.42k/4.42k [00:17&lt;00:00, 251B/s]",
            "_view_count": null,
            "_view_module_version": "1.5.0",
            "description_tooltip": null,
            "_model_module": "@jupyter-widgets/controls",
            "layout": "IPY_MODEL_6ed3b57b1c2645a2a37ef42401fd052a"
          }
        },
        "3ba8f25a65834c8c98a544639f755d80": {
          "model_module": "@jupyter-widgets/controls",
          "model_name": "ProgressStyleModel",
          "state": {
            "_view_name": "StyleView",
            "_model_name": "ProgressStyleModel",
            "description_width": "initial",
            "_view_module": "@jupyter-widgets/base",
            "_model_module_version": "1.5.0",
            "_view_count": null,
            "_view_module_version": "1.2.0",
            "bar_color": null,
            "_model_module": "@jupyter-widgets/controls"
          }
        },
        "e6d1e002257c45bd96f2776b1397b27e": {
          "model_module": "@jupyter-widgets/base",
          "model_name": "LayoutModel",
          "state": {
            "_view_name": "LayoutView",
            "grid_template_rows": null,
            "right": null,
            "justify_content": null,
            "_view_module": "@jupyter-widgets/base",
            "overflow": null,
            "_model_module_version": "1.2.0",
            "_view_count": null,
            "flex_flow": null,
            "width": null,
            "min_width": null,
            "border": null,
            "align_items": null,
            "bottom": null,
            "_model_module": "@jupyter-widgets/base",
            "top": null,
            "grid_column": null,
            "overflow_y": null,
            "overflow_x": null,
            "grid_auto_flow": null,
            "grid_area": null,
            "grid_template_columns": null,
            "flex": null,
            "_model_name": "LayoutModel",
            "justify_items": null,
            "grid_row": null,
            "max_height": null,
            "align_content": null,
            "visibility": null,
            "align_self": null,
            "height": null,
            "min_height": null,
            "padding": null,
            "grid_auto_rows": null,
            "grid_gap": null,
            "max_width": null,
            "order": null,
            "_view_module_version": "1.2.0",
            "grid_template_areas": null,
            "object_position": null,
            "object_fit": null,
            "grid_auto_columns": null,
            "margin": null,
            "display": null,
            "left": null
          }
        },
        "a346d6dda08c427fbeac8240f1dfa7bf": {
          "model_module": "@jupyter-widgets/controls",
          "model_name": "DescriptionStyleModel",
          "state": {
            "_view_name": "StyleView",
            "_model_name": "DescriptionStyleModel",
            "description_width": "",
            "_view_module": "@jupyter-widgets/base",
            "_model_module_version": "1.5.0",
            "_view_count": null,
            "_view_module_version": "1.2.0",
            "_model_module": "@jupyter-widgets/controls"
          }
        },
        "6ed3b57b1c2645a2a37ef42401fd052a": {
          "model_module": "@jupyter-widgets/base",
          "model_name": "LayoutModel",
          "state": {
            "_view_name": "LayoutView",
            "grid_template_rows": null,
            "right": null,
            "justify_content": null,
            "_view_module": "@jupyter-widgets/base",
            "overflow": null,
            "_model_module_version": "1.2.0",
            "_view_count": null,
            "flex_flow": null,
            "width": null,
            "min_width": null,
            "border": null,
            "align_items": null,
            "bottom": null,
            "_model_module": "@jupyter-widgets/base",
            "top": null,
            "grid_column": null,
            "overflow_y": null,
            "overflow_x": null,
            "grid_auto_flow": null,
            "grid_area": null,
            "grid_template_columns": null,
            "flex": null,
            "_model_name": "LayoutModel",
            "justify_items": null,
            "grid_row": null,
            "max_height": null,
            "align_content": null,
            "visibility": null,
            "align_self": null,
            "height": null,
            "min_height": null,
            "padding": null,
            "grid_auto_rows": null,
            "grid_gap": null,
            "max_width": null,
            "order": null,
            "_view_module_version": "1.2.0",
            "grid_template_areas": null,
            "object_position": null,
            "object_fit": null,
            "grid_auto_columns": null,
            "margin": null,
            "display": null,
            "left": null
          }
        },
        "290028e4c5b64493acaddd49f794c8ad": {
          "model_module": "@jupyter-widgets/controls",
          "model_name": "HBoxModel",
          "state": {
            "_view_name": "HBoxView",
            "_dom_classes": [],
            "_model_name": "HBoxModel",
            "_view_module": "@jupyter-widgets/controls",
            "_model_module_version": "1.5.0",
            "_view_count": null,
            "_view_module_version": "1.5.0",
            "box_style": "",
            "layout": "IPY_MODEL_697ea698dd38480aa3b6bb85ec3be686",
            "_model_module": "@jupyter-widgets/controls",
            "children": [
              "IPY_MODEL_f27add3d2d6e406788fb7a107f8033f2",
              "IPY_MODEL_7550fcedf76342e9b4ec645d392d494d"
            ]
          }
        },
        "697ea698dd38480aa3b6bb85ec3be686": {
          "model_module": "@jupyter-widgets/base",
          "model_name": "LayoutModel",
          "state": {
            "_view_name": "LayoutView",
            "grid_template_rows": null,
            "right": null,
            "justify_content": null,
            "_view_module": "@jupyter-widgets/base",
            "overflow": null,
            "_model_module_version": "1.2.0",
            "_view_count": null,
            "flex_flow": null,
            "width": null,
            "min_width": null,
            "border": null,
            "align_items": null,
            "bottom": null,
            "_model_module": "@jupyter-widgets/base",
            "top": null,
            "grid_column": null,
            "overflow_y": null,
            "overflow_x": null,
            "grid_auto_flow": null,
            "grid_area": null,
            "grid_template_columns": null,
            "flex": null,
            "_model_name": "LayoutModel",
            "justify_items": null,
            "grid_row": null,
            "max_height": null,
            "align_content": null,
            "visibility": null,
            "align_self": null,
            "height": null,
            "min_height": null,
            "padding": null,
            "grid_auto_rows": null,
            "grid_gap": null,
            "max_width": null,
            "order": null,
            "_view_module_version": "1.2.0",
            "grid_template_areas": null,
            "object_position": null,
            "object_fit": null,
            "grid_auto_columns": null,
            "margin": null,
            "display": null,
            "left": null
          }
        },
        "f27add3d2d6e406788fb7a107f8033f2": {
          "model_module": "@jupyter-widgets/controls",
          "model_name": "FloatProgressModel",
          "state": {
            "_view_name": "ProgressView",
            "style": "IPY_MODEL_673941131bb044a6873a6063a68f4766",
            "_dom_classes": [],
            "description": "Downloading: 100%",
            "_model_name": "FloatProgressModel",
            "bar_style": "success",
            "max": 479555971,
            "_view_module": "@jupyter-widgets/controls",
            "_model_module_version": "1.5.0",
            "value": 479555971,
            "_view_count": null,
            "_view_module_version": "1.5.0",
            "orientation": "horizontal",
            "min": 0,
            "description_tooltip": null,
            "_model_module": "@jupyter-widgets/controls",
            "layout": "IPY_MODEL_a35d206eb7b54cfcb3e2cd5c7c593cf1"
          }
        },
        "7550fcedf76342e9b4ec645d392d494d": {
          "model_module": "@jupyter-widgets/controls",
          "model_name": "HTMLModel",
          "state": {
            "_view_name": "HTMLView",
            "style": "IPY_MODEL_225d0615c33143558c0ae41b4915d4d9",
            "_dom_classes": [],
            "description": "",
            "_model_name": "HTMLModel",
            "placeholder": "​",
            "_view_module": "@jupyter-widgets/controls",
            "_model_module_version": "1.5.0",
            "value": " 480M/480M [00:11&lt;00:00, 40.9MB/s]",
            "_view_count": null,
            "_view_module_version": "1.5.0",
            "description_tooltip": null,
            "_model_module": "@jupyter-widgets/controls",
            "layout": "IPY_MODEL_44b3cf8cac5042e69e9d60cfef297c6d"
          }
        },
        "673941131bb044a6873a6063a68f4766": {
          "model_module": "@jupyter-widgets/controls",
          "model_name": "ProgressStyleModel",
          "state": {
            "_view_name": "StyleView",
            "_model_name": "ProgressStyleModel",
            "description_width": "initial",
            "_view_module": "@jupyter-widgets/base",
            "_model_module_version": "1.5.0",
            "_view_count": null,
            "_view_module_version": "1.2.0",
            "bar_color": null,
            "_model_module": "@jupyter-widgets/controls"
          }
        },
        "a35d206eb7b54cfcb3e2cd5c7c593cf1": {
          "model_module": "@jupyter-widgets/base",
          "model_name": "LayoutModel",
          "state": {
            "_view_name": "LayoutView",
            "grid_template_rows": null,
            "right": null,
            "justify_content": null,
            "_view_module": "@jupyter-widgets/base",
            "overflow": null,
            "_model_module_version": "1.2.0",
            "_view_count": null,
            "flex_flow": null,
            "width": null,
            "min_width": null,
            "border": null,
            "align_items": null,
            "bottom": null,
            "_model_module": "@jupyter-widgets/base",
            "top": null,
            "grid_column": null,
            "overflow_y": null,
            "overflow_x": null,
            "grid_auto_flow": null,
            "grid_area": null,
            "grid_template_columns": null,
            "flex": null,
            "_model_name": "LayoutModel",
            "justify_items": null,
            "grid_row": null,
            "max_height": null,
            "align_content": null,
            "visibility": null,
            "align_self": null,
            "height": null,
            "min_height": null,
            "padding": null,
            "grid_auto_rows": null,
            "grid_gap": null,
            "max_width": null,
            "order": null,
            "_view_module_version": "1.2.0",
            "grid_template_areas": null,
            "object_position": null,
            "object_fit": null,
            "grid_auto_columns": null,
            "margin": null,
            "display": null,
            "left": null
          }
        },
        "225d0615c33143558c0ae41b4915d4d9": {
          "model_module": "@jupyter-widgets/controls",
          "model_name": "DescriptionStyleModel",
          "state": {
            "_view_name": "StyleView",
            "_model_name": "DescriptionStyleModel",
            "description_width": "",
            "_view_module": "@jupyter-widgets/base",
            "_model_module_version": "1.5.0",
            "_view_count": null,
            "_view_module_version": "1.2.0",
            "_model_module": "@jupyter-widgets/controls"
          }
        },
        "44b3cf8cac5042e69e9d60cfef297c6d": {
          "model_module": "@jupyter-widgets/base",
          "model_name": "LayoutModel",
          "state": {
            "_view_name": "LayoutView",
            "grid_template_rows": null,
            "right": null,
            "justify_content": null,
            "_view_module": "@jupyter-widgets/base",
            "overflow": null,
            "_model_module_version": "1.2.0",
            "_view_count": null,
            "flex_flow": null,
            "width": null,
            "min_width": null,
            "border": null,
            "align_items": null,
            "bottom": null,
            "_model_module": "@jupyter-widgets/base",
            "top": null,
            "grid_column": null,
            "overflow_y": null,
            "overflow_x": null,
            "grid_auto_flow": null,
            "grid_area": null,
            "grid_template_columns": null,
            "flex": null,
            "_model_name": "LayoutModel",
            "justify_items": null,
            "grid_row": null,
            "max_height": null,
            "align_content": null,
            "visibility": null,
            "align_self": null,
            "height": null,
            "min_height": null,
            "padding": null,
            "grid_auto_rows": null,
            "grid_gap": null,
            "max_width": null,
            "order": null,
            "_view_module_version": "1.2.0",
            "grid_template_areas": null,
            "object_position": null,
            "object_fit": null,
            "grid_auto_columns": null,
            "margin": null,
            "display": null,
            "left": null
          }
        },
        "2069eca95cef479d848cdcae61833017": {
          "model_module": "@jupyter-widgets/controls",
          "model_name": "HBoxModel",
          "state": {
            "_view_name": "HBoxView",
            "_dom_classes": [],
            "_model_name": "HBoxModel",
            "_view_module": "@jupyter-widgets/controls",
            "_model_module_version": "1.5.0",
            "_view_count": null,
            "_view_module_version": "1.5.0",
            "box_style": "",
            "layout": "IPY_MODEL_94b947d16b5d4dbf8f0e45efc33249f3",
            "_model_module": "@jupyter-widgets/controls",
            "children": [
              "IPY_MODEL_0fa6875685b2469683303222f53c2455",
              "IPY_MODEL_14bfde3c219e451c9f593db25ba9d134"
            ]
          }
        },
        "94b947d16b5d4dbf8f0e45efc33249f3": {
          "model_module": "@jupyter-widgets/base",
          "model_name": "LayoutModel",
          "state": {
            "_view_name": "LayoutView",
            "grid_template_rows": null,
            "right": null,
            "justify_content": null,
            "_view_module": "@jupyter-widgets/base",
            "overflow": null,
            "_model_module_version": "1.2.0",
            "_view_count": null,
            "flex_flow": null,
            "width": null,
            "min_width": null,
            "border": null,
            "align_items": null,
            "bottom": null,
            "_model_module": "@jupyter-widgets/base",
            "top": null,
            "grid_column": null,
            "overflow_y": null,
            "overflow_x": null,
            "grid_auto_flow": null,
            "grid_area": null,
            "grid_template_columns": null,
            "flex": null,
            "_model_name": "LayoutModel",
            "justify_items": null,
            "grid_row": null,
            "max_height": null,
            "align_content": null,
            "visibility": null,
            "align_self": null,
            "height": null,
            "min_height": null,
            "padding": null,
            "grid_auto_rows": null,
            "grid_gap": null,
            "max_width": null,
            "order": null,
            "_view_module_version": "1.2.0",
            "grid_template_areas": null,
            "object_position": null,
            "object_fit": null,
            "grid_auto_columns": null,
            "margin": null,
            "display": null,
            "left": null
          }
        },
        "0fa6875685b2469683303222f53c2455": {
          "model_module": "@jupyter-widgets/controls",
          "model_name": "FloatProgressModel",
          "state": {
            "_view_name": "ProgressView",
            "style": "IPY_MODEL_f3ea498a46c540d49c6dde95369e8362",
            "_dom_classes": [],
            "description": "Downloading: 100%",
            "_model_name": "FloatProgressModel",
            "bar_style": "success",
            "max": 212420087,
            "_view_module": "@jupyter-widgets/controls",
            "_model_module_version": "1.5.0",
            "value": 212420087,
            "_view_count": null,
            "_view_module_version": "1.5.0",
            "orientation": "horizontal",
            "min": 0,
            "description_tooltip": null,
            "_model_module": "@jupyter-widgets/controls",
            "layout": "IPY_MODEL_793110bf17284cd2b2be29041a4e04f0"
          }
        },
        "14bfde3c219e451c9f593db25ba9d134": {
          "model_module": "@jupyter-widgets/controls",
          "model_name": "HTMLModel",
          "state": {
            "_view_name": "HTMLView",
            "style": "IPY_MODEL_bafcb026d7a649b789aa2af3358cabb9",
            "_dom_classes": [],
            "description": "",
            "_model_name": "HTMLModel",
            "placeholder": "​",
            "_view_module": "@jupyter-widgets/controls",
            "_model_module_version": "1.5.0",
            "value": " 212M/212M [00:04&lt;00:00, 43.0MB/s]",
            "_view_count": null,
            "_view_module_version": "1.5.0",
            "description_tooltip": null,
            "_model_module": "@jupyter-widgets/controls",
            "layout": "IPY_MODEL_d658ac5b88cd4a1ca75e4b9305131c01"
          }
        },
        "f3ea498a46c540d49c6dde95369e8362": {
          "model_module": "@jupyter-widgets/controls",
          "model_name": "ProgressStyleModel",
          "state": {
            "_view_name": "StyleView",
            "_model_name": "ProgressStyleModel",
            "description_width": "initial",
            "_view_module": "@jupyter-widgets/base",
            "_model_module_version": "1.5.0",
            "_view_count": null,
            "_view_module_version": "1.2.0",
            "bar_color": null,
            "_model_module": "@jupyter-widgets/controls"
          }
        },
        "793110bf17284cd2b2be29041a4e04f0": {
          "model_module": "@jupyter-widgets/base",
          "model_name": "LayoutModel",
          "state": {
            "_view_name": "LayoutView",
            "grid_template_rows": null,
            "right": null,
            "justify_content": null,
            "_view_module": "@jupyter-widgets/base",
            "overflow": null,
            "_model_module_version": "1.2.0",
            "_view_count": null,
            "flex_flow": null,
            "width": null,
            "min_width": null,
            "border": null,
            "align_items": null,
            "bottom": null,
            "_model_module": "@jupyter-widgets/base",
            "top": null,
            "grid_column": null,
            "overflow_y": null,
            "overflow_x": null,
            "grid_auto_flow": null,
            "grid_area": null,
            "grid_template_columns": null,
            "flex": null,
            "_model_name": "LayoutModel",
            "justify_items": null,
            "grid_row": null,
            "max_height": null,
            "align_content": null,
            "visibility": null,
            "align_self": null,
            "height": null,
            "min_height": null,
            "padding": null,
            "grid_auto_rows": null,
            "grid_gap": null,
            "max_width": null,
            "order": null,
            "_view_module_version": "1.2.0",
            "grid_template_areas": null,
            "object_position": null,
            "object_fit": null,
            "grid_auto_columns": null,
            "margin": null,
            "display": null,
            "left": null
          }
        },
        "bafcb026d7a649b789aa2af3358cabb9": {
          "model_module": "@jupyter-widgets/controls",
          "model_name": "DescriptionStyleModel",
          "state": {
            "_view_name": "StyleView",
            "_model_name": "DescriptionStyleModel",
            "description_width": "",
            "_view_module": "@jupyter-widgets/base",
            "_model_module_version": "1.5.0",
            "_view_count": null,
            "_view_module_version": "1.2.0",
            "_model_module": "@jupyter-widgets/controls"
          }
        },
        "d658ac5b88cd4a1ca75e4b9305131c01": {
          "model_module": "@jupyter-widgets/base",
          "model_name": "LayoutModel",
          "state": {
            "_view_name": "LayoutView",
            "grid_template_rows": null,
            "right": null,
            "justify_content": null,
            "_view_module": "@jupyter-widgets/base",
            "overflow": null,
            "_model_module_version": "1.2.0",
            "_view_count": null,
            "flex_flow": null,
            "width": null,
            "min_width": null,
            "border": null,
            "align_items": null,
            "bottom": null,
            "_model_module": "@jupyter-widgets/base",
            "top": null,
            "grid_column": null,
            "overflow_y": null,
            "overflow_x": null,
            "grid_auto_flow": null,
            "grid_area": null,
            "grid_template_columns": null,
            "flex": null,
            "_model_name": "LayoutModel",
            "justify_items": null,
            "grid_row": null,
            "max_height": null,
            "align_content": null,
            "visibility": null,
            "align_self": null,
            "height": null,
            "min_height": null,
            "padding": null,
            "grid_auto_rows": null,
            "grid_gap": null,
            "max_width": null,
            "order": null,
            "_view_module_version": "1.2.0",
            "grid_template_areas": null,
            "object_position": null,
            "object_fit": null,
            "grid_auto_columns": null,
            "margin": null,
            "display": null,
            "left": null
          }
        },
        "84ac03f68aa74d0080248f8f2a4a4ca0": {
          "model_module": "@jupyter-widgets/controls",
          "model_name": "HBoxModel",
          "state": {
            "_view_name": "HBoxView",
            "_dom_classes": [],
            "_model_name": "HBoxModel",
            "_view_module": "@jupyter-widgets/controls",
            "_model_module_version": "1.5.0",
            "_view_count": null,
            "_view_module_version": "1.5.0",
            "box_style": "",
            "layout": "IPY_MODEL_cfd0b78f5fb448ee9c11db92687a84ad",
            "_model_module": "@jupyter-widgets/controls",
            "children": [
              "IPY_MODEL_c6b055c49ea44de4ae0c28c8445b9035",
              "IPY_MODEL_b7ba39082f174e3f968d3a8a7fb64032"
            ]
          }
        },
        "cfd0b78f5fb448ee9c11db92687a84ad": {
          "model_module": "@jupyter-widgets/base",
          "model_name": "LayoutModel",
          "state": {
            "_view_name": "LayoutView",
            "grid_template_rows": null,
            "right": null,
            "justify_content": null,
            "_view_module": "@jupyter-widgets/base",
            "overflow": null,
            "_model_module_version": "1.2.0",
            "_view_count": null,
            "flex_flow": null,
            "width": null,
            "min_width": null,
            "border": null,
            "align_items": null,
            "bottom": null,
            "_model_module": "@jupyter-widgets/base",
            "top": null,
            "grid_column": null,
            "overflow_y": null,
            "overflow_x": null,
            "grid_auto_flow": null,
            "grid_area": null,
            "grid_template_columns": null,
            "flex": null,
            "_model_name": "LayoutModel",
            "justify_items": null,
            "grid_row": null,
            "max_height": null,
            "align_content": null,
            "visibility": null,
            "align_self": null,
            "height": null,
            "min_height": null,
            "padding": null,
            "grid_auto_rows": null,
            "grid_gap": null,
            "max_width": null,
            "order": null,
            "_view_module_version": "1.2.0",
            "grid_template_areas": null,
            "object_position": null,
            "object_fit": null,
            "grid_auto_columns": null,
            "margin": null,
            "display": null,
            "left": null
          }
        },
        "c6b055c49ea44de4ae0c28c8445b9035": {
          "model_module": "@jupyter-widgets/controls",
          "model_name": "FloatProgressModel",
          "state": {
            "_view_name": "ProgressView",
            "style": "IPY_MODEL_1bec5e9be19f47c9b15ff73d08a9d578",
            "_dom_classes": [],
            "description": "Downloading: 100%",
            "_model_name": "FloatProgressModel",
            "bar_style": "success",
            "max": 253217,
            "_view_module": "@jupyter-widgets/controls",
            "_model_module_version": "1.5.0",
            "value": 253217,
            "_view_count": null,
            "_view_module_version": "1.5.0",
            "orientation": "horizontal",
            "min": 0,
            "description_tooltip": null,
            "_model_module": "@jupyter-widgets/controls",
            "layout": "IPY_MODEL_9c75317630004dab9e67e1e546016f74"
          }
        },
        "b7ba39082f174e3f968d3a8a7fb64032": {
          "model_module": "@jupyter-widgets/controls",
          "model_name": "HTMLModel",
          "state": {
            "_view_name": "HTMLView",
            "style": "IPY_MODEL_d4f57cf55a8a41cca7a95e5b7f816fb5",
            "_dom_classes": [],
            "description": "",
            "_model_name": "HTMLModel",
            "placeholder": "​",
            "_view_module": "@jupyter-widgets/controls",
            "_model_module_version": "1.5.0",
            "value": " 253k/253k [00:00&lt;00:00, 713kB/s]",
            "_view_count": null,
            "_view_module_version": "1.5.0",
            "description_tooltip": null,
            "_model_module": "@jupyter-widgets/controls",
            "layout": "IPY_MODEL_020a373bca5943b1902cdcb5674b543c"
          }
        },
        "1bec5e9be19f47c9b15ff73d08a9d578": {
          "model_module": "@jupyter-widgets/controls",
          "model_name": "ProgressStyleModel",
          "state": {
            "_view_name": "StyleView",
            "_model_name": "ProgressStyleModel",
            "description_width": "initial",
            "_view_module": "@jupyter-widgets/base",
            "_model_module_version": "1.5.0",
            "_view_count": null,
            "_view_module_version": "1.2.0",
            "bar_color": null,
            "_model_module": "@jupyter-widgets/controls"
          }
        },
        "9c75317630004dab9e67e1e546016f74": {
          "model_module": "@jupyter-widgets/base",
          "model_name": "LayoutModel",
          "state": {
            "_view_name": "LayoutView",
            "grid_template_rows": null,
            "right": null,
            "justify_content": null,
            "_view_module": "@jupyter-widgets/base",
            "overflow": null,
            "_model_module_version": "1.2.0",
            "_view_count": null,
            "flex_flow": null,
            "width": null,
            "min_width": null,
            "border": null,
            "align_items": null,
            "bottom": null,
            "_model_module": "@jupyter-widgets/base",
            "top": null,
            "grid_column": null,
            "overflow_y": null,
            "overflow_x": null,
            "grid_auto_flow": null,
            "grid_area": null,
            "grid_template_columns": null,
            "flex": null,
            "_model_name": "LayoutModel",
            "justify_items": null,
            "grid_row": null,
            "max_height": null,
            "align_content": null,
            "visibility": null,
            "align_self": null,
            "height": null,
            "min_height": null,
            "padding": null,
            "grid_auto_rows": null,
            "grid_gap": null,
            "max_width": null,
            "order": null,
            "_view_module_version": "1.2.0",
            "grid_template_areas": null,
            "object_position": null,
            "object_fit": null,
            "grid_auto_columns": null,
            "margin": null,
            "display": null,
            "left": null
          }
        },
        "d4f57cf55a8a41cca7a95e5b7f816fb5": {
          "model_module": "@jupyter-widgets/controls",
          "model_name": "DescriptionStyleModel",
          "state": {
            "_view_name": "StyleView",
            "_model_name": "DescriptionStyleModel",
            "description_width": "",
            "_view_module": "@jupyter-widgets/base",
            "_model_module_version": "1.5.0",
            "_view_count": null,
            "_view_module_version": "1.2.0",
            "_model_module": "@jupyter-widgets/controls"
          }
        },
        "020a373bca5943b1902cdcb5674b543c": {
          "model_module": "@jupyter-widgets/base",
          "model_name": "LayoutModel",
          "state": {
            "_view_name": "LayoutView",
            "grid_template_rows": null,
            "right": null,
            "justify_content": null,
            "_view_module": "@jupyter-widgets/base",
            "overflow": null,
            "_model_module_version": "1.2.0",
            "_view_count": null,
            "flex_flow": null,
            "width": null,
            "min_width": null,
            "border": null,
            "align_items": null,
            "bottom": null,
            "_model_module": "@jupyter-widgets/base",
            "top": null,
            "grid_column": null,
            "overflow_y": null,
            "overflow_x": null,
            "grid_auto_flow": null,
            "grid_area": null,
            "grid_template_columns": null,
            "flex": null,
            "_model_name": "LayoutModel",
            "justify_items": null,
            "grid_row": null,
            "max_height": null,
            "align_content": null,
            "visibility": null,
            "align_self": null,
            "height": null,
            "min_height": null,
            "padding": null,
            "grid_auto_rows": null,
            "grid_gap": null,
            "max_width": null,
            "order": null,
            "_view_module_version": "1.2.0",
            "grid_template_areas": null,
            "object_position": null,
            "object_fit": null,
            "grid_auto_columns": null,
            "margin": null,
            "display": null,
            "left": null
          }
        }
      }
    }
  },
  "cells": [
    {
      "cell_type": "markdown",
      "metadata": {
        "id": "ux2A5RLdCtlY"
      },
      "source": [
        "#Actividad Integradora 2 \n",
        "##Análisis de sentimientos - Twitter\n",
        "##Tunneado\n",
        "\n",
        "##Equipo 2\n"
      ]
    },
    {
      "cell_type": "markdown",
      "metadata": {
        "id": "Q5Nb4iKE6MU6"
      },
      "source": [
        "#Installation"
      ]
    },
    {
      "cell_type": "code",
      "metadata": {
        "id": "lcGEOxb1UVf-",
        "colab": {
          "base_uri": "https://localhost:8080/"
        },
        "outputId": "a48f9144-d725-42d5-adcb-a5676e81e80f"
      },
      "source": [
        "!pip install -q -U keras-tuner\n",
        "!pip install praw\n",
        "!pip install pytube"
      ],
      "execution_count": 78,
      "outputs": [
        {
          "output_type": "stream",
          "text": [
            "Collecting praw\n",
            "  Downloading praw-7.3.0-py3-none-any.whl (165 kB)\n",
            "\u001b[?25l\r\u001b[K     |██                              | 10 kB 31.0 MB/s eta 0:00:01\r\u001b[K     |████                            | 20 kB 33.1 MB/s eta 0:00:01\r\u001b[K     |██████                          | 30 kB 34.7 MB/s eta 0:00:01\r\u001b[K     |████████                        | 40 kB 35.7 MB/s eta 0:00:01\r\u001b[K     |█████████▉                      | 51 kB 37.2 MB/s eta 0:00:01\r\u001b[K     |███████████▉                    | 61 kB 40.0 MB/s eta 0:00:01\r\u001b[K     |█████████████▉                  | 71 kB 37.8 MB/s eta 0:00:01\r\u001b[K     |███████████████▉                | 81 kB 35.7 MB/s eta 0:00:01\r\u001b[K     |█████████████████▊              | 92 kB 37.0 MB/s eta 0:00:01\r\u001b[K     |███████████████████▊            | 102 kB 38.0 MB/s eta 0:00:01\r\u001b[K     |█████████████████████▊          | 112 kB 38.0 MB/s eta 0:00:01\r\u001b[K     |███████████████████████▊        | 122 kB 38.0 MB/s eta 0:00:01\r\u001b[K     |█████████████████████████▊      | 133 kB 38.0 MB/s eta 0:00:01\r\u001b[K     |███████████████████████████▋    | 143 kB 38.0 MB/s eta 0:00:01\r\u001b[K     |█████████████████████████████▋  | 153 kB 38.0 MB/s eta 0:00:01\r\u001b[K     |███████████████████████████████▋| 163 kB 38.0 MB/s eta 0:00:01\r\u001b[K     |████████████████████████████████| 165 kB 38.0 MB/s \n",
            "\u001b[?25hCollecting websocket-client>=0.54.0\n",
            "  Downloading websocket_client-1.1.0-py2.py3-none-any.whl (68 kB)\n",
            "\u001b[?25l\r\u001b[K     |████▊                           | 10 kB 40.5 MB/s eta 0:00:01\r\u001b[K     |█████████▌                      | 20 kB 47.7 MB/s eta 0:00:01\r\u001b[K     |██████████████▎                 | 30 kB 49.2 MB/s eta 0:00:01\r\u001b[K     |███████████████████             | 40 kB 51.5 MB/s eta 0:00:01\r\u001b[K     |███████████████████████▉        | 51 kB 51.0 MB/s eta 0:00:01\r\u001b[K     |████████████████████████████▋   | 61 kB 52.9 MB/s eta 0:00:01\r\u001b[K     |████████████████████████████████| 68 kB 8.2 MB/s \n",
            "\u001b[?25hCollecting update-checker>=0.18\n",
            "  Downloading update_checker-0.18.0-py3-none-any.whl (7.0 kB)\n",
            "Collecting prawcore<3,>=2.1\n",
            "  Downloading prawcore-2.2.0-py3-none-any.whl (15 kB)\n",
            "Requirement already satisfied: requests<3.0,>=2.6.0 in /usr/local/lib/python3.7/dist-packages (from prawcore<3,>=2.1->praw) (2.23.0)\n",
            "Requirement already satisfied: chardet<4,>=3.0.2 in /usr/local/lib/python3.7/dist-packages (from requests<3.0,>=2.6.0->prawcore<3,>=2.1->praw) (3.0.4)\n",
            "Requirement already satisfied: urllib3!=1.25.0,!=1.25.1,<1.26,>=1.21.1 in /usr/local/lib/python3.7/dist-packages (from requests<3.0,>=2.6.0->prawcore<3,>=2.1->praw) (1.24.3)\n",
            "Requirement already satisfied: idna<3,>=2.5 in /usr/local/lib/python3.7/dist-packages (from requests<3.0,>=2.6.0->prawcore<3,>=2.1->praw) (2.10)\n",
            "Requirement already satisfied: certifi>=2017.4.17 in /usr/local/lib/python3.7/dist-packages (from requests<3.0,>=2.6.0->prawcore<3,>=2.1->praw) (2021.5.30)\n",
            "Installing collected packages: websocket-client, update-checker, prawcore, praw\n",
            "Successfully installed praw-7.3.0 prawcore-2.2.0 update-checker-0.18.0 websocket-client-1.1.0\n",
            "Collecting pytube\n",
            "  Downloading pytube-10.9.2-py3-none-any.whl (54 kB)\n",
            "\u001b[K     |████████████████████████████████| 54 kB 3.2 MB/s \n",
            "\u001b[?25hInstalling collected packages: pytube\n",
            "Successfully installed pytube-10.9.2\n"
          ],
          "name": "stdout"
        }
      ]
    },
    {
      "cell_type": "code",
      "metadata": {
        "colab": {
          "base_uri": "https://localhost:8080/"
        },
        "id": "26pRZpFhEvbr",
        "outputId": "2a13654a-7e3b-47f8-d3b5-e7d6e4576865"
      },
      "source": [
        "! pip install PyYAML"
      ],
      "execution_count": 79,
      "outputs": [
        {
          "output_type": "stream",
          "text": [
            "Requirement already satisfied: PyYAML in /usr/local/lib/python3.7/dist-packages (5.4.1)\n"
          ],
          "name": "stdout"
        }
      ]
    },
    {
      "cell_type": "code",
      "metadata": {
        "colab": {
          "base_uri": "https://localhost:8080/"
        },
        "id": "FlKerh7RsT6A",
        "outputId": "344bf0a7-82b0-439c-dcd2-7b6266b66291"
      },
      "source": [
        "!pip install speechbrain\n",
        "!pip install transformers\n",
        "!pip install pydub\n",
        "!pip install librosa\n",
        "!pip install imageio-ffmpeg"
      ],
      "execution_count": 80,
      "outputs": [
        {
          "output_type": "stream",
          "text": [
            "Requirement already satisfied: speechbrain in /usr/local/lib/python3.7/dist-packages (0.5.9)\n",
            "Requirement already satisfied: huggingface-hub in /usr/local/lib/python3.7/dist-packages (from speechbrain) (0.0.12)\n",
            "Requirement already satisfied: sentencepiece in /usr/local/lib/python3.7/dist-packages (from speechbrain) (0.1.96)\n",
            "Requirement already satisfied: hyperpyyaml in /usr/local/lib/python3.7/dist-packages (from speechbrain) (1.0.0)\n",
            "Requirement already satisfied: torch in /usr/local/lib/python3.7/dist-packages (from speechbrain) (1.9.0+cu102)\n",
            "Requirement already satisfied: scipy in /usr/local/lib/python3.7/dist-packages (from speechbrain) (1.4.1)\n",
            "Requirement already satisfied: numpy in /usr/local/lib/python3.7/dist-packages (from speechbrain) (1.19.5)\n",
            "Requirement already satisfied: joblib in /usr/local/lib/python3.7/dist-packages (from speechbrain) (1.0.1)\n",
            "Requirement already satisfied: packaging in /usr/local/lib/python3.7/dist-packages (from speechbrain) (21.0)\n",
            "Requirement already satisfied: tqdm in /usr/local/lib/python3.7/dist-packages (from speechbrain) (4.41.1)\n",
            "Requirement already satisfied: torchaudio in /usr/local/lib/python3.7/dist-packages (from speechbrain) (0.9.0)\n",
            "Requirement already satisfied: filelock in /usr/local/lib/python3.7/dist-packages (from huggingface-hub->speechbrain) (3.0.12)\n",
            "Requirement already satisfied: typing-extensions in /usr/local/lib/python3.7/dist-packages (from huggingface-hub->speechbrain) (3.7.4.3)\n",
            "Requirement already satisfied: requests in /usr/local/lib/python3.7/dist-packages (from huggingface-hub->speechbrain) (2.23.0)\n",
            "Requirement already satisfied: importlib-metadata in /usr/local/lib/python3.7/dist-packages (from huggingface-hub->speechbrain) (4.6.1)\n",
            "Requirement already satisfied: pyparsing>=2.0.2 in /usr/local/lib/python3.7/dist-packages (from packaging->speechbrain) (2.4.7)\n",
            "Requirement already satisfied: pyyaml>=5.1 in /usr/local/lib/python3.7/dist-packages (from hyperpyyaml->speechbrain) (5.4.1)\n",
            "Requirement already satisfied: ruamel.yaml>=0.15 in /usr/local/lib/python3.7/dist-packages (from hyperpyyaml->speechbrain) (0.17.10)\n",
            "Requirement already satisfied: ruamel.yaml.clib>=0.1.2 in /usr/local/lib/python3.7/dist-packages (from ruamel.yaml>=0.15->hyperpyyaml->speechbrain) (0.2.6)\n",
            "Requirement already satisfied: zipp>=0.5 in /usr/local/lib/python3.7/dist-packages (from importlib-metadata->huggingface-hub->speechbrain) (3.5.0)\n",
            "Requirement already satisfied: urllib3!=1.25.0,!=1.25.1,<1.26,>=1.21.1 in /usr/local/lib/python3.7/dist-packages (from requests->huggingface-hub->speechbrain) (1.24.3)\n",
            "Requirement already satisfied: chardet<4,>=3.0.2 in /usr/local/lib/python3.7/dist-packages (from requests->huggingface-hub->speechbrain) (3.0.4)\n",
            "Requirement already satisfied: idna<3,>=2.5 in /usr/local/lib/python3.7/dist-packages (from requests->huggingface-hub->speechbrain) (2.10)\n",
            "Requirement already satisfied: certifi>=2017.4.17 in /usr/local/lib/python3.7/dist-packages (from requests->huggingface-hub->speechbrain) (2021.5.30)\n",
            "Requirement already satisfied: transformers in /usr/local/lib/python3.7/dist-packages (4.8.2)\n",
            "Requirement already satisfied: huggingface-hub==0.0.12 in /usr/local/lib/python3.7/dist-packages (from transformers) (0.0.12)\n",
            "Requirement already satisfied: filelock in /usr/local/lib/python3.7/dist-packages (from transformers) (3.0.12)\n",
            "Requirement already satisfied: sacremoses in /usr/local/lib/python3.7/dist-packages (from transformers) (0.0.45)\n",
            "Requirement already satisfied: pyyaml in /usr/local/lib/python3.7/dist-packages (from transformers) (5.4.1)\n",
            "Requirement already satisfied: importlib-metadata in /usr/local/lib/python3.7/dist-packages (from transformers) (4.6.1)\n",
            "Requirement already satisfied: tqdm>=4.27 in /usr/local/lib/python3.7/dist-packages (from transformers) (4.41.1)\n",
            "Requirement already satisfied: tokenizers<0.11,>=0.10.1 in /usr/local/lib/python3.7/dist-packages (from transformers) (0.10.3)\n",
            "Requirement already satisfied: regex!=2019.12.17 in /usr/local/lib/python3.7/dist-packages (from transformers) (2019.12.20)\n",
            "Requirement already satisfied: packaging in /usr/local/lib/python3.7/dist-packages (from transformers) (21.0)\n",
            "Requirement already satisfied: requests in /usr/local/lib/python3.7/dist-packages (from transformers) (2.23.0)\n",
            "Requirement already satisfied: numpy>=1.17 in /usr/local/lib/python3.7/dist-packages (from transformers) (1.19.5)\n",
            "Requirement already satisfied: typing-extensions in /usr/local/lib/python3.7/dist-packages (from huggingface-hub==0.0.12->transformers) (3.7.4.3)\n",
            "Requirement already satisfied: pyparsing>=2.0.2 in /usr/local/lib/python3.7/dist-packages (from packaging->transformers) (2.4.7)\n",
            "Requirement already satisfied: zipp>=0.5 in /usr/local/lib/python3.7/dist-packages (from importlib-metadata->transformers) (3.5.0)\n",
            "Requirement already satisfied: certifi>=2017.4.17 in /usr/local/lib/python3.7/dist-packages (from requests->transformers) (2021.5.30)\n",
            "Requirement already satisfied: chardet<4,>=3.0.2 in /usr/local/lib/python3.7/dist-packages (from requests->transformers) (3.0.4)\n",
            "Requirement already satisfied: urllib3!=1.25.0,!=1.25.1,<1.26,>=1.21.1 in /usr/local/lib/python3.7/dist-packages (from requests->transformers) (1.24.3)\n",
            "Requirement already satisfied: idna<3,>=2.5 in /usr/local/lib/python3.7/dist-packages (from requests->transformers) (2.10)\n",
            "Requirement already satisfied: joblib in /usr/local/lib/python3.7/dist-packages (from sacremoses->transformers) (1.0.1)\n",
            "Requirement already satisfied: six in /usr/local/lib/python3.7/dist-packages (from sacremoses->transformers) (1.15.0)\n",
            "Requirement already satisfied: click in /usr/local/lib/python3.7/dist-packages (from sacremoses->transformers) (7.1.2)\n",
            "Requirement already satisfied: pydub in /usr/local/lib/python3.7/dist-packages (0.25.1)\n",
            "Requirement already satisfied: librosa in /usr/local/lib/python3.7/dist-packages (0.8.1)\n",
            "Requirement already satisfied: numba>=0.43.0 in /usr/local/lib/python3.7/dist-packages (from librosa) (0.51.2)\n",
            "Requirement already satisfied: decorator>=3.0.0 in /usr/local/lib/python3.7/dist-packages (from librosa) (4.4.2)\n",
            "Requirement already satisfied: scikit-learn!=0.19.0,>=0.14.0 in /usr/local/lib/python3.7/dist-packages (from librosa) (0.22.2.post1)\n",
            "Requirement already satisfied: resampy>=0.2.2 in /usr/local/lib/python3.7/dist-packages (from librosa) (0.2.2)\n",
            "Requirement already satisfied: packaging>=20.0 in /usr/local/lib/python3.7/dist-packages (from librosa) (21.0)\n",
            "Requirement already satisfied: numpy>=1.15.0 in /usr/local/lib/python3.7/dist-packages (from librosa) (1.19.5)\n",
            "Requirement already satisfied: scipy>=1.0.0 in /usr/local/lib/python3.7/dist-packages (from librosa) (1.4.1)\n",
            "Requirement already satisfied: audioread>=2.0.0 in /usr/local/lib/python3.7/dist-packages (from librosa) (2.1.9)\n",
            "Requirement already satisfied: pooch>=1.0 in /usr/local/lib/python3.7/dist-packages (from librosa) (1.4.0)\n",
            "Requirement already satisfied: joblib>=0.14 in /usr/local/lib/python3.7/dist-packages (from librosa) (1.0.1)\n",
            "Requirement already satisfied: soundfile>=0.10.2 in /usr/local/lib/python3.7/dist-packages (from librosa) (0.10.3.post1)\n",
            "Requirement already satisfied: setuptools in /usr/local/lib/python3.7/dist-packages (from numba>=0.43.0->librosa) (57.2.0)\n",
            "Requirement already satisfied: llvmlite<0.35,>=0.34.0.dev0 in /usr/local/lib/python3.7/dist-packages (from numba>=0.43.0->librosa) (0.34.0)\n",
            "Requirement already satisfied: pyparsing>=2.0.2 in /usr/local/lib/python3.7/dist-packages (from packaging>=20.0->librosa) (2.4.7)\n",
            "Requirement already satisfied: appdirs in /usr/local/lib/python3.7/dist-packages (from pooch>=1.0->librosa) (1.4.4)\n",
            "Requirement already satisfied: requests in /usr/local/lib/python3.7/dist-packages (from pooch>=1.0->librosa) (2.23.0)\n",
            "Requirement already satisfied: six>=1.3 in /usr/local/lib/python3.7/dist-packages (from resampy>=0.2.2->librosa) (1.15.0)\n",
            "Requirement already satisfied: cffi>=1.0 in /usr/local/lib/python3.7/dist-packages (from soundfile>=0.10.2->librosa) (1.14.6)\n",
            "Requirement already satisfied: pycparser in /usr/local/lib/python3.7/dist-packages (from cffi>=1.0->soundfile>=0.10.2->librosa) (2.20)\n",
            "Requirement already satisfied: certifi>=2017.4.17 in /usr/local/lib/python3.7/dist-packages (from requests->pooch>=1.0->librosa) (2021.5.30)\n",
            "Requirement already satisfied: chardet<4,>=3.0.2 in /usr/local/lib/python3.7/dist-packages (from requests->pooch>=1.0->librosa) (3.0.4)\n",
            "Requirement already satisfied: urllib3!=1.25.0,!=1.25.1,<1.26,>=1.21.1 in /usr/local/lib/python3.7/dist-packages (from requests->pooch>=1.0->librosa) (1.24.3)\n",
            "Requirement already satisfied: idna<3,>=2.5 in /usr/local/lib/python3.7/dist-packages (from requests->pooch>=1.0->librosa) (2.10)\n",
            "Requirement already satisfied: imageio-ffmpeg in /usr/local/lib/python3.7/dist-packages (0.4.4)\n"
          ],
          "name": "stdout"
        }
      ]
    },
    {
      "cell_type": "code",
      "metadata": {
        "id": "fhgryCtsh6-5"
      },
      "source": [
        "! pip install -q kaggle"
      ],
      "execution_count": 81,
      "outputs": []
    },
    {
      "cell_type": "code",
      "metadata": {
        "id": "UBrwlKGTbQI4",
        "colab": {
          "base_uri": "https://localhost:8080/"
        },
        "outputId": "fdb10979-849c-4134-f536-7559d0d6c376"
      },
      "source": [
        "import pandas as pd\n",
        "import numpy as np\n",
        "import tensorflow as tf\n",
        "import re\n",
        "import praw\n",
        "from tensorflow.keras.preprocessing.text import Tokenizer\n",
        "import nltk\n",
        "nltk.download('stopwords')\n",
        "from nltk.corpus import stopwords\n",
        "from nltk.tokenize import word_tokenize\n",
        "\n",
        "from tensorflow import keras\n",
        "from keras.models import Sequential\n",
        "from tensorflow.keras.layers import LSTM, GRU, Dense, Dropout, Embedding, Bidirectional, Activation, GlobalMaxPool1D, Flatten, SimpleRNN\n",
        "from tensorflow.keras.metrics import Recall, Precision\n",
        "\n",
        "from keras.preprocessing.sequence import pad_sequences\n",
        "from keras.models import Sequential\n",
        "\n",
        "\n",
        "\n",
        "from keras.metrics import Recall, Precision\n",
        "from keras.layers import LSTM, GRU, Dense, Dropout, Embedding, CuDNNLSTM, Bidirectional, Activation, GlobalMaxPool1D\n",
        "from tqdm import tqdm\n",
        "import matplotlib.pyplot as plt\n",
        "import seaborn as sns\n",
        "import keras_tuner as kt\n",
        "%matplotlib inline\n",
        "\n",
        "import tweepy\n",
        "from tweepy import Stream\n",
        "from tweepy import OAuthHandler\n",
        "from tweepy.streaming import StreamListener\n",
        "import time\n",
        "import json\n",
        "\n",
        "from pytube import YouTube"
      ],
      "execution_count": 82,
      "outputs": [
        {
          "output_type": "stream",
          "text": [
            "[nltk_data] Downloading package stopwords to /root/nltk_data...\n",
            "[nltk_data]   Package stopwords is already up-to-date!\n"
          ],
          "name": "stdout"
        }
      ]
    },
    {
      "cell_type": "code",
      "metadata": {
        "colab": {
          "base_uri": "https://localhost:8080/"
        },
        "id": "C4ChUU9j6B6C",
        "outputId": "4ffe03bd-63a5-4986-b757-791a2a38c41a"
      },
      "source": [
        "nltk.download('punkt')"
      ],
      "execution_count": 33,
      "outputs": [
        {
          "output_type": "stream",
          "text": [
            "[nltk_data] Downloading package punkt to /root/nltk_data...\n",
            "[nltk_data]   Package punkt is already up-to-date!\n"
          ],
          "name": "stdout"
        },
        {
          "output_type": "execute_result",
          "data": {
            "text/plain": [
              "True"
            ]
          },
          "metadata": {
            "tags": []
          },
          "execution_count": 33
        }
      ]
    },
    {
      "cell_type": "markdown",
      "metadata": {
        "id": "dQGPiO03Bx_9"
      },
      "source": [
        "Es necesario tener una cuenta de kaggle para bajar el set de datos, en esta celda se debe incluir su archivo kaggle.json"
      ]
    },
    {
      "cell_type": "code",
      "metadata": {
        "colab": {
          "resources": {
            "http://localhost:8080/nbextensions/google.colab/files.js": {
              "data": "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",
              "ok": true,
              "headers": [
                [
                  "content-type",
                  "application/javascript"
                ]
              ],
              "status": 200,
              "status_text": ""
            }
          },
          "base_uri": "https://localhost:8080/",
          "height": 89
        },
        "id": "a_MZPK71lkvz",
        "outputId": "81f6044c-7bf5-4572-9fdd-ebd9bbcc6b5f"
      },
      "source": [
        "from google.colab import files\n",
        "files.upload() "
      ],
      "execution_count": 12,
      "outputs": [
        {
          "output_type": "display_data",
          "data": {
            "text/html": [
              "\n",
              "     <input type=\"file\" id=\"files-952c3128-d5e5-4133-8ba1-1a89158efa97\" name=\"files[]\" multiple disabled\n",
              "        style=\"border:none\" />\n",
              "     <output id=\"result-952c3128-d5e5-4133-8ba1-1a89158efa97\">\n",
              "      Upload widget is only available when the cell has been executed in the\n",
              "      current browser session. Please rerun this cell to enable.\n",
              "      </output>\n",
              "      <script src=\"/nbextensions/google.colab/files.js\"></script> "
            ],
            "text/plain": [
              "<IPython.core.display.HTML object>"
            ]
          },
          "metadata": {
            "tags": []
          }
        },
        {
          "output_type": "stream",
          "text": [
            "Saving kaggle.json to kaggle.json\n"
          ],
          "name": "stdout"
        },
        {
          "output_type": "execute_result",
          "data": {
            "text/plain": [
              "{'kaggle.json': b'{\"username\":\"eloyhernandezlua\",\"key\":\"b9d5584efa4546811252cb5d76e54ad0\"}'}"
            ]
          },
          "metadata": {
            "tags": []
          },
          "execution_count": 12
        }
      ]
    },
    {
      "cell_type": "markdown",
      "metadata": {
        "id": "mObZPIfHB8y9"
      },
      "source": [
        "En caso de que tenga archivos a utilizar dentro de su cuenta de drive, descomente y ejecute la siguiente celda"
      ]
    },
    {
      "cell_type": "code",
      "metadata": {
        "colab": {
          "base_uri": "https://localhost:8080/"
        },
        "id": "AqlSSgwfFLtO",
        "outputId": "38958844-6c44-4478-b616-d52442966c75"
      },
      "source": [
        "#from google.colab import drive\n",
        "#drive.mount('/gdrive')"
      ],
      "execution_count": 2,
      "outputs": [
        {
          "output_type": "stream",
          "text": [
            "Drive already mounted at /gdrive; to attempt to forcibly remount, call drive.mount(\"/gdrive\", force_remount=True).\n"
          ],
          "name": "stdout"
        }
      ]
    },
    {
      "cell_type": "code",
      "metadata": {
        "colab": {
          "base_uri": "https://localhost:8080/"
        },
        "id": "QGlEeDIKsjLw",
        "outputId": "ce573b8e-26a1-4b99-c979-a4a2fdd47054"
      },
      "source": [
        "import time\n",
        "from time import perf_counter\n",
        "import librosa\n",
        "from pydub import AudioSegment\n",
        "import os\n",
        "from google.colab import files\n",
        "#import moviepy.editor\n",
        "from transformers import pipeline\n",
        "from moviepy import editor"
      ],
      "execution_count": 78,
      "outputs": [
        {
          "output_type": "stream",
          "text": [
            "Imageio: 'ffmpeg-linux64-v3.3.1' was not found on your computer; downloading it now.\n",
            "Try 1. Download from https://github.com/imageio/imageio-binaries/raw/master/ffmpeg/ffmpeg-linux64-v3.3.1 (43.8 MB)\n",
            "Downloading: 8192/45929032 bytes (0.0%)\b\b\b\b\b\b\b\b\b\b\b\b\b\b\b\b\b\b\b\b\b\b\b\b\b\b3620864/45929032 bytes (7.9%)\b\b\b\b\b\b\b\b\b\b\b\b\b\b\b\b\b\b\b\b\b\b\b\b\b\b\b\b\b7536640/45929032 bytes (16.4%)\b\b\b\b\b\b\b\b\b\b\b\b\b\b\b\b\b\b\b\b\b\b\b\b\b\b\b\b\b\b11280384/45929032 bytes (24.6%)\b\b\b\b\b\b\b\b\b\b\b\b\b\b\b\b\b\b\b\b\b\b\b\b\b\b\b\b\b\b\b15187968/45929032 bytes (33.1%)\b\b\b\b\b\b\b\b\b\b\b\b\b\b\b\b\b\b\b\b\b\b\b\b\b\b\b\b\b\b\b19013632/45929032 bytes (41.4%)\b\b\b\b\b\b\b\b\b\b\b\b\b\b\b\b\b\b\b\b\b\b\b\b\b\b\b\b\b\b\b22700032/45929032 bytes (49.4%)\b\b\b\b\b\b\b\b\b\b\b\b\b\b\b\b\b\b\b\b\b\b\b\b\b\b\b\b\b\b\b26550272/45929032 bytes (57.8%)\b\b\b\b\b\b\b\b\b\b\b\b\b\b\b\b\b\b\b\b\b\b\b\b\b\b\b\b\b\b\b30408704/45929032 bytes (66.2%)\b\b\b\b\b\b\b\b\b\b\b\b\b\b\b\b\b\b\b\b\b\b\b\b\b\b\b\b\b\b\b34324480/45929032 bytes (74.7%)\b\b\b\b\b\b\b\b\b\b\b\b\b\b\b\b\b\b\b\b\b\b\b\b\b\b\b\b\b\b\b38240256/45929032 bytes (83.3%)\b\b\b\b\b\b\b\b\b\b\b\b\b\b\b\b\b\b\b\b\b\b\b\b\b\b\b\b\b\b\b42082304/45929032 bytes (91.6%)\b\b\b\b\b\b\b\b\b\b\b\b\b\b\b\b\b\b\b\b\b\b\b\b\b\b\b\b\b\b\b45929032/45929032 bytes (100.0%)\n",
            "  Done\n",
            "File saved as /root/.imageio/ffmpeg/ffmpeg-linux64-v3.3.1.\n"
          ],
          "name": "stdout"
        }
      ]
    },
    {
      "cell_type": "markdown",
      "metadata": {
        "id": "psbExatpCKE6"
      },
      "source": [
        "La siguiente celda es en caso de que haya agregado el drive y quiera especificar una nueva ruta"
      ]
    },
    {
      "cell_type": "code",
      "metadata": {
        "id": "P5-9a7x2Gbl7"
      },
      "source": [
        "#path = \"/gdrive/MyDrive/Equipo02-NLP\""
      ],
      "execution_count": 34,
      "outputs": []
    },
    {
      "cell_type": "code",
      "metadata": {
        "id": "DLSMmYKYlqWi"
      },
      "source": [
        "!mkdir ~/.kaggle\n",
        "!cp kaggle.json ~/.kaggle/"
      ],
      "execution_count": 14,
      "outputs": []
    },
    {
      "cell_type": "code",
      "metadata": {
        "id": "FO4xRmdfmCPi"
      },
      "source": [
        "! chmod 600 ~/.kaggle/kaggle.json"
      ],
      "execution_count": 15,
      "outputs": []
    },
    {
      "cell_type": "markdown",
      "metadata": {
        "id": "laxbVqO5wAud"
      },
      "source": [
        "#Data management"
      ]
    },
    {
      "cell_type": "code",
      "metadata": {
        "colab": {
          "base_uri": "https://localhost:8080/"
        },
        "id": "Z9V3UfGQmRni",
        "outputId": "15beeb6a-51a1-465f-d66f-afe3bc1a3833"
      },
      "source": [
        "!kaggle datasets download -d kazanova/sentiment140"
      ],
      "execution_count": 35,
      "outputs": [
        {
          "output_type": "stream",
          "text": [
            "sentiment140.zip: Skipping, found more recently modified local copy (use --force to force download)\n"
          ],
          "name": "stdout"
        }
      ]
    },
    {
      "cell_type": "code",
      "metadata": {
        "colab": {
          "base_uri": "https://localhost:8080/"
        },
        "id": "nTosT-S3nSgS",
        "outputId": "eaa7ed2c-c57b-4bf1-aa82-bf43ffa7b7ae"
      },
      "source": [
        "!ls"
      ],
      "execution_count": 36,
      "outputs": [
        {
          "output_type": "stream",
          "text": [
            "'49m2a-kddi3 (1).wav'\t kaggle.json\n",
            "'49m2a-kddi3 (2).wav'\t pretrained_models\n",
            "'49m2a-kddi3 (3).wav'\t sample_data\n",
            " 49m2a-kddi3.wav\t sentiment140.zip\n",
            " Audio_1_segment_1.wav\t training.1600000.processed.noemoticon.csv\n"
          ],
          "name": "stdout"
        }
      ]
    },
    {
      "cell_type": "code",
      "metadata": {
        "colab": {
          "base_uri": "https://localhost:8080/"
        },
        "id": "7hkd3glnnZAI",
        "outputId": "cd1645d0-bd10-48fb-afc4-b1451a581bfe"
      },
      "source": [
        "!unzip sentiment140.zip"
      ],
      "execution_count": 37,
      "outputs": [
        {
          "output_type": "stream",
          "text": [
            "Archive:  sentiment140.zip\n",
            "replace training.1600000.processed.noemoticon.csv? [y]es, [n]o, [A]ll, [N]one, [r]ename: A\n",
            "  inflating: training.1600000.processed.noemoticon.csv  \n"
          ],
          "name": "stdout"
        }
      ]
    },
    {
      "cell_type": "code",
      "metadata": {
        "id": "r5xQpBR5n0bY"
      },
      "source": [
        "data = pd.read_csv(\"/content/training.1600000.processed.noemoticon.csv\", encoding = 'macintosh', engine ='python')"
      ],
      "execution_count": 38,
      "outputs": []
    },
    {
      "cell_type": "code",
      "metadata": {
        "id": "z3ZYm3vqpuHV"
      },
      "source": [
        "data.columns =['target', 'id', 'date', 'flag', 'user', 'text']"
      ],
      "execution_count": 39,
      "outputs": []
    },
    {
      "cell_type": "code",
      "metadata": {
        "colab": {
          "base_uri": "https://localhost:8080/",
          "height": 419
        },
        "id": "Syf4NeEun_-Y",
        "outputId": "49e429a6-9fff-4e18-e31f-ec2a59e6212a"
      },
      "source": [
        "data"
      ],
      "execution_count": 40,
      "outputs": [
        {
          "output_type": "execute_result",
          "data": {
            "text/html": [
              "<div>\n",
              "<style scoped>\n",
              "    .dataframe tbody tr th:only-of-type {\n",
              "        vertical-align: middle;\n",
              "    }\n",
              "\n",
              "    .dataframe tbody tr th {\n",
              "        vertical-align: top;\n",
              "    }\n",
              "\n",
              "    .dataframe thead th {\n",
              "        text-align: right;\n",
              "    }\n",
              "</style>\n",
              "<table border=\"1\" class=\"dataframe\">\n",
              "  <thead>\n",
              "    <tr style=\"text-align: right;\">\n",
              "      <th></th>\n",
              "      <th>target</th>\n",
              "      <th>id</th>\n",
              "      <th>date</th>\n",
              "      <th>flag</th>\n",
              "      <th>user</th>\n",
              "      <th>text</th>\n",
              "    </tr>\n",
              "  </thead>\n",
              "  <tbody>\n",
              "    <tr>\n",
              "      <th>0</th>\n",
              "      <td>0</td>\n",
              "      <td>1467810672</td>\n",
              "      <td>Mon Apr 06 22:19:49 PDT 2009</td>\n",
              "      <td>NO_QUERY</td>\n",
              "      <td>scotthamilton</td>\n",
              "      <td>is upset that he can't update his Facebook by ...</td>\n",
              "    </tr>\n",
              "    <tr>\n",
              "      <th>1</th>\n",
              "      <td>0</td>\n",
              "      <td>1467810917</td>\n",
              "      <td>Mon Apr 06 22:19:53 PDT 2009</td>\n",
              "      <td>NO_QUERY</td>\n",
              "      <td>mattycus</td>\n",
              "      <td>@Kenichan I dived many times for the ball. Man...</td>\n",
              "    </tr>\n",
              "    <tr>\n",
              "      <th>2</th>\n",
              "      <td>0</td>\n",
              "      <td>1467811184</td>\n",
              "      <td>Mon Apr 06 22:19:57 PDT 2009</td>\n",
              "      <td>NO_QUERY</td>\n",
              "      <td>ElleCTF</td>\n",
              "      <td>my whole body feels itchy and like its on fire</td>\n",
              "    </tr>\n",
              "    <tr>\n",
              "      <th>3</th>\n",
              "      <td>0</td>\n",
              "      <td>1467811193</td>\n",
              "      <td>Mon Apr 06 22:19:57 PDT 2009</td>\n",
              "      <td>NO_QUERY</td>\n",
              "      <td>Karoli</td>\n",
              "      <td>@nationwideclass no, it's not behaving at all....</td>\n",
              "    </tr>\n",
              "    <tr>\n",
              "      <th>4</th>\n",
              "      <td>0</td>\n",
              "      <td>1467811372</td>\n",
              "      <td>Mon Apr 06 22:20:00 PDT 2009</td>\n",
              "      <td>NO_QUERY</td>\n",
              "      <td>joy_wolf</td>\n",
              "      <td>@Kwesidei not the whole crew</td>\n",
              "    </tr>\n",
              "    <tr>\n",
              "      <th>...</th>\n",
              "      <td>...</td>\n",
              "      <td>...</td>\n",
              "      <td>...</td>\n",
              "      <td>...</td>\n",
              "      <td>...</td>\n",
              "      <td>...</td>\n",
              "    </tr>\n",
              "    <tr>\n",
              "      <th>1599994</th>\n",
              "      <td>4</td>\n",
              "      <td>2193601966</td>\n",
              "      <td>Tue Jun 16 08:40:49 PDT 2009</td>\n",
              "      <td>NO_QUERY</td>\n",
              "      <td>AmandaMarie1028</td>\n",
              "      <td>Just woke up. Having no school is the best fee...</td>\n",
              "    </tr>\n",
              "    <tr>\n",
              "      <th>1599995</th>\n",
              "      <td>4</td>\n",
              "      <td>2193601969</td>\n",
              "      <td>Tue Jun 16 08:40:49 PDT 2009</td>\n",
              "      <td>NO_QUERY</td>\n",
              "      <td>TheWDBoards</td>\n",
              "      <td>TheWDB.com - Very cool to hear old Walt interv...</td>\n",
              "    </tr>\n",
              "    <tr>\n",
              "      <th>1599996</th>\n",
              "      <td>4</td>\n",
              "      <td>2193601991</td>\n",
              "      <td>Tue Jun 16 08:40:49 PDT 2009</td>\n",
              "      <td>NO_QUERY</td>\n",
              "      <td>bpbabe</td>\n",
              "      <td>Are you ready for your MoJo Makeover? Ask me f...</td>\n",
              "    </tr>\n",
              "    <tr>\n",
              "      <th>1599997</th>\n",
              "      <td>4</td>\n",
              "      <td>2193602064</td>\n",
              "      <td>Tue Jun 16 08:40:49 PDT 2009</td>\n",
              "      <td>NO_QUERY</td>\n",
              "      <td>tinydiamondz</td>\n",
              "      <td>Happy 38th Birthday to my boo of alll time!!! ...</td>\n",
              "    </tr>\n",
              "    <tr>\n",
              "      <th>1599998</th>\n",
              "      <td>4</td>\n",
              "      <td>2193602129</td>\n",
              "      <td>Tue Jun 16 08:40:50 PDT 2009</td>\n",
              "      <td>NO_QUERY</td>\n",
              "      <td>RyanTrevMorris</td>\n",
              "      <td>happy #charitytuesday @theNSPCC @SparksCharity...</td>\n",
              "    </tr>\n",
              "  </tbody>\n",
              "</table>\n",
              "<p>1599999 rows × 6 columns</p>\n",
              "</div>"
            ],
            "text/plain": [
              "         target  ...                                               text\n",
              "0             0  ...  is upset that he can't update his Facebook by ...\n",
              "1             0  ...  @Kenichan I dived many times for the ball. Man...\n",
              "2             0  ...    my whole body feels itchy and like its on fire \n",
              "3             0  ...  @nationwideclass no, it's not behaving at all....\n",
              "4             0  ...                      @Kwesidei not the whole crew \n",
              "...         ...  ...                                                ...\n",
              "1599994       4  ...  Just woke up. Having no school is the best fee...\n",
              "1599995       4  ...  TheWDB.com - Very cool to hear old Walt interv...\n",
              "1599996       4  ...  Are you ready for your MoJo Makeover? Ask me f...\n",
              "1599997       4  ...  Happy 38th Birthday to my boo of alll time!!! ...\n",
              "1599998       4  ...  happy #charitytuesday @theNSPCC @SparksCharity...\n",
              "\n",
              "[1599999 rows x 6 columns]"
            ]
          },
          "metadata": {
            "tags": []
          },
          "execution_count": 40
        }
      ]
    },
    {
      "cell_type": "code",
      "metadata": {
        "id": "3NiLpViNqIsO"
      },
      "source": [
        "positives = data[data.target == 4]"
      ],
      "execution_count": 41,
      "outputs": []
    },
    {
      "cell_type": "code",
      "metadata": {
        "id": "lbRpqkvGqd6G"
      },
      "source": [
        "negatives = data[data.target == 0]"
      ],
      "execution_count": 42,
      "outputs": []
    },
    {
      "cell_type": "code",
      "metadata": {
        "id": "psqRaImRq4yP"
      },
      "source": [
        "positives = positives[: 200000]"
      ],
      "execution_count": 43,
      "outputs": []
    },
    {
      "cell_type": "code",
      "metadata": {
        "id": "_TaYuv1Hq-on"
      },
      "source": [
        "negatives = negatives[: 200000]"
      ],
      "execution_count": 44,
      "outputs": []
    },
    {
      "cell_type": "code",
      "metadata": {
        "id": "mYzAQO_LrBdn"
      },
      "source": [
        "positives['target'] = positives['target'].replace([4],1)"
      ],
      "execution_count": 45,
      "outputs": []
    },
    {
      "cell_type": "code",
      "metadata": {
        "id": "hH2wR9fBrqlP"
      },
      "source": [
        "positives = positives.drop(['id', 'date', 'flag', 'user'], axis = 1)"
      ],
      "execution_count": 46,
      "outputs": []
    },
    {
      "cell_type": "code",
      "metadata": {
        "id": "1B3n3D55uGWH"
      },
      "source": [
        "negatives= negatives.drop(['id', 'date', 'flag', 'user'], axis = 1)"
      ],
      "execution_count": 47,
      "outputs": []
    },
    {
      "cell_type": "code",
      "metadata": {
        "id": "mlRjJGz0wclO"
      },
      "source": [
        "positives.reset_index(drop=True, inplace=True)"
      ],
      "execution_count": 48,
      "outputs": []
    },
    {
      "cell_type": "code",
      "metadata": {
        "id": "5RlP6nzOwfZd"
      },
      "source": [
        "negatives.reset_index(drop=True, inplace=True)"
      ],
      "execution_count": 49,
      "outputs": []
    },
    {
      "cell_type": "code",
      "metadata": {
        "colab": {
          "base_uri": "https://localhost:8080/",
          "height": 204
        },
        "id": "xcD6iouWx2OC",
        "outputId": "b2bb6756-3489-43c1-960a-e0cb3a849d2c"
      },
      "source": [
        "positives.head()"
      ],
      "execution_count": 50,
      "outputs": [
        {
          "output_type": "execute_result",
          "data": {
            "text/html": [
              "<div>\n",
              "<style scoped>\n",
              "    .dataframe tbody tr th:only-of-type {\n",
              "        vertical-align: middle;\n",
              "    }\n",
              "\n",
              "    .dataframe tbody tr th {\n",
              "        vertical-align: top;\n",
              "    }\n",
              "\n",
              "    .dataframe thead th {\n",
              "        text-align: right;\n",
              "    }\n",
              "</style>\n",
              "<table border=\"1\" class=\"dataframe\">\n",
              "  <thead>\n",
              "    <tr style=\"text-align: right;\">\n",
              "      <th></th>\n",
              "      <th>target</th>\n",
              "      <th>text</th>\n",
              "    </tr>\n",
              "  </thead>\n",
              "  <tbody>\n",
              "    <tr>\n",
              "      <th>0</th>\n",
              "      <td>1</td>\n",
              "      <td>I LOVE @Health4UandPets u guys r the best!!</td>\n",
              "    </tr>\n",
              "    <tr>\n",
              "      <th>1</th>\n",
              "      <td>1</td>\n",
              "      <td>im meeting up with one of my besties tonight! ...</td>\n",
              "    </tr>\n",
              "    <tr>\n",
              "      <th>2</th>\n",
              "      <td>1</td>\n",
              "      <td>@DaRealSunisaKim Thanks for the Twitter add, S...</td>\n",
              "    </tr>\n",
              "    <tr>\n",
              "      <th>3</th>\n",
              "      <td>1</td>\n",
              "      <td>Being sick can be really cheap when it hurts t...</td>\n",
              "    </tr>\n",
              "    <tr>\n",
              "      <th>4</th>\n",
              "      <td>1</td>\n",
              "      <td>@LovesBrooklyn2 he has that effect on everyone</td>\n",
              "    </tr>\n",
              "  </tbody>\n",
              "</table>\n",
              "</div>"
            ],
            "text/plain": [
              "   target                                               text\n",
              "0       1       I LOVE @Health4UandPets u guys r the best!! \n",
              "1       1  im meeting up with one of my besties tonight! ...\n",
              "2       1  @DaRealSunisaKim Thanks for the Twitter add, S...\n",
              "3       1  Being sick can be really cheap when it hurts t...\n",
              "4       1    @LovesBrooklyn2 he has that effect on everyone "
            ]
          },
          "metadata": {
            "tags": []
          },
          "execution_count": 50
        }
      ]
    },
    {
      "cell_type": "code",
      "metadata": {
        "colab": {
          "base_uri": "https://localhost:8080/",
          "height": 204
        },
        "id": "ACZj6VkNx19W",
        "outputId": "03ba01e6-c6f1-4869-88ec-d722858f38e9"
      },
      "source": [
        "negatives.head()"
      ],
      "execution_count": 51,
      "outputs": [
        {
          "output_type": "execute_result",
          "data": {
            "text/html": [
              "<div>\n",
              "<style scoped>\n",
              "    .dataframe tbody tr th:only-of-type {\n",
              "        vertical-align: middle;\n",
              "    }\n",
              "\n",
              "    .dataframe tbody tr th {\n",
              "        vertical-align: top;\n",
              "    }\n",
              "\n",
              "    .dataframe thead th {\n",
              "        text-align: right;\n",
              "    }\n",
              "</style>\n",
              "<table border=\"1\" class=\"dataframe\">\n",
              "  <thead>\n",
              "    <tr style=\"text-align: right;\">\n",
              "      <th></th>\n",
              "      <th>target</th>\n",
              "      <th>text</th>\n",
              "    </tr>\n",
              "  </thead>\n",
              "  <tbody>\n",
              "    <tr>\n",
              "      <th>0</th>\n",
              "      <td>0</td>\n",
              "      <td>is upset that he can't update his Facebook by ...</td>\n",
              "    </tr>\n",
              "    <tr>\n",
              "      <th>1</th>\n",
              "      <td>0</td>\n",
              "      <td>@Kenichan I dived many times for the ball. Man...</td>\n",
              "    </tr>\n",
              "    <tr>\n",
              "      <th>2</th>\n",
              "      <td>0</td>\n",
              "      <td>my whole body feels itchy and like its on fire</td>\n",
              "    </tr>\n",
              "    <tr>\n",
              "      <th>3</th>\n",
              "      <td>0</td>\n",
              "      <td>@nationwideclass no, it's not behaving at all....</td>\n",
              "    </tr>\n",
              "    <tr>\n",
              "      <th>4</th>\n",
              "      <td>0</td>\n",
              "      <td>@Kwesidei not the whole crew</td>\n",
              "    </tr>\n",
              "  </tbody>\n",
              "</table>\n",
              "</div>"
            ],
            "text/plain": [
              "   target                                               text\n",
              "0       0  is upset that he can't update his Facebook by ...\n",
              "1       0  @Kenichan I dived many times for the ball. Man...\n",
              "2       0    my whole body feels itchy and like its on fire \n",
              "3       0  @nationwideclass no, it's not behaving at all....\n",
              "4       0                      @Kwesidei not the whole crew "
            ]
          },
          "metadata": {
            "tags": []
          },
          "execution_count": 51
        }
      ]
    },
    {
      "cell_type": "markdown",
      "metadata": {
        "id": "ZlrEUUL9yAlK"
      },
      "source": [
        "Remove urls"
      ]
    },
    {
      "cell_type": "code",
      "metadata": {
        "id": "EMEYkhT8wyaj"
      },
      "source": [
        "def remove_url(txt):\n",
        "\n",
        "    return \" \".join(re.sub(\"([^0-9A-Za-z \\t])|(\\w+:\\/\\/\\S+)\", \"\", txt).split())"
      ],
      "execution_count": 52,
      "outputs": []
    },
    {
      "cell_type": "code",
      "metadata": {
        "id": "hzetvZ_Nu4KU"
      },
      "source": [
        "for i in range(len(positives['text'])):\n",
        "  positives.at[i,'text'] = remove_url(str(positives['text'][i]))\n",
        "\n",
        "for i in range(len(negatives['text'])):\n",
        "  negatives.at[i,'text'] = remove_url(str(negatives['text'][i]))"
      ],
      "execution_count": 53,
      "outputs": []
    },
    {
      "cell_type": "markdown",
      "metadata": {
        "id": "Qpew1c0gyEzK"
      },
      "source": [
        "Remove @'s "
      ]
    },
    {
      "cell_type": "code",
      "metadata": {
        "id": "AVkeW0WvyfW4"
      },
      "source": [
        "for i in range(len(positives['text'])):\n",
        "  positives.at[i,'text'] = re.sub(r\"@\\S+\", \"\", str(positives['text'][i]))\n",
        "\n",
        "for i in range(len(negatives['text'])):\n",
        "  negatives.at[i,'text'] = re.sub(r\"@\\S+\", \"\", str(negatives['text'][i]))\n"
      ],
      "execution_count": 54,
      "outputs": []
    },
    {
      "cell_type": "code",
      "metadata": {
        "id": "Wsk6wW0x2O9f"
      },
      "source": [
        "stop_words = set(stopwords.words('english'))"
      ],
      "execution_count": 55,
      "outputs": []
    },
    {
      "cell_type": "code",
      "metadata": {
        "id": "azwXPrO9y3iz"
      },
      "source": [
        "rem_ele = ['no', 'not', \"don't\", 'nor']\n",
        "stop_words = stop_words - set(rem_ele)"
      ],
      "execution_count": 56,
      "outputs": []
    },
    {
      "cell_type": "markdown",
      "metadata": {
        "id": "iRssgU1n0Uga"
      },
      "source": [
        "Merge data"
      ]
    },
    {
      "cell_type": "code",
      "metadata": {
        "id": "-iX2xO65x64M"
      },
      "source": [
        "data = pd.concat([positives, negatives], axis=0)"
      ],
      "execution_count": 57,
      "outputs": []
    },
    {
      "cell_type": "code",
      "metadata": {
        "id": "-hicv6og0Fkq"
      },
      "source": [
        "data = data.sample(frac=1).reset_index(drop=True)"
      ],
      "execution_count": 58,
      "outputs": []
    },
    {
      "cell_type": "code",
      "metadata": {
        "colab": {
          "base_uri": "https://localhost:8080/",
          "height": 204
        },
        "id": "1-z0YnnN0JCq",
        "outputId": "fff674fc-ce6b-4612-e24d-7ccea855934d"
      },
      "source": [
        "data.head()"
      ],
      "execution_count": 59,
      "outputs": [
        {
          "output_type": "execute_result",
          "data": {
            "text/html": [
              "<div>\n",
              "<style scoped>\n",
              "    .dataframe tbody tr th:only-of-type {\n",
              "        vertical-align: middle;\n",
              "    }\n",
              "\n",
              "    .dataframe tbody tr th {\n",
              "        vertical-align: top;\n",
              "    }\n",
              "\n",
              "    .dataframe thead th {\n",
              "        text-align: right;\n",
              "    }\n",
              "</style>\n",
              "<table border=\"1\" class=\"dataframe\">\n",
              "  <thead>\n",
              "    <tr style=\"text-align: right;\">\n",
              "      <th></th>\n",
              "      <th>target</th>\n",
              "      <th>text</th>\n",
              "    </tr>\n",
              "  </thead>\n",
              "  <tbody>\n",
              "    <tr>\n",
              "      <th>0</th>\n",
              "      <td>1</td>\n",
              "      <td>hi sshatfield I would suggest music of my elec...</td>\n",
              "    </tr>\n",
              "    <tr>\n",
              "      <th>1</th>\n",
              "      <td>1</td>\n",
              "      <td>May you begin this day with a smile on your fa...</td>\n",
              "    </tr>\n",
              "    <tr>\n",
              "      <th>2</th>\n",
              "      <td>0</td>\n",
              "      <td>ddlovato Your Mean</td>\n",
              "    </tr>\n",
              "    <tr>\n",
              "      <th>3</th>\n",
              "      <td>0</td>\n",
              "      <td>Monday right American Red Cross</td>\n",
              "    </tr>\n",
              "    <tr>\n",
              "      <th>4</th>\n",
              "      <td>0</td>\n",
              "      <td>LDrabs32 I wish FL lt PA when it comes to that...</td>\n",
              "    </tr>\n",
              "  </tbody>\n",
              "</table>\n",
              "</div>"
            ],
            "text/plain": [
              "   target                                               text\n",
              "0       1  hi sshatfield I would suggest music of my elec...\n",
              "1       1  May you begin this day with a smile on your fa...\n",
              "2       0                                 ddlovato Your Mean\n",
              "3       0                    Monday right American Red Cross\n",
              "4       0  LDrabs32 I wish FL lt PA when it comes to that..."
            ]
          },
          "metadata": {
            "tags": []
          },
          "execution_count": 59
        }
      ]
    },
    {
      "cell_type": "markdown",
      "metadata": {
        "id": "WAiLRGVBzscz"
      },
      "source": [
        "Clean stopwords from dataset"
      ]
    },
    {
      "cell_type": "code",
      "metadata": {
        "id": "vWW2OsAR4XYu"
      },
      "source": [
        "for i in range(len(data['text'])):\n",
        "\n",
        "  word_tokens = word_tokenize(data['text'][i])\n",
        "  \n",
        "  filtered_sentence = [w for w in word_tokens if not w.lower() in stop_words]\n",
        "  \n",
        "  filtered_sentence = []\n",
        "  \n",
        "  for w in word_tokens:\n",
        "      if w not in stop_words:\n",
        "          filtered_sentence.append(w)\n",
        "  sentence = \" \".join(filtered_sentence)\n",
        "  data.at[i,'text'] = str(sentence)"
      ],
      "execution_count": 60,
      "outputs": []
    },
    {
      "cell_type": "markdown",
      "metadata": {
        "id": "hRUyDgJM1L_g"
      },
      "source": [
        "Tokenize data"
      ]
    },
    {
      "cell_type": "code",
      "metadata": {
        "id": "FjSdDTzfvzj6"
      },
      "source": [
        "tokenizer = Tokenizer()\n",
        "text = data['text'].tolist()\n",
        "ans = tokenizer.fit_on_texts(text)"
      ],
      "execution_count": 61,
      "outputs": []
    },
    {
      "cell_type": "code",
      "metadata": {
        "id": "NP99PFsbvzj7"
      },
      "source": [
        "seq = tokenizer.texts_to_sequences(text)"
      ],
      "execution_count": 62,
      "outputs": []
    },
    {
      "cell_type": "code",
      "metadata": {
        "id": "FB0FQZLovzj8"
      },
      "source": [
        "pad_seq = pad_sequences(seq)"
      ],
      "execution_count": 63,
      "outputs": []
    },
    {
      "cell_type": "markdown",
      "metadata": {
        "id": "68chGmn81j_a"
      },
      "source": [
        "Download GloVe & FastText embeddings"
      ]
    },
    {
      "cell_type": "code",
      "metadata": {
        "id": "DyKCQLHS1qoe"
      },
      "source": [
        "!wget \"http://nlp.stanford.edu/data/glove.6B.zip\"\n",
        "!unzip glove.6B.zip"
      ],
      "execution_count": null,
      "outputs": []
    },
    {
      "cell_type": "code",
      "metadata": {
        "id": "-CbYes0p1qxG"
      },
      "source": [
        "#!wget https://dl.fbaipublicfiles.com/fasttext/vectors-english/wiki-news-300d-1M.vec.zip\n",
        "#!unzip wiki-news-300d-1M.vec.zip"
      ],
      "execution_count": null,
      "outputs": []
    },
    {
      "cell_type": "code",
      "metadata": {
        "id": "mAsWNNF_j7ED"
      },
      "source": [
        "#!cp glove.6B.300d.txt /gdrive/MyDrive/Equipo02-NLP/glove.6B.300d.txt"
      ],
      "execution_count": null,
      "outputs": []
    },
    {
      "cell_type": "code",
      "metadata": {
        "id": "SmHESe4jkO-N"
      },
      "source": [
        "#!cp /content/wiki-news-300d-1M.vec /gdrive/MyDrive/Equipo02-NLP/wiki-news-300d-1M.vec"
      ],
      "execution_count": null,
      "outputs": []
    },
    {
      "cell_type": "markdown",
      "metadata": {
        "id": "Qj7y14YW2Aak"
      },
      "source": [
        "Create embedding matrices\n"
      ]
    },
    {
      "cell_type": "code",
      "metadata": {
        "colab": {
          "base_uri": "https://localhost:8080/"
        },
        "id": "6LfwRaxrvqKb",
        "outputId": "59ed3eaf-26cc-4b80-aca2-9f714fb72ef3"
      },
      "source": [
        "embeddings_index = {}\n",
        "#en caso de que tenga su drive montado, invierta los comentarios en las \n",
        "#siguientes 2 líneas\n",
        "#f = open(path + '/glove.6B.300d.txt')\n",
        "f = open('/glove.6B.300d.txt')\n",
        "for line in f:\n",
        "    values = line.split()\n",
        "    word = values[0]\n",
        "    coefs = np.asarray(values[1:], dtype='float32')\n",
        "    embeddings_index[word] = coefs\n",
        "f.close()\n",
        "\n",
        "print('Found %s word vectors.' % len(embeddings_index))"
      ],
      "execution_count": 64,
      "outputs": [
        {
          "output_type": "stream",
          "text": [
            "Found 400000 word vectors.\n"
          ],
          "name": "stdout"
        }
      ]
    },
    {
      "cell_type": "markdown",
      "metadata": {
        "id": "pEfG9W-GCwMq"
      },
      "source": [
        "Descomentar en caso de que se quiera usar los vectores de FastText"
      ]
    },
    {
      "cell_type": "code",
      "metadata": {
        "colab": {
          "base_uri": "https://localhost:8080/"
        },
        "id": "sQfQcQdB2FMz",
        "outputId": "c443aff7-f376-4aaa-b86f-a01bc5cefb81"
      },
      "source": [
        "# embeddings_index2 = {}\n",
        "# f = open(path + '/wiki-news-300d-1M.vec')\n",
        "# for line in f:\n",
        "#     values = line.split()\n",
        "#     word = values[0]\n",
        "#     coefs = np.asarray(values[1:], dtype='float32')\n",
        "#     embeddings_index2[word] = coefs\n",
        "# f.close()\n",
        "\n",
        "# print('Found %s word vectors.' % len(embeddings_index2))"
      ],
      "execution_count": 65,
      "outputs": [
        {
          "output_type": "stream",
          "text": [
            "Found 999995 word vectors.\n"
          ],
          "name": "stdout"
        }
      ]
    },
    {
      "cell_type": "code",
      "metadata": {
        "colab": {
          "base_uri": "https://localhost:8080/"
        },
        "id": "95lPZI1zvqKc",
        "outputId": "b4a6191a-ddf2-444e-ff43-3308b0948930"
      },
      "source": [
        "word_index = tokenizer.word_index\n",
        "print('Found %s unique tokens.' % len(word_index))"
      ],
      "execution_count": 66,
      "outputs": [
        {
          "output_type": "stream",
          "text": [
            "Found 280405 unique tokens.\n"
          ],
          "name": "stdout"
        }
      ]
    },
    {
      "cell_type": "code",
      "metadata": {
        "id": "WZ1CFn_L3vUz"
      },
      "source": [
        "vocab_size = len(word_index) + 1\n",
        "dim = 300"
      ],
      "execution_count": 67,
      "outputs": []
    },
    {
      "cell_type": "code",
      "metadata": {
        "id": "iVJIesBJvqKc"
      },
      "source": [
        "embedding_matrix = np.zeros((vocab_size, dim))\n",
        "#para fastText\n",
        "#embedding_matrix2 = np.zeros((vocab_size, dim))"
      ],
      "execution_count": 68,
      "outputs": []
    },
    {
      "cell_type": "code",
      "metadata": {
        "id": "yjRlFcGAvqKc"
      },
      "source": [
        "for word, i in word_index.items():\n",
        "    embedding_vector = embeddings_index.get(word)\n",
        "    if embedding_vector is not None:\n",
        "        # words not found in embedding index will be all-zeros.\n",
        "        embedding_matrix[i] = embedding_vector\n",
        "\n",
        "#Para fastText\n",
        "# for word, i in word_index.items():\n",
        "#     embedding_vector = embeddings_index2.get(word)\n",
        "#     if embedding_vector is not None:\n",
        "#         # words not found in embedding index will be all-zeros.\n",
        "#         embedding_matrix2[i] = embedding_vector"
      ],
      "execution_count": 69,
      "outputs": []
    },
    {
      "cell_type": "markdown",
      "metadata": {
        "id": "7Wyzj3jc5vri"
      },
      "source": [
        "#Build Models"
      ]
    },
    {
      "cell_type": "markdown",
      "metadata": {
        "id": "jBsqqArdAEz_"
      },
      "source": [
        "For this project we will implement 3 RNN:\n",
        "\n",
        "* One using LSTM \n",
        "* One using GRU\n",
        "* One using a Bidirectional LSTM\n",
        "\n",
        "Afterwards the predictions generated by each model will enter a democratic assembly model"
      ]
    },
    {
      "cell_type": "code",
      "metadata": {
        "id": "1G8NW4s676r7"
      },
      "source": [
        "y = data['target']"
      ],
      "execution_count": 70,
      "outputs": []
    },
    {
      "cell_type": "markdown",
      "metadata": {
        "id": "laq2JXd0wI43"
      },
      "source": [
        "##First model"
      ]
    },
    {
      "cell_type": "code",
      "metadata": {
        "id": "_cJx1N4DUKbr"
      },
      "source": [
        "def build_model(hp):\n",
        "  model = keras.Sequential()\n",
        "  model.add(keras.layers.Embedding(vocab_size, dim, input_length=300, trainable=False, weights=[embedding_matrix]))\n",
        "  model.add(keras.layers.Bidirectional(keras.layers.LSTM(hp.Choice('units', [10, 30, 60]), dropout= hp.Choice('dropout', [0.1, 0.2, 0.3]), return_sequences=True)))\n",
        "  model.add(keras.layers.GlobalMaxPool1D())\n",
        "  for i in range(hp.Int(\"num_layers\", 1, 4)):\n",
        "        model.add(\n",
        "            keras.layers.Dense(\n",
        "                hp.Choice('units_', [16 ,32, 64, 128]),\n",
        "                activation=\"relu\",\n",
        "            )\n",
        "        )\n",
        "  model.add(keras.layers.Dropout(hp.Choice('rate', [.05, .1, .2])))\n",
        "  model.add(keras.layers.Dense(1, activation='sigmoid'))\n",
        "  model.compile(loss='binary_crossentropy', optimizer='adam', metrics=['accuracy', tf.keras.metrics.Precision(), tf.keras.metrics.Recall()])\n",
        "  return model"
      ],
      "execution_count": null,
      "outputs": []
    },
    {
      "cell_type": "code",
      "metadata": {
        "id": "tQ9EoRTPWSQw"
      },
      "source": [
        "# model1 = kt.RandomSearch(\n",
        "#     build_model,\n",
        "#     objective='val_loss',\n",
        "#     max_trials=5)"
      ],
      "execution_count": null,
      "outputs": []
    },
    {
      "cell_type": "markdown",
      "metadata": {
        "id": "4-jDP5uJdH7L"
      },
      "source": [
        "Backup image results of keras tuner of model 1\n",
        "\n",
        "\n",
        "\n",
        "\n",
        "![image.png](data:image/png;base64,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)"
      ]
    },
    {
      "cell_type": "code",
      "metadata": {
        "colab": {
          "base_uri": "https://localhost:8080/"
        },
        "id": "A5FziABOWTLP",
        "outputId": "abe6512b-13ee-4ac8-9c97-2c5b051fad7b"
      },
      "source": [
        "# model1.search(pad_seq,y,epochs = 50,batch_size=1080,validation_split=0.2)\n",
        "# model1.results_summary()"
      ],
      "execution_count": null,
      "outputs": [
        {
          "output_type": "stream",
          "text": [
            "Trial 5 Complete [00h 12m 26s]\n",
            "val_loss: 0.43519657850265503\n",
            "\n",
            "Best val_loss So Far: 0.4310568869113922\n",
            "Total elapsed time: 00h 53m 09s\n",
            "INFO:tensorflow:Oracle triggered exit\n",
            "Results summary\n",
            "Results in ./untitled_project\n",
            "Showing 10 best trials\n",
            "Objective(name='val_loss', direction='min')\n",
            "Trial summary\n",
            "Hyperparameters:\n",
            "units: 30\n",
            "dropout: 0.3\n",
            "num_layers: 3\n",
            "units_: 32\n",
            "rate: 0.05\n",
            "Score: 0.4310568869113922\n",
            "Trial summary\n",
            "Hyperparameters:\n",
            "units: 30\n",
            "dropout: 0.3\n",
            "num_layers: 2\n",
            "units_: 64\n",
            "rate: 0.2\n",
            "Score: 0.4319404363632202\n",
            "Trial summary\n",
            "Hyperparameters:\n",
            "units: 30\n",
            "dropout: 0.2\n",
            "num_layers: 3\n",
            "units_: 32\n",
            "rate: 0.05\n",
            "Score: 0.43472328782081604\n",
            "Trial summary\n",
            "Hyperparameters:\n",
            "units: 60\n",
            "dropout: 0.2\n",
            "num_layers: 1\n",
            "units_: 16\n",
            "rate: 0.2\n",
            "Score: 0.43519657850265503\n",
            "Trial summary\n",
            "Hyperparameters:\n",
            "units: 10\n",
            "dropout: 0.2\n",
            "num_layers: 1\n",
            "units_: 32\n",
            "rate: 0.1\n",
            "Score: 0.4406653344631195\n"
          ],
          "name": "stdout"
        }
      ]
    },
    {
      "cell_type": "code",
      "metadata": {
        "id": "BJud-2T95vcq"
      },
      "source": [
        "model1 = Sequential()\n",
        "model1.add(Embedding(vocab_size, dim, input_length=300, trainable=False, weights=[embedding_matrix]))\n",
        "model1.add(Bidirectional(LSTM(30, return_sequences=True, dropout=0.3)))\n",
        "model1.add(GlobalMaxPool1D())\n",
        "model1.add(Dense(32, activation='relu'))\n",
        "model1.add(Dense(32, activation='relu'))\n",
        "model1.add(Dense(32, activation='relu'))\n",
        "model1.add(Dropout(.05))\n",
        "model1.add(Dense(1, activation='sigmoid'))\n",
        "\n",
        "model1.compile(loss='binary_crossentropy', optimizer='adam', metrics=['accuracy', Precision(), Recall()])"
      ],
      "execution_count": 63,
      "outputs": []
    },
    {
      "cell_type": "markdown",
      "metadata": {
        "id": "EAkpWfJLDMvZ"
      },
      "source": [
        "En caso de tener pesos descargados y querer evitar el entrenamiento, modifique, descomente y ejecute la siguiente celda"
      ]
    },
    {
      "cell_type": "code",
      "metadata": {
        "colab": {
          "base_uri": "https://localhost:8080/"
        },
        "id": "3Z0CUTNePZgp",
        "outputId": "702f1488-5de1-48b0-f345-321b83bb63d4"
      },
      "source": [
        "model1.load_weights(path + \"/model1.h5\")\n",
        "print(\"Loaded model from disk\")"
      ],
      "execution_count": 64,
      "outputs": [
        {
          "output_type": "stream",
          "text": [
            "Loaded model from disk\n"
          ],
          "name": "stdout"
        }
      ]
    },
    {
      "cell_type": "code",
      "metadata": {
        "colab": {
          "base_uri": "https://localhost:8080/"
        },
        "id": "y9i6mog85vUT",
        "outputId": "f20e4226-5d82-4d68-c380-33e1ce1d409e"
      },
      "source": [
        "#history = model1.fit(pad_seq,y,epochs = 50,batch_size=1080,validation_split=0.2)"
      ],
      "execution_count": null,
      "outputs": [
        {
          "output_type": "stream",
          "text": [
            "Epoch 1/50\n",
            "WARNING:tensorflow:Model was constructed with shape (None, 300) for input KerasTensor(type_spec=TensorSpec(shape=(None, 300), dtype=tf.float32, name='embedding_input'), name='embedding_input', description=\"created by layer 'embedding_input'\"), but it was called on an input with incompatible shape (None, 41).\n",
            "WARNING:tensorflow:Model was constructed with shape (None, 300) for input KerasTensor(type_spec=TensorSpec(shape=(None, 300), dtype=tf.float32, name='embedding_input'), name='embedding_input', description=\"created by layer 'embedding_input'\"), but it was called on an input with incompatible shape (None, 41).\n",
            "296/297 [============================>.] - ETA: 0s - loss: 0.5820 - accuracy: 0.6878 - precision: 0.6934 - recall: 0.6778WARNING:tensorflow:Model was constructed with shape (None, 300) for input KerasTensor(type_spec=TensorSpec(shape=(None, 300), dtype=tf.float32, name='embedding_input'), name='embedding_input', description=\"created by layer 'embedding_input'\"), but it was called on an input with incompatible shape (None, 41).\n",
            "297/297 [==============================] - 25s 45ms/step - loss: 0.5817 - accuracy: 0.6881 - precision: 0.6937 - recall: 0.6780 - val_loss: 0.4787 - val_accuracy: 0.7706 - val_precision: 0.7711 - val_recall: 0.7649\n",
            "Epoch 2/50\n",
            "297/297 [==============================] - 12s 40ms/step - loss: 0.4897 - accuracy: 0.7613 - precision: 0.7684 - recall: 0.7500 - val_loss: 0.4612 - val_accuracy: 0.7809 - val_precision: 0.7738 - val_recall: 0.7894\n",
            "Epoch 3/50\n",
            "297/297 [==============================] - 12s 40ms/step - loss: 0.4720 - accuracy: 0.7737 - precision: 0.7766 - recall: 0.7685 - val_loss: 0.4541 - val_accuracy: 0.7851 - val_precision: 0.7747 - val_recall: 0.7998\n",
            "Epoch 4/50\n",
            "297/297 [==============================] - 12s 39ms/step - loss: 0.4622 - accuracy: 0.7791 - precision: 0.7820 - recall: 0.7749 - val_loss: 0.4483 - val_accuracy: 0.7887 - val_precision: 0.7967 - val_recall: 0.7712\n",
            "Epoch 5/50\n",
            "297/297 [==============================] - 12s 39ms/step - loss: 0.4541 - accuracy: 0.7839 - precision: 0.7871 - recall: 0.7800 - val_loss: 0.4477 - val_accuracy: 0.7896 - val_precision: 0.7726 - val_recall: 0.8166\n",
            "Epoch 6/50\n",
            "297/297 [==============================] - 12s 40ms/step - loss: 0.4476 - accuracy: 0.7894 - precision: 0.7927 - recall: 0.7848 - val_loss: 0.4448 - val_accuracy: 0.7924 - val_precision: 0.7827 - val_recall: 0.8056\n",
            "Epoch 7/50\n",
            "297/297 [==============================] - 12s 40ms/step - loss: 0.4448 - accuracy: 0.7901 - precision: 0.7914 - recall: 0.7877 - val_loss: 0.4409 - val_accuracy: 0.7945 - val_precision: 0.7945 - val_recall: 0.7905\n",
            "Epoch 8/50\n",
            "297/297 [==============================] - 12s 39ms/step - loss: 0.4422 - accuracy: 0.7926 - precision: 0.7938 - recall: 0.7903 - val_loss: 0.4401 - val_accuracy: 0.7945 - val_precision: 0.7959 - val_recall: 0.7882\n",
            "Epoch 9/50\n",
            "297/297 [==============================] - 12s 39ms/step - loss: 0.4398 - accuracy: 0.7935 - precision: 0.7968 - recall: 0.7900 - val_loss: 0.4394 - val_accuracy: 0.7948 - val_precision: 0.8011 - val_recall: 0.7805\n",
            "Epoch 10/50\n",
            "297/297 [==============================] - 12s 39ms/step - loss: 0.4361 - accuracy: 0.7959 - precision: 0.7975 - recall: 0.7933 - val_loss: 0.4373 - val_accuracy: 0.7952 - val_precision: 0.7958 - val_recall: 0.7903\n",
            "Epoch 11/50\n",
            "297/297 [==============================] - 12s 39ms/step - loss: 0.4337 - accuracy: 0.7970 - precision: 0.7976 - recall: 0.7972 - val_loss: 0.4412 - val_accuracy: 0.7968 - val_precision: 0.7875 - val_recall: 0.8089\n",
            "Epoch 12/50\n",
            "297/297 [==============================] - 12s 39ms/step - loss: 0.4328 - accuracy: 0.7970 - precision: 0.7998 - recall: 0.7950 - val_loss: 0.4372 - val_accuracy: 0.7955 - val_precision: 0.8093 - val_recall: 0.7693\n",
            "Epoch 13/50\n",
            "297/297 [==============================] - 12s 40ms/step - loss: 0.4307 - accuracy: 0.7995 - precision: 0.8020 - recall: 0.7960 - val_loss: 0.4361 - val_accuracy: 0.7969 - val_precision: 0.8067 - val_recall: 0.7771\n",
            "Epoch 14/50\n",
            "297/297 [==============================] - 12s 39ms/step - loss: 0.4283 - accuracy: 0.8010 - precision: 0.8022 - recall: 0.8011 - val_loss: 0.4353 - val_accuracy: 0.7967 - val_precision: 0.8056 - val_recall: 0.7783\n",
            "Epoch 15/50\n",
            "297/297 [==============================] - 12s 39ms/step - loss: 0.4275 - accuracy: 0.8009 - precision: 0.8025 - recall: 0.7973 - val_loss: 0.4360 - val_accuracy: 0.7977 - val_precision: 0.7924 - val_recall: 0.8029\n",
            "Epoch 16/50\n",
            "297/297 [==============================] - 12s 39ms/step - loss: 0.4245 - accuracy: 0.8017 - precision: 0.8023 - recall: 0.8020 - val_loss: 0.4336 - val_accuracy: 0.7987 - val_precision: 0.8030 - val_recall: 0.7877\n",
            "Epoch 17/50\n",
            "297/297 [==============================] - 12s 40ms/step - loss: 0.4228 - accuracy: 0.8029 - precision: 0.8051 - recall: 0.7976 - val_loss: 0.4351 - val_accuracy: 0.7984 - val_precision: 0.7908 - val_recall: 0.8076\n",
            "Epoch 18/50\n",
            "297/297 [==============================] - 12s 40ms/step - loss: 0.4219 - accuracy: 0.8033 - precision: 0.8039 - recall: 0.8035 - val_loss: 0.4337 - val_accuracy: 0.7981 - val_precision: 0.7961 - val_recall: 0.7977\n",
            "Epoch 19/50\n",
            "297/297 [==============================] - 12s 40ms/step - loss: 0.4206 - accuracy: 0.8059 - precision: 0.8057 - recall: 0.8073 - val_loss: 0.4348 - val_accuracy: 0.7972 - val_precision: 0.7810 - val_recall: 0.8220\n",
            "Epoch 20/50\n",
            "297/297 [==============================] - 12s 40ms/step - loss: 0.4187 - accuracy: 0.8057 - precision: 0.8055 - recall: 0.8063 - val_loss: 0.4319 - val_accuracy: 0.7988 - val_precision: 0.7950 - val_recall: 0.8013\n",
            "Epoch 21/50\n",
            "297/297 [==============================] - 12s 39ms/step - loss: 0.4182 - accuracy: 0.8061 - precision: 0.8055 - recall: 0.8078 - val_loss: 0.4331 - val_accuracy: 0.7983 - val_precision: 0.8007 - val_recall: 0.7906\n",
            "Epoch 22/50\n",
            "297/297 [==============================] - 12s 40ms/step - loss: 0.4177 - accuracy: 0.8064 - precision: 0.8072 - recall: 0.8062 - val_loss: 0.4366 - val_accuracy: 0.7976 - val_precision: 0.8052 - val_recall: 0.7815\n",
            "Epoch 23/50\n",
            "297/297 [==============================] - 12s 40ms/step - loss: 0.4159 - accuracy: 0.8077 - precision: 0.8090 - recall: 0.8057 - val_loss: 0.4365 - val_accuracy: 0.7977 - val_precision: 0.7808 - val_recall: 0.8238\n",
            "Epoch 24/50\n",
            "297/297 [==============================] - 12s 40ms/step - loss: 0.4163 - accuracy: 0.8069 - precision: 0.8090 - recall: 0.8062 - val_loss: 0.4355 - val_accuracy: 0.7983 - val_precision: 0.7866 - val_recall: 0.8148\n",
            "Epoch 25/50\n",
            "297/297 [==============================] - 12s 40ms/step - loss: 0.4137 - accuracy: 0.8086 - precision: 0.8094 - recall: 0.8094 - val_loss: 0.4329 - val_accuracy: 0.7986 - val_precision: 0.7914 - val_recall: 0.8071\n",
            "Epoch 26/50\n",
            "297/297 [==============================] - 12s 40ms/step - loss: 0.4149 - accuracy: 0.8068 - precision: 0.8056 - recall: 0.8091 - val_loss: 0.4319 - val_accuracy: 0.7984 - val_precision: 0.7897 - val_recall: 0.8094\n",
            "Epoch 27/50\n",
            "297/297 [==============================] - 12s 40ms/step - loss: 0.4132 - accuracy: 0.8090 - precision: 0.8092 - recall: 0.8104 - val_loss: 0.4325 - val_accuracy: 0.7983 - val_precision: 0.8013 - val_recall: 0.7896\n",
            "Epoch 28/50\n",
            "297/297 [==============================] - 12s 40ms/step - loss: 0.4124 - accuracy: 0.8093 - precision: 0.8108 - recall: 0.8069 - val_loss: 0.4353 - val_accuracy: 0.7978 - val_precision: 0.8075 - val_recall: 0.7783\n",
            "Epoch 29/50\n",
            "297/297 [==============================] - 12s 39ms/step - loss: 0.4115 - accuracy: 0.8109 - precision: 0.8100 - recall: 0.8129 - val_loss: 0.4332 - val_accuracy: 0.7989 - val_precision: 0.7966 - val_recall: 0.7988\n",
            "Epoch 30/50\n",
            "297/297 [==============================] - 12s 39ms/step - loss: 0.4100 - accuracy: 0.8102 - precision: 0.8103 - recall: 0.8109 - val_loss: 0.4328 - val_accuracy: 0.7969 - val_precision: 0.7762 - val_recall: 0.8304\n",
            "Epoch 31/50\n",
            "297/297 [==============================] - 12s 40ms/step - loss: 0.4095 - accuracy: 0.8119 - precision: 0.8088 - recall: 0.8176 - val_loss: 0.4331 - val_accuracy: 0.7990 - val_precision: 0.7941 - val_recall: 0.8036\n",
            "Epoch 32/50\n",
            "297/297 [==============================] - 12s 40ms/step - loss: 0.4098 - accuracy: 0.8110 - precision: 0.8117 - recall: 0.8109 - val_loss: 0.4321 - val_accuracy: 0.7991 - val_precision: 0.7945 - val_recall: 0.8032\n",
            "Epoch 33/50\n",
            "297/297 [==============================] - 12s 40ms/step - loss: 0.4069 - accuracy: 0.8127 - precision: 0.8138 - recall: 0.8129 - val_loss: 0.4382 - val_accuracy: 0.7961 - val_precision: 0.8182 - val_recall: 0.7576\n",
            "Epoch 34/50\n",
            "297/297 [==============================] - 12s 39ms/step - loss: 0.4079 - accuracy: 0.8124 - precision: 0.8136 - recall: 0.8108 - val_loss: 0.4380 - val_accuracy: 0.7961 - val_precision: 0.8170 - val_recall: 0.7593\n",
            "Epoch 35/50\n",
            "297/297 [==============================] - 12s 39ms/step - loss: 0.4080 - accuracy: 0.8115 - precision: 0.8142 - recall: 0.8091 - val_loss: 0.4355 - val_accuracy: 0.7979 - val_precision: 0.8059 - val_recall: 0.7811\n",
            "Epoch 36/50\n",
            "297/297 [==============================] - 12s 39ms/step - loss: 0.4061 - accuracy: 0.8134 - precision: 0.8126 - recall: 0.8149 - val_loss: 0.4368 - val_accuracy: 0.7971 - val_precision: 0.8145 - val_recall: 0.7657\n",
            "Epoch 37/50\n",
            "297/297 [==============================] - 12s 40ms/step - loss: 0.4055 - accuracy: 0.8134 - precision: 0.8139 - recall: 0.8138 - val_loss: 0.4334 - val_accuracy: 0.7988 - val_precision: 0.7967 - val_recall: 0.7983\n",
            "Epoch 38/50\n",
            "297/297 [==============================] - 12s 40ms/step - loss: 0.4065 - accuracy: 0.8117 - precision: 0.8129 - recall: 0.8107 - val_loss: 0.4345 - val_accuracy: 0.7979 - val_precision: 0.8033 - val_recall: 0.7850\n",
            "Epoch 39/50\n",
            "297/297 [==============================] - 12s 39ms/step - loss: 0.4049 - accuracy: 0.8134 - precision: 0.8144 - recall: 0.8142 - val_loss: 0.4348 - val_accuracy: 0.7992 - val_precision: 0.8038 - val_recall: 0.7878\n",
            "Epoch 40/50\n",
            "297/297 [==============================] - 12s 39ms/step - loss: 0.4032 - accuracy: 0.8139 - precision: 0.8133 - recall: 0.8152 - val_loss: 0.4350 - val_accuracy: 0.8002 - val_precision: 0.8056 - val_recall: 0.7874\n",
            "Epoch 41/50\n",
            "297/297 [==============================] - 12s 39ms/step - loss: 0.4045 - accuracy: 0.8133 - precision: 0.8126 - recall: 0.8142 - val_loss: 0.4323 - val_accuracy: 0.7992 - val_precision: 0.7930 - val_recall: 0.8059\n",
            "Epoch 42/50\n",
            "297/297 [==============================] - 12s 39ms/step - loss: 0.4042 - accuracy: 0.8147 - precision: 0.8142 - recall: 0.8164 - val_loss: 0.4373 - val_accuracy: 0.7990 - val_precision: 0.7851 - val_recall: 0.8194\n",
            "Epoch 43/50\n",
            "297/297 [==============================] - 12s 40ms/step - loss: 0.4040 - accuracy: 0.8137 - precision: 0.8133 - recall: 0.8148 - val_loss: 0.4362 - val_accuracy: 0.7993 - val_precision: 0.7934 - val_recall: 0.8055\n",
            "Epoch 44/50\n",
            "297/297 [==============================] - 12s 40ms/step - loss: 0.4016 - accuracy: 0.8150 - precision: 0.8144 - recall: 0.8170 - val_loss: 0.4353 - val_accuracy: 0.7979 - val_precision: 0.8074 - val_recall: 0.7785\n",
            "Epoch 45/50\n",
            "297/297 [==============================] - 12s 39ms/step - loss: 0.4037 - accuracy: 0.8139 - precision: 0.8161 - recall: 0.8115 - val_loss: 0.4333 - val_accuracy: 0.7992 - val_precision: 0.7992 - val_recall: 0.7955\n",
            "Epoch 46/50\n",
            "297/297 [==============================] - 12s 39ms/step - loss: 0.4017 - accuracy: 0.8159 - precision: 0.8172 - recall: 0.8157 - val_loss: 0.4331 - val_accuracy: 0.7989 - val_precision: 0.7897 - val_recall: 0.8108\n",
            "Epoch 47/50\n",
            "297/297 [==============================] - 12s 39ms/step - loss: 0.4012 - accuracy: 0.8154 - precision: 0.8155 - recall: 0.8152 - val_loss: 0.4347 - val_accuracy: 0.7991 - val_precision: 0.7966 - val_recall: 0.7995\n",
            "Epoch 48/50\n",
            "297/297 [==============================] - 12s 40ms/step - loss: 0.3989 - accuracy: 0.8163 - precision: 0.8143 - recall: 0.8210 - val_loss: 0.4345 - val_accuracy: 0.7980 - val_precision: 0.8098 - val_recall: 0.7753\n",
            "Epoch 49/50\n",
            "297/297 [==============================] - 12s 40ms/step - loss: 0.4022 - accuracy: 0.8154 - precision: 0.8179 - recall: 0.8129 - val_loss: 0.4390 - val_accuracy: 0.7969 - val_precision: 0.8174 - val_recall: 0.7608\n",
            "Epoch 50/50\n",
            "297/297 [==============================] - 12s 40ms/step - loss: 0.4000 - accuracy: 0.8165 - precision: 0.8184 - recall: 0.8143 - val_loss: 0.4342 - val_accuracy: 0.7971 - val_precision: 0.8150 - val_recall: 0.7649\n"
          ],
          "name": "stdout"
        }
      ]
    },
    {
      "cell_type": "code",
      "metadata": {
        "colab": {
          "base_uri": "https://localhost:8080/",
          "height": 312
        },
        "id": "c52ffRf95vLm",
        "outputId": "1faf9204-e423-4c34-cd7d-50de1e27128b"
      },
      "source": [
        "# print(history.history.keys())\n",
        "# # summarize history for accuracy\n",
        "# plt.plot(history.history['accuracy'])\n",
        "# plt.plot(history.history['val_accuracy'])\n",
        "# plt.title('model accuracy')\n",
        "# plt.ylabel('accuracy')\n",
        "# plt.xlabel('epoch')\n",
        "# plt.legend(['train', 'test'], loc='upper left')\n",
        "# plt.show()"
      ],
      "execution_count": null,
      "outputs": [
        {
          "output_type": "stream",
          "text": [
            "dict_keys(['loss', 'accuracy', 'precision', 'recall', 'val_loss', 'val_accuracy', 'val_precision', 'val_recall'])\n"
          ],
          "name": "stdout"
        },
        {
          "output_type": "display_data",
          "data": {
            "image/png": "[encoded data removed]",
            "text/plain": [
              "<Figure size 432x288 with 1 Axes>"
            ]
          },
          "metadata": {
            "tags": [],
            "needs_background": "light"
          }
        }
      ]
    },
    {
      "cell_type": "code",
      "metadata": {
        "colab": {
          "base_uri": "https://localhost:8080/",
          "height": 312
        },
        "id": "e8Yqtw1fAuIs",
        "outputId": "1872acdd-aba4-4d6d-c29f-f3e13ec0d545"
      },
      "source": [
        "# print(history.history.keys())\n",
        "# # summarize history for precision\n",
        "# plt.plot(history.history['precision'])\n",
        "# plt.plot(history.history['val_precision'])\n",
        "# plt.title('model precision')\n",
        "# plt.ylabel('precision')\n",
        "# plt.xlabel('epoch')\n",
        "# plt.legend(['train', 'test'], loc='upper left')\n",
        "# plt.show()"
      ],
      "execution_count": null,
      "outputs": [
        {
          "output_type": "stream",
          "text": [
            "dict_keys(['loss', 'accuracy', 'precision', 'recall', 'val_loss', 'val_accuracy', 'val_precision', 'val_recall'])\n"
          ],
          "name": "stdout"
        },
        {
          "output_type": "display_data",
          "data": {
            "image/png": "[encoded data removed]",
            "text/plain": [
              "<Figure size 432x288 with 1 Axes>"
            ]
          },
          "metadata": {
            "tags": [],
            "needs_background": "light"
          }
        }
      ]
    },
    {
      "cell_type": "code",
      "metadata": {
        "colab": {
          "base_uri": "https://localhost:8080/",
          "height": 312
        },
        "id": "CyelSqzSAt_X",
        "outputId": "3534f83c-e5ec-4aa4-dbec-e25c835946bd"
      },
      "source": [
        "# print(history.history.keys())\n",
        "# # summarize history for recall\n",
        "# plt.plot(history.history['recall'])\n",
        "# plt.plot(history.history['val_recall'])\n",
        "# plt.title('model recall')\n",
        "# plt.ylabel('recall')\n",
        "# plt.xlabel('epoch')\n",
        "# plt.legend(['train', 'test'], loc='upper left')\n",
        "# plt.show()"
      ],
      "execution_count": null,
      "outputs": [
        {
          "output_type": "stream",
          "text": [
            "dict_keys(['loss', 'accuracy', 'precision', 'recall', 'val_loss', 'val_accuracy', 'val_precision', 'val_recall'])\n"
          ],
          "name": "stdout"
        },
        {
          "output_type": "display_data",
          "data": {
            "image/png": "[encoded data removed]",
            "text/plain": [
              "<Figure size 432x288 with 1 Axes>"
            ]
          },
          "metadata": {
            "tags": [],
            "needs_background": "light"
          }
        }
      ]
    },
    {
      "cell_type": "markdown",
      "metadata": {
        "id": "COVWyXmFDdz2"
      },
      "source": [
        "Si realizó el entrenamiento y desea guardar los pesos para futuras ocasiones, descomente y ejecute la siguiente celda"
      ]
    },
    {
      "cell_type": "code",
      "metadata": {
        "colab": {
          "base_uri": "https://localhost:8080/"
        },
        "id": "aYuAxj1FE3_d",
        "outputId": "2bd69bc4-36c2-4ebb-c29d-a629b288b3b4"
      },
      "source": [
        "#model1.save_weights(path + \"/model1.h5\")\n",
        "#print(\"Saved model1 to drive\")\n",
        " "
      ],
      "execution_count": null,
      "outputs": [
        {
          "output_type": "stream",
          "text": [
            "Saved model1 to drive\n"
          ],
          "name": "stdout"
        }
      ]
    },
    {
      "cell_type": "markdown",
      "metadata": {
        "id": "pTQJiROGoJcN"
      },
      "source": [
        "##Second Model"
      ]
    },
    {
      "cell_type": "code",
      "metadata": {
        "id": "f5KoZ6MeEPDd"
      },
      "source": [
        "def create_model():\n",
        "  model2 = Sequential()\n",
        "  model2.add(Embedding(vocab_size, dim, input_length=300, trainable=False, weights=[embedding_matrix]))\n",
        "  model2.add(GRU(60, return_sequences=True, dropout=0.2))\n",
        "  model2.add(SimpleRNN(128))\n",
        "  model2.add(Dense(10))\n",
        "  model2.add(Dropout(.2))\n",
        "  model2.add(Dense(32, activation='relu'))\n",
        "  model2.add(Dense(1, activation='sigmoid'))\n",
        "\n",
        "  model2.compile(loss='binary_crossentropy', optimizer='adam', metrics=['accuracy', Precision(), Recall()])\n",
        "  history2 = model2.fit(pad_seq,y,epochs = 30,validation_split=0.2)\n",
        "  model2.save_weights(path + \"/model2.h5\")\n",
        "  print(\"Saved model2 weights to drive\")\n",
        "  print(\"\\n\\n\\n----------------------------\\n\\n\\n\")\n",
        "  model2.summary()"
      ],
      "execution_count": null,
      "outputs": []
    },
    {
      "cell_type": "markdown",
      "metadata": {
        "id": "tYI4HWnrDrz3"
      },
      "source": [
        "El siguiente modelo requiere de potencia computacional, por lo que si se hará el entrenamiento, se recomienda el uso de TPU, para activarla descomente y ejecute las siguientes 2 celdas"
      ]
    },
    {
      "cell_type": "code",
      "metadata": {
        "id": "ld6vhrpLZwy-",
        "colab": {
          "base_uri": "https://localhost:8080/"
        },
        "outputId": "79bbcc16-f9e5-44ad-9670-5ad94dd46f36"
      },
      "source": [
        "import os\n",
        "# try:\n",
        "#  device_name = os.environ['COLAB_TPU_ADDR']\n",
        "#  TPU_ADDRESS = 'grpc://' + device_name\n",
        "#  print('Found TPU at: {}'.format(TPU_ADDRESS))\n",
        "# except KeyError:\n",
        "#  print('TPU not found')"
      ],
      "execution_count": null,
      "outputs": [
        {
          "output_type": "stream",
          "text": [
            "Found TPU at: grpc://10.98.253.218:8470\n"
          ],
          "name": "stdout"
        }
      ]
    },
    {
      "cell_type": "code",
      "metadata": {
        "id": "_wsHuP48a0zu",
        "colab": {
          "base_uri": "https://localhost:8080/"
        },
        "outputId": "8af8e2c8-a660-4e83-c7a6-be21feb1002f"
      },
      "source": [
        "# import tensorflow as tf\n",
        "# use_tpu = True\n",
        "# if use_tpu:\n",
        "#     # Create distribution strategy\n",
        "#     tpu = tf.distribute.cluster_resolver.TPUClusterResolver(tpu=TPU_ADDRESS)\n",
        "#     tf.config.experimental_connect_to_cluster(tpu)\n",
        "#     tf.tpu.experimental.initialize_tpu_system(tpu)\n",
        "#     strategy = tf.distribute.experimental.TPUStrategy(tpu)\n",
        "\n",
        "#     # Create model\n",
        "#     with strategy.scope():\n",
        "#         model = create_model()\n",
        "# else:\n",
        "#     model = create_model()"
      ],
      "execution_count": null,
      "outputs": [
        {
          "output_type": "stream",
          "text": [
            "WARNING:tensorflow:TPU system grpc://10.98.253.218:8470 has already been initialized. Reinitializing the TPU can cause previously created variables on TPU to be lost.\n"
          ],
          "name": "stdout"
        },
        {
          "output_type": "stream",
          "text": [
            "WARNING:tensorflow:TPU system grpc://10.98.253.218:8470 has already been initialized. Reinitializing the TPU can cause previously created variables on TPU to be lost.\n"
          ],
          "name": "stderr"
        },
        {
          "output_type": "stream",
          "text": [
            "INFO:tensorflow:Initializing the TPU system: grpc://10.98.253.218:8470\n"
          ],
          "name": "stdout"
        },
        {
          "output_type": "stream",
          "text": [
            "INFO:tensorflow:Initializing the TPU system: grpc://10.98.253.218:8470\n"
          ],
          "name": "stderr"
        },
        {
          "output_type": "stream",
          "text": [
            "INFO:tensorflow:Clearing out eager caches\n"
          ],
          "name": "stdout"
        },
        {
          "output_type": "stream",
          "text": [
            "INFO:tensorflow:Clearing out eager caches\n"
          ],
          "name": "stderr"
        },
        {
          "output_type": "stream",
          "text": [
            "INFO:tensorflow:Finished initializing TPU system.\n"
          ],
          "name": "stdout"
        },
        {
          "output_type": "stream",
          "text": [
            "INFO:tensorflow:Finished initializing TPU system.\n",
            "WARNING:absl:`tf.distribute.experimental.TPUStrategy` is deprecated, please use  the non experimental symbol `tf.distribute.TPUStrategy` instead.\n"
          ],
          "name": "stderr"
        },
        {
          "output_type": "stream",
          "text": [
            "INFO:tensorflow:Found TPU system:\n"
          ],
          "name": "stdout"
        },
        {
          "output_type": "stream",
          "text": [
            "INFO:tensorflow:Found TPU system:\n"
          ],
          "name": "stderr"
        },
        {
          "output_type": "stream",
          "text": [
            "INFO:tensorflow:*** Num TPU Cores: 8\n"
          ],
          "name": "stdout"
        },
        {
          "output_type": "stream",
          "text": [
            "INFO:tensorflow:*** Num TPU Cores: 8\n"
          ],
          "name": "stderr"
        },
        {
          "output_type": "stream",
          "text": [
            "INFO:tensorflow:*** Num TPU Workers: 1\n"
          ],
          "name": "stdout"
        },
        {
          "output_type": "stream",
          "text": [
            "INFO:tensorflow:*** Num TPU Workers: 1\n"
          ],
          "name": "stderr"
        },
        {
          "output_type": "stream",
          "text": [
            "INFO:tensorflow:*** Num TPU Cores Per Worker: 8\n"
          ],
          "name": "stdout"
        },
        {
          "output_type": "stream",
          "text": [
            "INFO:tensorflow:*** Num TPU Cores Per Worker: 8\n"
          ],
          "name": "stderr"
        },
        {
          "output_type": "stream",
          "text": [
            "INFO:tensorflow:*** Available Device: _DeviceAttributes(/job:localhost/replica:0/task:0/device:CPU:0, CPU, 0, 0)\n"
          ],
          "name": "stdout"
        },
        {
          "output_type": "stream",
          "text": [
            "INFO:tensorflow:*** Available Device: _DeviceAttributes(/job:localhost/replica:0/task:0/device:CPU:0, CPU, 0, 0)\n"
          ],
          "name": "stderr"
        },
        {
          "output_type": "stream",
          "text": [
            "INFO:tensorflow:*** Available Device: _DeviceAttributes(/job:worker/replica:0/task:0/device:CPU:0, CPU, 0, 0)\n"
          ],
          "name": "stdout"
        },
        {
          "output_type": "stream",
          "text": [
            "INFO:tensorflow:*** Available Device: _DeviceAttributes(/job:worker/replica:0/task:0/device:CPU:0, CPU, 0, 0)\n"
          ],
          "name": "stderr"
        },
        {
          "output_type": "stream",
          "text": [
            "INFO:tensorflow:*** Available Device: _DeviceAttributes(/job:worker/replica:0/task:0/device:TPU:0, TPU, 0, 0)\n"
          ],
          "name": "stdout"
        },
        {
          "output_type": "stream",
          "text": [
            "INFO:tensorflow:*** Available Device: _DeviceAttributes(/job:worker/replica:0/task:0/device:TPU:0, TPU, 0, 0)\n"
          ],
          "name": "stderr"
        },
        {
          "output_type": "stream",
          "text": [
            "INFO:tensorflow:*** Available Device: _DeviceAttributes(/job:worker/replica:0/task:0/device:TPU:1, TPU, 0, 0)\n"
          ],
          "name": "stdout"
        },
        {
          "output_type": "stream",
          "text": [
            "INFO:tensorflow:*** Available Device: _DeviceAttributes(/job:worker/replica:0/task:0/device:TPU:1, TPU, 0, 0)\n"
          ],
          "name": "stderr"
        },
        {
          "output_type": "stream",
          "text": [
            "INFO:tensorflow:*** Available Device: _DeviceAttributes(/job:worker/replica:0/task:0/device:TPU:2, TPU, 0, 0)\n"
          ],
          "name": "stdout"
        },
        {
          "output_type": "stream",
          "text": [
            "INFO:tensorflow:*** Available Device: _DeviceAttributes(/job:worker/replica:0/task:0/device:TPU:2, TPU, 0, 0)\n"
          ],
          "name": "stderr"
        },
        {
          "output_type": "stream",
          "text": [
            "INFO:tensorflow:*** Available Device: _DeviceAttributes(/job:worker/replica:0/task:0/device:TPU:3, TPU, 0, 0)\n"
          ],
          "name": "stdout"
        },
        {
          "output_type": "stream",
          "text": [
            "INFO:tensorflow:*** Available Device: _DeviceAttributes(/job:worker/replica:0/task:0/device:TPU:3, TPU, 0, 0)\n"
          ],
          "name": "stderr"
        },
        {
          "output_type": "stream",
          "text": [
            "INFO:tensorflow:*** Available Device: _DeviceAttributes(/job:worker/replica:0/task:0/device:TPU:4, TPU, 0, 0)\n"
          ],
          "name": "stdout"
        },
        {
          "output_type": "stream",
          "text": [
            "INFO:tensorflow:*** Available Device: _DeviceAttributes(/job:worker/replica:0/task:0/device:TPU:4, TPU, 0, 0)\n"
          ],
          "name": "stderr"
        },
        {
          "output_type": "stream",
          "text": [
            "INFO:tensorflow:*** Available Device: _DeviceAttributes(/job:worker/replica:0/task:0/device:TPU:5, TPU, 0, 0)\n"
          ],
          "name": "stdout"
        },
        {
          "output_type": "stream",
          "text": [
            "INFO:tensorflow:*** Available Device: _DeviceAttributes(/job:worker/replica:0/task:0/device:TPU:5, TPU, 0, 0)\n"
          ],
          "name": "stderr"
        },
        {
          "output_type": "stream",
          "text": [
            "INFO:tensorflow:*** Available Device: _DeviceAttributes(/job:worker/replica:0/task:0/device:TPU:6, TPU, 0, 0)\n"
          ],
          "name": "stdout"
        },
        {
          "output_type": "stream",
          "text": [
            "INFO:tensorflow:*** Available Device: _DeviceAttributes(/job:worker/replica:0/task:0/device:TPU:6, TPU, 0, 0)\n"
          ],
          "name": "stderr"
        },
        {
          "output_type": "stream",
          "text": [
            "INFO:tensorflow:*** Available Device: _DeviceAttributes(/job:worker/replica:0/task:0/device:TPU:7, TPU, 0, 0)\n"
          ],
          "name": "stdout"
        },
        {
          "output_type": "stream",
          "text": [
            "INFO:tensorflow:*** Available Device: _DeviceAttributes(/job:worker/replica:0/task:0/device:TPU:7, TPU, 0, 0)\n"
          ],
          "name": "stderr"
        },
        {
          "output_type": "stream",
          "text": [
            "INFO:tensorflow:*** Available Device: _DeviceAttributes(/job:worker/replica:0/task:0/device:TPU_SYSTEM:0, TPU_SYSTEM, 0, 0)\n"
          ],
          "name": "stdout"
        },
        {
          "output_type": "stream",
          "text": [
            "INFO:tensorflow:*** Available Device: _DeviceAttributes(/job:worker/replica:0/task:0/device:TPU_SYSTEM:0, TPU_SYSTEM, 0, 0)\n"
          ],
          "name": "stderr"
        },
        {
          "output_type": "stream",
          "text": [
            "INFO:tensorflow:*** Available Device: _DeviceAttributes(/job:worker/replica:0/task:0/device:XLA_CPU:0, XLA_CPU, 0, 0)\n"
          ],
          "name": "stdout"
        },
        {
          "output_type": "stream",
          "text": [
            "INFO:tensorflow:*** Available Device: _DeviceAttributes(/job:worker/replica:0/task:0/device:XLA_CPU:0, XLA_CPU, 0, 0)\n"
          ],
          "name": "stderr"
        },
        {
          "output_type": "stream",
          "text": [
            "Epoch 1/30\n",
            "WARNING:tensorflow:Model was constructed with shape (None, 300) for input KerasTensor(type_spec=TensorSpec(shape=(None, 300), dtype=tf.float32, name='embedding_1_input'), name='embedding_1_input', description=\"created by layer 'embedding_1_input'\"), but it was called on an input with incompatible shape (4, 41).\n"
          ],
          "name": "stdout"
        },
        {
          "output_type": "stream",
          "text": [
            "WARNING:tensorflow:Model was constructed with shape (None, 300) for input KerasTensor(type_spec=TensorSpec(shape=(None, 300), dtype=tf.float32, name='embedding_1_input'), name='embedding_1_input', description=\"created by layer 'embedding_1_input'\"), but it was called on an input with incompatible shape (4, 41).\n"
          ],
          "name": "stderr"
        },
        {
          "output_type": "stream",
          "text": [
            "WARNING:tensorflow:Model was constructed with shape (None, 300) for input KerasTensor(type_spec=TensorSpec(shape=(None, 300), dtype=tf.float32, name='embedding_1_input'), name='embedding_1_input', description=\"created by layer 'embedding_1_input'\"), but it was called on an input with incompatible shape (4, 41).\n"
          ],
          "name": "stdout"
        },
        {
          "output_type": "stream",
          "text": [
            "WARNING:tensorflow:Model was constructed with shape (None, 300) for input KerasTensor(type_spec=TensorSpec(shape=(None, 300), dtype=tf.float32, name='embedding_1_input'), name='embedding_1_input', description=\"created by layer 'embedding_1_input'\"), but it was called on an input with incompatible shape (4, 41).\n"
          ],
          "name": "stderr"
        },
        {
          "output_type": "stream",
          "text": [
            "10000/10000 [==============================] - ETA: 0s - loss: 0.5335 - accuracy: 0.7298 - precision_1: 0.7389 - recall_1: 0.7074WARNING:tensorflow:Model was constructed with shape (None, 300) for input KerasTensor(type_spec=TensorSpec(shape=(None, 300), dtype=tf.float32, name='embedding_1_input'), name='embedding_1_input', description=\"created by layer 'embedding_1_input'\"), but it was called on an input with incompatible shape (4, 41).\n"
          ],
          "name": "stdout"
        },
        {
          "output_type": "stream",
          "text": [
            "WARNING:tensorflow:Model was constructed with shape (None, 300) for input KerasTensor(type_spec=TensorSpec(shape=(None, 300), dtype=tf.float32, name='embedding_1_input'), name='embedding_1_input', description=\"created by layer 'embedding_1_input'\"), but it was called on an input with incompatible shape (4, 41).\n"
          ],
          "name": "stderr"
        },
        {
          "output_type": "stream",
          "text": [
            "10000/10000 [==============================] - 306s 30ms/step - loss: 0.5335 - accuracy: 0.7298 - precision_1: 0.7389 - recall_1: 0.7074 - val_loss: 0.4596 - val_accuracy: 0.7831 - val_precision_1: 0.7947 - val_recall_1: 0.7664\n",
            "Epoch 2/30\n",
            "10000/10000 [==============================] - 297s 30ms/step - loss: 0.4616 - accuracy: 0.7816 - precision_1: 0.7845 - recall_1: 0.7740 - val_loss: 0.4527 - val_accuracy: 0.7906 - val_precision_1: 0.7897 - val_recall_1: 0.7950\n",
            "Epoch 3/30\n",
            "10000/10000 [==============================] - 298s 30ms/step - loss: 0.4457 - accuracy: 0.7901 - precision_1: 0.7905 - recall_1: 0.7884 - val_loss: 0.4451 - val_accuracy: 0.7918 - val_precision_1: 0.7730 - val_recall_1: 0.8291\n",
            "Epoch 4/30\n",
            "10000/10000 [==============================] - 298s 30ms/step - loss: 0.4378 - accuracy: 0.7944 - precision_1: 0.7958 - recall_1: 0.7917 - val_loss: 0.4497 - val_accuracy: 0.7926 - val_precision_1: 0.8013 - val_recall_1: 0.7809\n",
            "Epoch 5/30\n",
            "10000/10000 [==============================] - 299s 30ms/step - loss: 0.4302 - accuracy: 0.7996 - precision_1: 0.8009 - recall_1: 0.7951 - val_loss: 0.4401 - val_accuracy: 0.7935 - val_precision_1: 0.8062 - val_recall_1: 0.7755\n",
            "Epoch 6/30\n",
            "10000/10000 [==============================] - 297s 30ms/step - loss: 0.4274 - accuracy: 0.8018 - precision_1: 0.8033 - recall_1: 0.7979 - val_loss: 0.4430 - val_accuracy: 0.7943 - val_precision_1: 0.7980 - val_recall_1: 0.7908\n",
            "Epoch 7/30\n",
            "10000/10000 [==============================] - 298s 30ms/step - loss: 0.4223 - accuracy: 0.8048 - precision_1: 0.8063 - recall_1: 0.8016 - val_loss: 0.4402 - val_accuracy: 0.7959 - val_precision_1: 0.7985 - val_recall_1: 0.7943\n",
            "Epoch 8/30\n",
            "10000/10000 [==============================] - 296s 30ms/step - loss: 0.4217 - accuracy: 0.8040 - precision_1: 0.8063 - recall_1: 0.8013 - val_loss: 0.4420 - val_accuracy: 0.7917 - val_precision_1: 0.8235 - val_recall_1: 0.7452\n",
            "Epoch 9/30\n",
            "10000/10000 [==============================] - 298s 30ms/step - loss: 0.4190 - accuracy: 0.8055 - precision_1: 0.8079 - recall_1: 0.8030 - val_loss: 0.4410 - val_accuracy: 0.7955 - val_precision_1: 0.7947 - val_recall_1: 0.7998\n",
            "Epoch 10/30\n",
            "10000/10000 [==============================] - 297s 30ms/step - loss: 0.4193 - accuracy: 0.8071 - precision_1: 0.8082 - recall_1: 0.8047 - val_loss: 0.4406 - val_accuracy: 0.7936 - val_precision_1: 0.8142 - val_recall_1: 0.7635\n",
            "Epoch 11/30\n",
            "10000/10000 [==============================] - 299s 30ms/step - loss: 0.4150 - accuracy: 0.8076 - precision_1: 0.8080 - recall_1: 0.8066 - val_loss: 0.4384 - val_accuracy: 0.7948 - val_precision_1: 0.8016 - val_recall_1: 0.7862\n",
            "Epoch 12/30\n",
            "10000/10000 [==============================] - 298s 30ms/step - loss: 0.4156 - accuracy: 0.8077 - precision_1: 0.8097 - recall_1: 0.8034 - val_loss: 0.4451 - val_accuracy: 0.7952 - val_precision_1: 0.7930 - val_recall_1: 0.8019\n",
            "Epoch 13/30\n",
            "10000/10000 [==============================] - 298s 30ms/step - loss: 0.4138 - accuracy: 0.8083 - precision_1: 0.8079 - recall_1: 0.8075 - val_loss: 0.4419 - val_accuracy: 0.7941 - val_precision_1: 0.7816 - val_recall_1: 0.8193\n",
            "Epoch 14/30\n",
            "10000/10000 [==============================] - 299s 30ms/step - loss: 0.4151 - accuracy: 0.8078 - precision_1: 0.8083 - recall_1: 0.8072 - val_loss: 0.4453 - val_accuracy: 0.7945 - val_precision_1: 0.8001 - val_recall_1: 0.7878\n",
            "Epoch 15/30\n",
            "10000/10000 [==============================] - 302s 30ms/step - loss: 0.4129 - accuracy: 0.8091 - precision_1: 0.8113 - recall_1: 0.8056 - val_loss: 0.4401 - val_accuracy: 0.7923 - val_precision_1: 0.8162 - val_recall_1: 0.7573\n",
            "Epoch 16/30\n",
            "10000/10000 [==============================] - 302s 30ms/step - loss: 0.4121 - accuracy: 0.8092 - precision_1: 0.8113 - recall_1: 0.8035 - val_loss: 0.4454 - val_accuracy: 0.7948 - val_precision_1: 0.8005 - val_recall_1: 0.7881\n",
            "Epoch 17/30\n",
            "10000/10000 [==============================] - 300s 30ms/step - loss: 0.4116 - accuracy: 0.8099 - precision_1: 0.8117 - recall_1: 0.8062 - val_loss: 0.4422 - val_accuracy: 0.7939 - val_precision_1: 0.8068 - val_recall_1: 0.7756\n",
            "Epoch 18/30\n",
            "10000/10000 [==============================] - 301s 30ms/step - loss: 0.4127 - accuracy: 0.8087 - precision_1: 0.8105 - recall_1: 0.8063 - val_loss: 0.4453 - val_accuracy: 0.7921 - val_precision_1: 0.8174 - val_recall_1: 0.7549\n",
            "Epoch 19/30\n",
            "10000/10000 [==============================] - 301s 30ms/step - loss: 0.4141 - accuracy: 0.8081 - precision_1: 0.8107 - recall_1: 0.8034 - val_loss: 0.4422 - val_accuracy: 0.7923 - val_precision_1: 0.8190 - val_recall_1: 0.7532\n",
            "Epoch 20/30\n",
            "10000/10000 [==============================] - 302s 30ms/step - loss: 0.4118 - accuracy: 0.8104 - precision_1: 0.8114 - recall_1: 0.8087 - val_loss: 0.4429 - val_accuracy: 0.7918 - val_precision_1: 0.8170 - val_recall_1: 0.7547\n",
            "Epoch 21/30\n",
            "10000/10000 [==============================] - 303s 30ms/step - loss: 0.4127 - accuracy: 0.8097 - precision_1: 0.8112 - recall_1: 0.8083 - val_loss: 0.4424 - val_accuracy: 0.7925 - val_precision_1: 0.8198 - val_recall_1: 0.7524\n",
            "Epoch 22/30\n",
            "10000/10000 [==============================] - 301s 30ms/step - loss: 0.4117 - accuracy: 0.8099 - precision_1: 0.8095 - recall_1: 0.8102 - val_loss: 0.4407 - val_accuracy: 0.7951 - val_precision_1: 0.8009 - val_recall_1: 0.7881\n",
            "Epoch 23/30\n",
            "10000/10000 [==============================] - 302s 30ms/step - loss: 0.4104 - accuracy: 0.8107 - precision_1: 0.8109 - recall_1: 0.8114 - val_loss: 0.4425 - val_accuracy: 0.7948 - val_precision_1: 0.8103 - val_recall_1: 0.7725\n",
            "Epoch 24/30\n",
            "10000/10000 [==============================] - 302s 30ms/step - loss: 0.4120 - accuracy: 0.8090 - precision_1: 0.8105 - recall_1: 0.8077 - val_loss: 0.4427 - val_accuracy: 0.7938 - val_precision_1: 0.8097 - val_recall_1: 0.7708\n",
            "Epoch 25/30\n",
            "10000/10000 [==============================] - 302s 30ms/step - loss: 0.4131 - accuracy: 0.8092 - precision_1: 0.8091 - recall_1: 0.8075 - val_loss: 0.4447 - val_accuracy: 0.7923 - val_precision_1: 0.8079 - val_recall_1: 0.7697\n",
            "Epoch 26/30\n",
            "10000/10000 [==============================] - 301s 30ms/step - loss: 0.4133 - accuracy: 0.8094 - precision_1: 0.8105 - recall_1: 0.8071 - val_loss: 0.4419 - val_accuracy: 0.7944 - val_precision_1: 0.8011 - val_recall_1: 0.7859\n",
            "Epoch 27/30\n",
            "10000/10000 [==============================] - 300s 30ms/step - loss: 0.4125 - accuracy: 0.8092 - precision_1: 0.8093 - recall_1: 0.8086 - val_loss: 0.4432 - val_accuracy: 0.7930 - val_precision_1: 0.8111 - val_recall_1: 0.7665\n",
            "Epoch 28/30\n",
            "10000/10000 [==============================] - 301s 30ms/step - loss: 0.4123 - accuracy: 0.8093 - precision_1: 0.8111 - recall_1: 0.8066 - val_loss: 0.4418 - val_accuracy: 0.7938 - val_precision_1: 0.8050 - val_recall_1: 0.7781\n",
            "Epoch 29/30\n",
            "10000/10000 [==============================] - 301s 30ms/step - loss: 0.4143 - accuracy: 0.8086 - precision_1: 0.8081 - recall_1: 0.8088 - val_loss: 0.4419 - val_accuracy: 0.7936 - val_precision_1: 0.8083 - val_recall_1: 0.7724\n",
            "Epoch 30/30\n",
            "10000/10000 [==============================] - 302s 30ms/step - loss: 0.4118 - accuracy: 0.8096 - precision_1: 0.8130 - recall_1: 0.8038 - val_loss: 0.4462 - val_accuracy: 0.7926 - val_precision_1: 0.8124 - val_recall_1: 0.7635\n",
            "Saved model2 weights to drive\n",
            "\n",
            "\n",
            "\n",
            "----------------------------\n",
            "\n",
            "\n",
            "\n",
            "Model: \"sequential_1\"\n",
            "_________________________________________________________________\n",
            "Layer (type)                 Output Shape              Param #   \n",
            "=================================================================\n",
            "embedding_1 (Embedding)      (None, 300, 300)          84121800  \n",
            "_________________________________________________________________\n",
            "gru_1 (GRU)                  (None, 300, 60)           65160     \n",
            "_________________________________________________________________\n",
            "module_wrapper_1 (ModuleWrap (None, 128)               24192     \n",
            "_________________________________________________________________\n",
            "dense_3 (Dense)              (None, 10)                1290      \n",
            "_________________________________________________________________\n",
            "dropout_1 (Dropout)          (None, 10)                0         \n",
            "_________________________________________________________________\n",
            "dense_4 (Dense)              (None, 32)                352       \n",
            "_________________________________________________________________\n",
            "dense_5 (Dense)              (None, 1)                 33        \n",
            "=================================================================\n",
            "Total params: 84,212,827\n",
            "Trainable params: 91,027\n",
            "Non-trainable params: 84,121,800\n",
            "_________________________________________________________________\n"
          ],
          "name": "stdout"
        }
      ]
    },
    {
      "cell_type": "code",
      "metadata": {
        "id": "wOUKmYndoJHc",
        "colab": {
          "base_uri": "https://localhost:8080/"
        },
        "outputId": "7609bf2a-c60d-4ae9-81f3-c25f0bef7c16"
      },
      "source": [
        "model2 = Sequential()\n",
        "model2.add(Embedding(vocab_size, dim, input_length=300, trainable=False, weights=[embedding_matrix]))\n",
        "model2.add(GRU(60, return_sequences=True, dropout=0.2))\n",
        "model2.add(SimpleRNN(128))\n",
        "model2.add(Dense(10))\n",
        "model2.add(Dropout(.2))\n",
        "model2.add(Dense(32, activation='relu'))\n",
        "model2.add(Dense(1, activation='sigmoid'))\n",
        "\n",
        "model2.compile(loss='binary_crossentropy', optimizer='adam', metrics=['accuracy', Precision(), Recall()])\n",
        "model2.summary()"
      ],
      "execution_count": 65,
      "outputs": [
        {
          "output_type": "stream",
          "text": [
            "Model: \"sequential_4\"\n",
            "_________________________________________________________________\n",
            "Layer (type)                 Output Shape              Param #   \n",
            "=================================================================\n",
            "embedding_1 (Embedding)      (None, 300, 300)          84121800  \n",
            "_________________________________________________________________\n",
            "gru (GRU)                    (None, 300, 60)           65160     \n",
            "_________________________________________________________________\n",
            "module_wrapper (ModuleWrappe (None, 128)               24192     \n",
            "_________________________________________________________________\n",
            "dense_4 (Dense)              (None, 10)                1290      \n",
            "_________________________________________________________________\n",
            "dropout_1 (Dropout)          (None, 10)                0         \n",
            "_________________________________________________________________\n",
            "dense_5 (Dense)              (None, 32)                352       \n",
            "_________________________________________________________________\n",
            "dense_6 (Dense)              (None, 1)                 33        \n",
            "=================================================================\n",
            "Total params: 84,212,827\n",
            "Trainable params: 91,027\n",
            "Non-trainable params: 84,121,800\n",
            "_________________________________________________________________\n"
          ],
          "name": "stdout"
        }
      ]
    },
    {
      "cell_type": "markdown",
      "metadata": {
        "id": "TWVesd58D-qZ"
      },
      "source": [
        "En caso de tener los pesos, ejecute la siguiente celda para cargarlos"
      ]
    },
    {
      "cell_type": "code",
      "metadata": {
        "id": "MB_vXGKuOKjL"
      },
      "source": [
        "model2.load_weights(path + '/model2.h5')"
      ],
      "execution_count": 66,
      "outputs": []
    },
    {
      "cell_type": "markdown",
      "metadata": {
        "id": "2bXwXMVzOkKI"
      },
      "source": [
        "### Model 2 metrics\n",
        "\n",
        "![image.png](data:image/png;base64,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)"
      ]
    },
    {
      "cell_type": "code",
      "metadata": {
        "colab": {
          "base_uri": "https://localhost:8080/"
        },
        "id": "5bQpODYClPIu",
        "outputId": "87037204-677a-4848-d34e-60d5e9f53409"
      },
      "source": [
        "#history2 = model2.fit(pad_seq,y,epochs = 30,validation_split=0.2)"
      ],
      "execution_count": null,
      "outputs": [
        {
          "output_type": "stream",
          "text": [
            "Epoch 1/30\n",
            "WARNING:tensorflow:Model was constructed with shape (None, 300) for input KerasTensor(type_spec=TensorSpec(shape=(None, 300), dtype=tf.float32, name='embedding_1_input'), name='embedding_1_input', description=\"created by layer 'embedding_1_input'\"), but it was called on an input with incompatible shape (32, 41).\n",
            "WARNING:tensorflow:Model was constructed with shape (None, 300) for input KerasTensor(type_spec=TensorSpec(shape=(None, 300), dtype=tf.float32, name='embedding_1_input'), name='embedding_1_input', description=\"created by layer 'embedding_1_input'\"), but it was called on an input with incompatible shape (32, 41).\n",
            "10000/10000 [==============================] - ETA: 0s - loss: 0.6955 - accuracy: 0.5016 - precision_1: 0.5000 - recall_1: 0.4909WARNING:tensorflow:Model was constructed with shape (None, 300) for input KerasTensor(type_spec=TensorSpec(shape=(None, 300), dtype=tf.float32, name='embedding_1_input'), name='embedding_1_input', description=\"created by layer 'embedding_1_input'\"), but it was called on an input with incompatible shape (32, 41).\n",
            "10000/10000 [==============================] - 315s 31ms/step - loss: 0.6955 - accuracy: 0.5016 - precision_1: 0.5000 - recall_1: 0.4909 - val_loss: 0.6932 - val_accuracy: 0.5016 - val_precision_1: 0.5016 - val_recall_1: 1.0000\n",
            "Epoch 2/30\n",
            "10000/10000 [==============================] - 313s 31ms/step - loss: 0.6935 - accuracy: 0.4980 - precision_1: 0.4975 - recall_1: 0.4718 - val_loss: 0.6933 - val_accuracy: 0.5015 - val_precision_1: 0.5016 - val_recall_1: 0.9999\n",
            "Epoch 3/30\n",
            "10000/10000 [==============================] - 314s 31ms/step - loss: 0.6933 - accuracy: 0.4990 - precision_1: 0.4985 - recall_1: 0.5855 - val_loss: 0.6931 - val_accuracy: 0.5016 - val_precision_1: 0.5016 - val_recall_1: 1.0000\n",
            "Epoch 4/30\n",
            "10000/10000 [==============================] - 310s 31ms/step - loss: 0.6932 - accuracy: 0.4985 - precision_1: 0.4980 - recall_1: 0.5108 - val_loss: 0.6932 - val_accuracy: 0.4984 - val_precision_1: 0.0000e+00 - val_recall_1: 0.0000e+00\n",
            "Epoch 5/30\n",
            "10000/10000 [==============================] - 308s 31ms/step - loss: 0.6932 - accuracy: 0.5014 - precision_1: 0.4935 - recall_1: 0.3236 - val_loss: 0.6932 - val_accuracy: 0.5016 - val_precision_1: 0.5016 - val_recall_1: 1.0000\n",
            "Epoch 6/30\n",
            "10000/10000 [==============================] - 309s 31ms/step - loss: 0.6932 - accuracy: 0.4989 - precision_1: 0.4991 - recall_1: 0.5810 - val_loss: 0.6932 - val_accuracy: 0.4984 - val_precision_1: 0.0000e+00 - val_recall_1: 0.0000e+00\n",
            "Epoch 7/30\n",
            "10000/10000 [==============================] - 309s 31ms/step - loss: 0.6932 - accuracy: 0.4999 - precision_1: 0.5004 - recall_1: 0.6832 - val_loss: 0.6932 - val_accuracy: 0.4984 - val_precision_1: 0.0000e+00 - val_recall_1: 0.0000e+00\n",
            "Epoch 8/30\n",
            "10000/10000 [==============================] - 310s 31ms/step - loss: 0.6932 - accuracy: 0.5024 - precision_1: 0.4972 - recall_1: 0.5056 - val_loss: 0.6931 - val_accuracy: 0.4984 - val_precision_1: 0.0000e+00 - val_recall_1: 0.0000e+00\n",
            "Epoch 9/30\n",
            "10000/10000 [==============================] - 317s 32ms/step - loss: 0.6932 - accuracy: 0.4997 - precision_1: 0.4739 - recall_1: 0.4208 - val_loss: 0.6932 - val_accuracy: 0.4984 - val_precision_1: 0.0000e+00 - val_recall_1: 0.0000e+00\n",
            "Epoch 10/30\n",
            "10000/10000 [==============================] - 313s 31ms/step - loss: 0.6932 - accuracy: 0.5022 - precision_1: 0.4999 - recall_1: 0.6391 - val_loss: 0.6932 - val_accuracy: 0.4984 - val_precision_1: 0.0000e+00 - val_recall_1: 0.0000e+00\n",
            "Epoch 11/30\n",
            "10000/10000 [==============================] - 318s 32ms/step - loss: 0.6932 - accuracy: 0.5015 - precision_1: 0.4919 - recall_1: 0.2847 - val_loss: 0.6932 - val_accuracy: 0.4984 - val_precision_1: 0.0000e+00 - val_recall_1: 0.0000e+00\n",
            "Epoch 12/30\n",
            "10000/10000 [==============================] - 310s 31ms/step - loss: 0.6932 - accuracy: 0.5021 - precision_1: 0.4931 - recall_1: 0.3138 - val_loss: 0.6932 - val_accuracy: 0.4984 - val_precision_1: 0.0000e+00 - val_recall_1: 0.0000e+00\n",
            "Epoch 13/30\n",
            "10000/10000 [==============================] - 310s 31ms/step - loss: 0.6932 - accuracy: 0.5016 - precision_1: 0.4937 - recall_1: 0.2612 - val_loss: 0.6931 - val_accuracy: 0.5016 - val_precision_1: 0.5016 - val_recall_1: 1.0000\n",
            "Epoch 14/30\n",
            "10000/10000 [==============================] - 308s 31ms/step - loss: 0.6933 - accuracy: 0.4990 - precision_1: 0.4989 - recall_1: 0.5165 - val_loss: 0.6933 - val_accuracy: 0.4984 - val_precision_1: 0.0000e+00 - val_recall_1: 0.0000e+00\n",
            "Epoch 15/30\n",
            "10000/10000 [==============================] - 310s 31ms/step - loss: 0.6932 - accuracy: 0.4987 - precision_1: 0.5113 - recall_1: 0.3778 - val_loss: 0.6931 - val_accuracy: 0.5016 - val_precision_1: 0.5016 - val_recall_1: 1.0000\n",
            "Epoch 16/30\n",
            "10000/10000 [==============================] - 311s 31ms/step - loss: 0.6932 - accuracy: 0.5007 - precision_1: 0.4993 - recall_1: 0.4194 - val_loss: 0.6931 - val_accuracy: 0.5016 - val_precision_1: 0.5016 - val_recall_1: 1.0000\n",
            "Epoch 17/30\n",
            "10000/10000 [==============================] - 312s 31ms/step - loss: 0.6932 - accuracy: 0.4993 - precision_1: 0.4995 - recall_1: 0.5863 - val_loss: 0.6931 - val_accuracy: 0.5016 - val_precision_1: 0.5016 - val_recall_1: 1.0000\n",
            "Epoch 18/30\n",
            "10000/10000 [==============================] - 312s 31ms/step - loss: 0.6932 - accuracy: 0.4997 - precision_1: 0.4995 - recall_1: 0.5488 - val_loss: 0.6931 - val_accuracy: 0.5016 - val_precision_1: 0.5016 - val_recall_1: 1.0000\n",
            "Epoch 19/30\n",
            "10000/10000 [==============================] - 309s 31ms/step - loss: 0.6932 - accuracy: 0.4975 - precision_1: 0.4980 - recall_1: 0.5517 - val_loss: 0.6931 - val_accuracy: 0.5016 - val_precision_1: 0.5016 - val_recall_1: 1.0000\n",
            "Epoch 20/30\n",
            "10000/10000 [==============================] - 310s 31ms/step - loss: 0.6932 - accuracy: 0.4988 - precision_1: 0.4946 - recall_1: 0.3646 - val_loss: 0.6932 - val_accuracy: 0.4984 - val_precision_1: 0.0000e+00 - val_recall_1: 0.0000e+00\n",
            "Epoch 21/30\n",
            "10000/10000 [==============================] - 311s 31ms/step - loss: 0.6932 - accuracy: 0.4984 - precision_1: 0.4973 - recall_1: 0.4779 - val_loss: 0.6931 - val_accuracy: 0.4984 - val_precision_1: 0.0000e+00 - val_recall_1: 0.0000e+00\n",
            "Epoch 22/30\n",
            "10000/10000 [==============================] - 312s 31ms/step - loss: 0.6932 - accuracy: 0.5008 - precision_1: 0.4999 - recall_1: 0.4669 - val_loss: 0.6931 - val_accuracy: 0.5016 - val_precision_1: 0.5016 - val_recall_1: 1.0000\n",
            "Epoch 23/30\n",
            "10000/10000 [==============================] - 313s 31ms/step - loss: 0.6932 - accuracy: 0.4997 - precision_1: 0.4993 - recall_1: 0.5600 - val_loss: 0.6932 - val_accuracy: 0.4984 - val_precision_1: 0.0000e+00 - val_recall_1: 0.0000e+00\n",
            "Epoch 24/30\n",
            "10000/10000 [==============================] - 313s 31ms/step - loss: 0.6932 - accuracy: 0.5016 - precision_1: 0.5053 - recall_1: 0.2976 - val_loss: 0.6931 - val_accuracy: 0.5016 - val_precision_1: 0.5016 - val_recall_1: 1.0000\n",
            "Epoch 25/30\n",
            "10000/10000 [==============================] - 311s 31ms/step - loss: 0.6932 - accuracy: 0.5013 - precision_1: 0.5010 - recall_1: 0.4972 - val_loss: 0.6932 - val_accuracy: 0.4984 - val_precision_1: 0.0000e+00 - val_recall_1: 0.0000e+00\n",
            "Epoch 26/30\n",
            "10000/10000 [==============================] - 310s 31ms/step - loss: 0.6932 - accuracy: 0.5013 - precision_1: 0.4352 - recall_1: 0.3208 - val_loss: 0.6932 - val_accuracy: 0.4984 - val_precision_1: 0.0000e+00 - val_recall_1: 0.0000e+00\n",
            "Epoch 27/30\n",
            "10000/10000 [==============================] - 309s 31ms/step - loss: 0.6932 - accuracy: 0.5009 - precision_1: 0.5003 - recall_1: 0.5270 - val_loss: 0.6931 - val_accuracy: 0.5016 - val_precision_1: 0.5016 - val_recall_1: 1.0000\n",
            "Epoch 28/30\n",
            "10000/10000 [==============================] - 316s 32ms/step - loss: 0.6932 - accuracy: 0.4972 - precision_1: 0.4971 - recall_1: 0.5416 - val_loss: 0.6932 - val_accuracy: 0.5016 - val_precision_1: 0.5016 - val_recall_1: 1.0000\n",
            "Epoch 29/30\n",
            "10000/10000 [==============================] - 317s 32ms/step - loss: 0.6932 - accuracy: 0.5001 - precision_1: 0.4992 - recall_1: 0.5405 - val_loss: 0.6931 - val_accuracy: 0.5016 - val_precision_1: 0.5016 - val_recall_1: 1.0000\n",
            "Epoch 30/30\n",
            "10000/10000 [==============================] - 318s 32ms/step - loss: 0.6932 - accuracy: 0.4980 - precision_1: 0.4983 - recall_1: 0.5263 - val_loss: 0.6932 - val_accuracy: 0.4984 - val_precision_1: 0.0000e+00 - val_recall_1: 0.0000e+00\n"
          ],
          "name": "stdout"
        }
      ]
    },
    {
      "cell_type": "code",
      "metadata": {
        "id": "r0AJcerHlPIu"
      },
      "source": [
        "# print(history2.history.keys())\n",
        "# # summarize history for accuracy\n",
        "# plt.plot(history2.history['accuracy'])\n",
        "# plt.plot(history2.history['val_accuracy'])\n",
        "# plt.title('model accuracy')\n",
        "# plt.ylabel('accuracy')\n",
        "# plt.xlabel('epoch')\n",
        "# plt.legend(['train', 'test'], loc='upper left')\n",
        "# plt.show()"
      ],
      "execution_count": null,
      "outputs": []
    },
    {
      "cell_type": "code",
      "metadata": {
        "id": "Cn_gAdDilPIu"
      },
      "source": [
        "# print(history2.history.keys())\n",
        "# # summarize history for precision\n",
        "# plt.plot(history2.history['precision'])\n",
        "# plt.plot(history2.history['val_precision'])\n",
        "# plt.title('model precision')\n",
        "# plt.ylabel('precision')\n",
        "# plt.xlabel('epoch')\n",
        "# plt.legend(['train', 'test'], loc='upper left')\n",
        "# plt.show()"
      ],
      "execution_count": null,
      "outputs": []
    },
    {
      "cell_type": "code",
      "metadata": {
        "id": "z1OIhYEslPIv"
      },
      "source": [
        "# print(history2.history.keys())\n",
        "# # summarize history for recall\n",
        "# plt.plot(history2.history['recall'])\n",
        "# plt.plot(history2.history['val_recall'])\n",
        "# plt.title('model recall')\n",
        "# plt.ylabel('recall')\n",
        "# plt.xlabel('epoch')\n",
        "# plt.legend(['train', 'test'], loc='upper left')\n",
        "# plt.show()"
      ],
      "execution_count": null,
      "outputs": []
    },
    {
      "cell_type": "markdown",
      "metadata": {
        "id": "4TpGb1kmtRbm"
      },
      "source": [
        "##Third model"
      ]
    },
    {
      "cell_type": "code",
      "metadata": {
        "colab": {
          "base_uri": "https://localhost:8080/"
        },
        "id": "7-KNXOY1tQBN",
        "outputId": "28f2960d-c0fa-47b8-8678-0be5bfb0ef66"
      },
      "source": [
        "#Tercer Modelo RNN a utilizar\n",
        "model3 = Sequential()\n",
        "model3.add(Embedding(vocab_size, dim, input_length=300, trainable=False, weights=[embedding_matrix]))\n",
        "model3.add(LSTM(30, return_sequences=True, recurrent_dropout=0.3, recurrent_activation=\"relu\"))\n",
        "model3.add(GlobalMaxPool1D())\n",
        "model3.add(Dense(32, activation='relu'))\n",
        "model3.add(Dense(32, activation='relu'))\n",
        "model3.add(Dense(32, activation='relu'))\n",
        "model3.add(Dropout(.05))\n",
        "model3.add(Dense(1, activation='sigmoid'))\n",
        "\n",
        "model3.compile(loss='binary_crossentropy', optimizer='adam', metrics=['accuracy', Precision(), Recall()])"
      ],
      "execution_count": 73,
      "outputs": [
        {
          "output_type": "stream",
          "text": [
            "WARNING:tensorflow:Layer lstm will not use cuDNN kernels since it doesn't meet the criteria. It will use a generic GPU kernel as fallback when running on GPU.\n"
          ],
          "name": "stdout"
        }
      ]
    },
    {
      "cell_type": "code",
      "metadata": {
        "colab": {
          "base_uri": "https://localhost:8080/"
        },
        "id": "ipkEukLivHjk",
        "outputId": "b6827863-6efe-4b9c-915b-d5316a641f9f"
      },
      "source": [
        "# history3 = model3.fit(pad_seq,y,epochs = 10,validation_split=0.2)\n",
        "# model3.save_weights(path + \"/model3.h5\")\n",
        "# print(\"Saved model3 weights to drive\")"
      ],
      "execution_count": 75,
      "outputs": [
        {
          "output_type": "stream",
          "text": [
            "Epoch 1/10\n",
            "10000/10000 [==============================] - ETA: 0s - loss: 0.4821 - accuracy: 0.7686 - precision: 0.7757 - recall: 0.7563WARNING:tensorflow:Model was constructed with shape (None, 300) for input KerasTensor(type_spec=TensorSpec(shape=(None, 300), dtype=tf.float32, name='embedding_input'), name='embedding_input', description=\"created by layer 'embedding_input'\"), but it was called on an input with incompatible shape (32, 41).\n",
            "10000/10000 [==============================] - 683s 68ms/step - loss: 0.4821 - accuracy: 0.7686 - precision: 0.7757 - recall: 0.7563 - val_loss: 0.4723 - val_accuracy: 0.7742 - val_precision: 0.7827 - val_recall: 0.7567\n",
            "Epoch 2/10\n",
            "10000/10000 [==============================] - 676s 68ms/step - loss: 0.4588 - accuracy: 0.7834 - precision: 0.7877 - recall: 0.7765 - val_loss: 0.4653 - val_accuracy: 0.7773 - val_precision: 0.7852 - val_recall: 0.7610\n",
            "Epoch 3/10\n",
            "10000/10000 [==============================] - 683s 68ms/step - loss: 0.4509 - accuracy: 0.7885 - precision: 0.7951 - recall: 0.7780 - val_loss: 0.4630 - val_accuracy: 0.7810 - val_precision: 0.7835 - val_recall: 0.7743\n",
            "Epoch 4/10\n",
            "10000/10000 [==============================] - 679s 68ms/step - loss: 0.4464 - accuracy: 0.7901 - precision: 0.7958 - recall: 0.7810 - val_loss: 0.4616 - val_accuracy: 0.7814 - val_precision: 0.7816 - val_recall: 0.7786\n",
            "Epoch 5/10\n",
            "10000/10000 [==============================] - 681s 68ms/step - loss: 0.4428 - accuracy: 0.7927 - precision: 0.7971 - recall: 0.7858 - val_loss: 0.4608 - val_accuracy: 0.7812 - val_precision: 0.7738 - val_recall: 0.7923\n",
            "Epoch 6/10\n",
            "10000/10000 [==============================] - 682s 68ms/step - loss: 0.4407 - accuracy: 0.7935 - precision: 0.7975 - recall: 0.7873 - val_loss: 0.4616 - val_accuracy: 0.7803 - val_precision: 0.7880 - val_recall: 0.7645\n",
            "Epoch 7/10\n",
            "10000/10000 [==============================] - 681s 68ms/step - loss: 0.4395 - accuracy: 0.7944 - precision: 0.7979 - recall: 0.7891 - val_loss: 0.4639 - val_accuracy: 0.7823 - val_precision: 0.7858 - val_recall: 0.7738\n",
            "Epoch 8/10\n",
            "10000/10000 [==============================] - 679s 68ms/step - loss: 0.4365 - accuracy: 0.7956 - precision: 0.8002 - recall: 0.7885 - val_loss: 0.4616 - val_accuracy: 0.7820 - val_precision: 0.7978 - val_recall: 0.7532\n",
            "Epoch 9/10\n",
            "10000/10000 [==============================] - 680s 68ms/step - loss: 0.4353 - accuracy: 0.7968 - precision: 0.7983 - recall: 0.7949 - val_loss: 0.4616 - val_accuracy: 0.7831 - val_precision: 0.7894 - val_recall: 0.7699\n",
            "Epoch 10/10\n",
            "10000/10000 [==============================] - 682s 68ms/step - loss: 0.4339 - accuracy: 0.7978 - precision: 0.8012 - recall: 0.7927 - val_loss: 0.4622 - val_accuracy: 0.7824 - val_precision: 0.7869 - val_recall: 0.7723\n",
            "Saved model3 weights to drive\n"
          ],
          "name": "stdout"
        }
      ]
    },
    {
      "cell_type": "code",
      "metadata": {
        "colab": {
          "base_uri": "https://localhost:8080/"
        },
        "id": "3j2KHR5-4dSm",
        "outputId": "702f1488-5de1-48b0-f345-321b83bb63d4"
      },
      "source": [
        "model3.load_weights(path + \"/model3.h5\")\n",
        "print(\"Loaded model from disk\")"
      ],
      "execution_count": null,
      "outputs": [
        {
          "output_type": "stream",
          "text": [
            "Loaded model from disk\n"
          ],
          "name": "stdout"
        }
      ]
    },
    {
      "cell_type": "code",
      "metadata": {
        "colab": {
          "base_uri": "https://localhost:8080/",
          "height": 312
        },
        "id": "tqFLgkRX3daq",
        "outputId": "2cfd6f13-d4df-4310-b228-2dc002506ee6"
      },
      "source": [
        "# print(history3.history.keys())\n",
        "# # summarize history for accuracy\n",
        "# plt.plot(history3.history['accuracy'])\n",
        "# plt.plot(history3.history['val_accuracy'])\n",
        "# plt.title('model3 accuracy')\n",
        "# plt.ylabel('accuracy')\n",
        "# plt.xlabel('epoch')\n",
        "# plt.legend(['train', 'test'], loc='upper left')\n",
        "# plt.show()"
      ],
      "execution_count": 90,
      "outputs": [
        {
          "output_type": "stream",
          "text": [
            "dict_keys(['loss', 'accuracy', 'precision', 'recall', 'val_loss', 'val_accuracy', 'val_precision', 'val_recall'])\n"
          ],
          "name": "stdout"
        },
        {
          "output_type": "display_data",
          "data": {
            "image/png": "[encoded data removed]",
            "text/plain": [
              "<Figure size 432x288 with 1 Axes>"
            ]
          },
          "metadata": {
            "tags": [],
            "needs_background": "light"
          }
        }
      ]
    },
    {
      "cell_type": "code",
      "metadata": {
        "colab": {
          "base_uri": "https://localhost:8080/",
          "height": 312
        },
        "id": "KL5Vgmic3dar",
        "outputId": "cb5b7e61-f5e6-499b-be25-ff3044ee05b1"
      },
      "source": [
        "# print(history3.history.keys())\n",
        "# # summarize history for precision\n",
        "# plt.plot(history3.history['precision'])\n",
        "# plt.plot(history3.history['val_precision'])\n",
        "# plt.title('model3 precision')\n",
        "# plt.ylabel('precision')\n",
        "# plt.xlabel('epoch')\n",
        "# plt.legend(['train', 'test'], loc='upper left')\n",
        "# plt.show()"
      ],
      "execution_count": 91,
      "outputs": [
        {
          "output_type": "stream",
          "text": [
            "dict_keys(['loss', 'accuracy', 'precision', 'recall', 'val_loss', 'val_accuracy', 'val_precision', 'val_recall'])\n"
          ],
          "name": "stdout"
        },
        {
          "output_type": "display_data",
          "data": {
            "image/png": "[encoded data removed]",
            "text/plain": [
              "<Figure size 432x288 with 1 Axes>"
            ]
          },
          "metadata": {
            "tags": [],
            "needs_background": "light"
          }
        }
      ]
    },
    {
      "cell_type": "code",
      "metadata": {
        "colab": {
          "base_uri": "https://localhost:8080/",
          "height": 312
        },
        "id": "DeMHN8mT3dar",
        "outputId": "ad18eb4f-0e98-4b3a-d805-61f71bf49724"
      },
      "source": [
        "# print(history3.history.keys())\n",
        "# # summarize history for recall\n",
        "# plt.plot(history3.history['recall'])\n",
        "# plt.plot(history3.history['val_recall'])\n",
        "# plt.title('model3 recall')\n",
        "# plt.ylabel('recall')\n",
        "# plt.xlabel('epoch')\n",
        "# plt.legend(['train', 'test'], loc='upper left')\n",
        "# plt.show()"
      ],
      "execution_count": 92,
      "outputs": [
        {
          "output_type": "stream",
          "text": [
            "dict_keys(['loss', 'accuracy', 'precision', 'recall', 'val_loss', 'val_accuracy', 'val_precision', 'val_recall'])\n"
          ],
          "name": "stdout"
        },
        {
          "output_type": "display_data",
          "data": {
            "image/png": "[encoded data removed]",
            "text/plain": [
              "<Figure size 432x288 with 1 Axes>"
            ]
          },
          "metadata": {
            "tags": [],
            "needs_background": "light"
          }
        }
      ]
    },
    {
      "cell_type": "markdown",
      "metadata": {
        "id": "CVqiGH1hBT-I"
      },
      "source": [
        "#ASR"
      ]
    },
    {
      "cell_type": "code",
      "metadata": {
        "colab": {
          "base_uri": "https://localhost:8080/",
          "height": 213,
          "referenced_widgets": [
            "9325b0de22db4d01bfe8642e8a7846e7",
            "879fe53e2ea24cfe932dd620a623c0ec",
            "0436d4317630490e9a8ba48e1d7769e2",
            "16f03d4b33aa456f9be753bfe3fea5dd",
            "3ba8f25a65834c8c98a544639f755d80",
            "e6d1e002257c45bd96f2776b1397b27e",
            "a346d6dda08c427fbeac8240f1dfa7bf",
            "6ed3b57b1c2645a2a37ef42401fd052a",
            "290028e4c5b64493acaddd49f794c8ad",
            "697ea698dd38480aa3b6bb85ec3be686",
            "f27add3d2d6e406788fb7a107f8033f2",
            "7550fcedf76342e9b4ec645d392d494d",
            "673941131bb044a6873a6063a68f4766",
            "a35d206eb7b54cfcb3e2cd5c7c593cf1",
            "225d0615c33143558c0ae41b4915d4d9",
            "44b3cf8cac5042e69e9d60cfef297c6d",
            "2069eca95cef479d848cdcae61833017",
            "94b947d16b5d4dbf8f0e45efc33249f3",
            "0fa6875685b2469683303222f53c2455",
            "14bfde3c219e451c9f593db25ba9d134",
            "f3ea498a46c540d49c6dde95369e8362",
            "793110bf17284cd2b2be29041a4e04f0",
            "bafcb026d7a649b789aa2af3358cabb9",
            "d658ac5b88cd4a1ca75e4b9305131c01",
            "84ac03f68aa74d0080248f8f2a4a4ca0",
            "cfd0b78f5fb448ee9c11db92687a84ad",
            "c6b055c49ea44de4ae0c28c8445b9035",
            "b7ba39082f174e3f968d3a8a7fb64032",
            "1bec5e9be19f47c9b15ff73d08a9d578",
            "9c75317630004dab9e67e1e546016f74",
            "d4f57cf55a8a41cca7a95e5b7f816fb5",
            "020a373bca5943b1902cdcb5674b543c"
          ]
        },
        "id": "W39f9lnusn3_",
        "outputId": "68420b66-0562-4a9b-b44d-f4b8c6917472"
      },
      "source": [
        "from speechbrain.pretrained import EncoderDecoderASR\n",
        "\n",
        "asr_model2 = EncoderDecoderASR.from_hparams(source=\"speechbrain/asr-crdnn-rnnlm-librispeech\", savedir=\"pretrained_models/asr-crdnn-rnnlm-librispeech\")"
      ],
      "execution_count": 79,
      "outputs": [
        {
          "output_type": "display_data",
          "data": {
            "application/vnd.jupyter.widget-view+json": {
              "model_id": "9325b0de22db4d01bfe8642e8a7846e7",
              "version_minor": 0,
              "version_major": 2
            },
            "text/plain": [
              "HBox(children=(FloatProgress(value=0.0, description='Downloading', max=4420.0, style=ProgressStyle(description…"
            ]
          },
          "metadata": {
            "tags": []
          }
        },
        {
          "output_type": "stream",
          "text": [
            "\n"
          ],
          "name": "stdout"
        },
        {
          "output_type": "display_data",
          "data": {
            "application/vnd.jupyter.widget-view+json": {
              "model_id": "290028e4c5b64493acaddd49f794c8ad",
              "version_minor": 0,
              "version_major": 2
            },
            "text/plain": [
              "HBox(children=(FloatProgress(value=0.0, description='Downloading', max=479555971.0, style=ProgressStyle(descri…"
            ]
          },
          "metadata": {
            "tags": []
          }
        },
        {
          "output_type": "stream",
          "text": [
            "\n"
          ],
          "name": "stdout"
        },
        {
          "output_type": "display_data",
          "data": {
            "application/vnd.jupyter.widget-view+json": {
              "model_id": "2069eca95cef479d848cdcae61833017",
              "version_minor": 0,
              "version_major": 2
            },
            "text/plain": [
              "HBox(children=(FloatProgress(value=0.0, description='Downloading', max=212420087.0, style=ProgressStyle(descri…"
            ]
          },
          "metadata": {
            "tags": []
          }
        },
        {
          "output_type": "stream",
          "text": [
            "\n"
          ],
          "name": "stdout"
        },
        {
          "output_type": "display_data",
          "data": {
            "application/vnd.jupyter.widget-view+json": {
              "model_id": "84ac03f68aa74d0080248f8f2a4a4ca0",
              "version_minor": 0,
              "version_major": 2
            },
            "text/plain": [
              "HBox(children=(FloatProgress(value=0.0, description='Downloading', max=253217.0, style=ProgressStyle(descripti…"
            ]
          },
          "metadata": {
            "tags": []
          }
        },
        {
          "output_type": "stream",
          "text": [
            "\n"
          ],
          "name": "stdout"
        }
      ]
    },
    {
      "cell_type": "code",
      "metadata": {
        "id": "KItMFin3sxQt"
      },
      "source": [
        "def transcribe_video(fileList = []):\n",
        "  listOfText = []\n",
        "  if fileList == [] :\n",
        "    uploaded = files.upload()\n",
        "    listOfAudios = list(uploaded.keys())\n",
        "  else:\n",
        "    listOfAudios = fileList\n",
        "  a = perf_counter()\n",
        "  for file in listOfAudios:\n",
        "    duration = librosa.get_duration(filename=file)\n",
        "    j = 1\n",
        "    i = 1\n",
        "    video = moviepy.editor.VideoFileClip(os.getcwd() + \"/\" + file)\n",
        "    audio = video.audio\n",
        "    nameVideo = \"AudioExtraction_Video_\" + str(j) + (\".wav\")\n",
        "    print(\"\\nExporting audio from video: \" + file + \"\\nTo: \" + nameVideo)\n",
        "    audio.write_audiofile(os.getcwd() + \"/\" + nameVideo)\n",
        "    t1 = 0\n",
        "    t2 = duration * 1000 if duration < 30 else 30000\n",
        "    textTemp = \"\"\n",
        "    \n",
        "    final_fragment = False\n",
        "    while t2 <= duration*1000 and not final_fragment:\n",
        "      final_fragment = True if t2 == duration * 1000 else False\n",
        "      newAudio = AudioSegment.from_wav(nameVideo)\n",
        "      newAudio = newAudio[t1:t2]\n",
        "      name = 'Video_' + str(j) + '_segment_' + str(i) + '.wav'\n",
        "      newAudio.export(name, format=\"wav\")\n",
        "      t1 += 30000\n",
        "      t2 = duration * 1000 if t2 + 30000 > duration * 1000 else t2 + 30000\n",
        "      i+= 1\n",
        "      print(\"\\nAnalizando: \" + name)\n",
        "      resAux = asr_model2.transcribe_file(os.getcwd() + \"/\" + name)\n",
        "      textTemp = textTemp + \" \" + resAux\n",
        "    \n",
        "    listOfText.append(textTemp[1:])\n",
        "    j += 1\n",
        "  print(\"\\nTerminado en: \" + str(f'{perf_counter() - a:.2f}') + \" seg.\\n\")\n",
        "\n",
        "  return listOfText"
      ],
      "execution_count": 84,
      "outputs": []
    },
    {
      "cell_type": "code",
      "metadata": {
        "id": "tTDCkVM_suJe"
      },
      "source": [
        "def transcribe_audio(fileList = []):\n",
        "  listOfText = []\n",
        "  if fileList == [] :\n",
        "    uploaded = files.upload()\n",
        "    listOfAudios = list(uploaded.keys())\n",
        "  else:\n",
        "    listOfAudios = fileList\n",
        "  \n",
        "  a = perf_counter()\n",
        "  for file in listOfAudios:\n",
        "    duration = librosa.get_duration(filename=file)\n",
        "    t1 = 0\n",
        "    t2 = duration * 1000 if duration < 30 else 30000\n",
        "    textTemp = \"\"\n",
        "    j = 1\n",
        "    i = 1\n",
        "    final_fragment = False\n",
        "    while t2 <= duration*1000 and not final_fragment:\n",
        "      final_fragment = True if t2 == duration * 1000 else False\n",
        "      newAudio = AudioSegment.from_wav(file)\n",
        "      newAudio = newAudio[t1:t2]\n",
        "      name = 'Audio_' + str(j) + '_segment_' + str(i) + '.wav'\n",
        "      newAudio.export(name, format=\"wav\")\n",
        "      t1 += 30000\n",
        "      t2 = duration * 1000 if t2 + 30000 > duration * 1000 else t2 + 30000\n",
        "      i+= 1\n",
        "      print(\"\\nAnalizando: \" + name)\n",
        "      resAux = asr_model2.transcribe_file(os.getcwd() + \"/\" + name)\n",
        "      textTemp = textTemp + \" \" + resAux\n",
        "    \n",
        "    listOfText.append(textTemp[1:])\n",
        "    j += 1\n",
        "  print(\"\\nTerminado en: \" + str(f'{perf_counter() - a:.2f}') + \" seg.\\n\")\n",
        "\n",
        "  return listOfText\n",
        "\n"
      ],
      "execution_count": 91,
      "outputs": []
    },
    {
      "cell_type": "markdown",
      "metadata": {
        "id": "UW7A25K6D_Dz"
      },
      "source": [
        "#Assembly function\n",
        "\n"
      ]
    },
    {
      "cell_type": "code",
      "metadata": {
        "id": "hfi8yYOtKUtT"
      },
      "source": [
        "def sentiment_assembly(text):\n",
        "  counter = 0\n",
        "  temp_seq = tokenizer.texts_to_sequences([text])\n",
        "  temp_pad_seq = pad_sequences(temp_seq)\n",
        "\n",
        "  v1 = model1.predict(temp_pad_seq)\n",
        "  v1 = v1[0][0]\n",
        "\n",
        "  v1 = 1 if v1 > 0.7 else 0\n",
        "\n",
        "  v2 = model2.predict(temp_pad_seq)\n",
        "  v2 = v2[0][0]\n",
        "\n",
        "  v2 = 1 if v2 > 0.7 else 0\n",
        "\n",
        "  v3 = model3.predict(temp_pad_seq)\n",
        "  v3 = v3[0][0]\n",
        "\n",
        "  v3 = 1 if v3 > 0.7 else 0\n",
        "  \n",
        "  return 'Positive' if v1+v2+v3 >= 2 else 'Negative'"
      ],
      "execution_count": 93,
      "outputs": []
    },
    {
      "cell_type": "code",
      "metadata": {
        "colab": {
          "base_uri": "https://localhost:8080/",
          "height": 35
        },
        "id": "oGvDCvLNUkyn",
        "outputId": "490dbe49-1750-4576-b455-ed3bd01042ae"
      },
      "source": [
        "#sentiment_assembly('I love my life')"
      ],
      "execution_count": null,
      "outputs": [
        {
          "output_type": "execute_result",
          "data": {
            "application/vnd.google.colaboratory.intrinsic+json": {
              "type": "string"
            },
            "text/plain": [
              "'Positive'"
            ]
          },
          "metadata": {
            "tags": []
          },
          "execution_count": 105
        }
      ]
    },
    {
      "cell_type": "markdown",
      "metadata": {
        "id": "S_LwdFxhv2Ir"
      },
      "source": [
        "#Twitter"
      ]
    },
    {
      "cell_type": "markdown",
      "metadata": {
        "id": "F9NmB2dsEbxk"
      },
      "source": [
        "Para una búsqueda personalizada, puede cambiar la variable username por la cuenta que desee y la variable nTweets para conseguir los últimos n tweets de la cuenta"
      ]
    },
    {
      "cell_type": "code",
      "metadata": {
        "id": "XVPkP75jKhDU",
        "colab": {
          "base_uri": "https://localhost:8080/"
        },
        "outputId": "04a3291e-6935-4514-f7cc-92fe87d97541"
      },
      "source": [
        "Tweets = []\n",
        "Username = \"@Twitter\"\n",
        "nTweets = 100\n",
        "Tweets_Usuario = []\n",
        "\n",
        "#consumer key, consumer secret, access token, access secret.\n",
        "ckey=\"rDSsKWQKlFfKAvdGG5bKCt3D5\"\n",
        "csecret=\"lGngTfmXozAojLl3F5xZnhCkuLISxXWkHGwr8b7BIc806Qho8J\"\n",
        "atoken=\"3310850076-jf4yOAp9UfWR3oceqOXzsMWgqYslv2pBElmRHqb\"\n",
        "asecret=\"S7uLkkdvbZVKsYORhoZo3J1zs0OrOjJAhf9vggxiWQ5Bj\"\n",
        "\n",
        "class listener(StreamListener):\n",
        "\n",
        "    def on_data(self, data):\n",
        "        all_data = json.loads(data)\n",
        "\n",
        "        tweet = all_data[\"text\"]\n",
        "        Tweets.append(tweet)\n",
        "        \n",
        "        value = sentiment_assembly(tweet)\n",
        "\n",
        "        if value == 'Positive':\n",
        "          outP = open((path + \"/Twitter_Positive_results.txt\"), \"a\")\n",
        "          outP.write(value +  \" - \" + tweet)\n",
        "          outP.write(\"\\n\")\n",
        "          outP.close()\n",
        "        else:\n",
        "          outN = open((path + \"/Twitter_Negative_results.txt\"), \"a\")\n",
        "          outN.write(value +  \" - \" + tweet)\n",
        "          outN.write(\"\\n\")\n",
        "          outN.close()\n",
        "\n",
        "        print(tweet)\n",
        "\n",
        "\n",
        "        return True\n",
        "\n",
        "    def on_error(self, status):\n",
        "        print(status)\n",
        "\n",
        "auth = OAuthHandler(ckey, csecret)\n",
        "auth.set_access_token(atoken, asecret)\n",
        "\n",
        "api = tweepy.API(auth, wait_on_rate_limit=True, wait_on_rate_limit_notify=True)\n",
        "#search tweets by user\n",
        "print(\"Tuits por usuario\")\n",
        "for status in tweepy.Cursor(api.user_timeline, screen_name=Username, tweet_mode=\"extended\").items():\n",
        "    Tweets_Usuario.append(status.full_text)\n"
      ],
      "execution_count": 83,
      "outputs": [
        {
          "output_type": "stream",
          "text": [
            "Tuits por usuario\n"
          ],
          "name": "stdout"
        }
      ]
    },
    {
      "cell_type": "markdown",
      "metadata": {
        "id": "b-faIRDOEpnd"
      },
      "source": [
        "Esta celda debe ser detenida manualmente cuando se quiera detener la extracción de tweets"
      ]
    },
    {
      "cell_type": "code",
      "metadata": {
        "colab": {
          "base_uri": "https://localhost:8080/",
          "height": 1000
        },
        "id": "rTeVdKBlNG5x",
        "outputId": "91dc9a29-569a-4bba-d38d-bd315c11ac38"
      },
      "source": [
        "twitterStream = Stream(auth, listener())\n",
        "twitterStream.filter(track=[\"podcast\"])"
      ],
      "execution_count": 76,
      "outputs": [
        {
          "output_type": "stream",
          "text": [
            "📈ベットシード\n",
            "#ブックメーカー #オッズ速報\n",
            "以下の試合のオープニングオッズが発表されました\n",
            "\n",
            "2021年07月21日04:37 開始予定（日本時間）\n",
            "野球 / メジャーリーグ\n",
            "Oakland Athletics vs Los… https://t.co/cy4Q7zknY8\n",
            "📈ベットシード\n",
            "#ブックメーカー #オッズ速報\n",
            "以下の試合のオープニングオッズが発表されました\n",
            "\n",
            "2021年07月21日05:10 開始予定（日本時間）\n",
            "野球 / メジャーリーグ\n",
            "Milwaukee Brewers vs Kans… https://t.co/Fum1QvU99V\n",
            "RT @riocarmine: Anyone who’s ever been to an #NERevs game at Gillette knows that playing in someone else’s house is … well, less than ideal…\n",
            "📈ベットシード\n",
            "#ブックメーカー #オッズ速報\n",
            "以下の試合のオープニングオッズが発表されました\n",
            "\n",
            "2021年07月21日08:05 開始予定（日本時間）\n",
            "野球 / メジャーリーグ\n",
            "Washington Nationals vs M… https://t.co/v1KFeEN4Ka\n",
            "📈ベットシード\n",
            "#ブックメーカー #オッズ速報\n",
            "以下の試合のオープニングオッズが発表されました\n",
            "\n",
            "2021年07月21日08:05 開始予定（日本時間）\n",
            "野球 / メジャーリーグ\n",
            "New York Yankees vs Phila… https://t.co/nOIcZc4o6K\n",
            "📈ベットシード\n",
            "#ブックメーカー #オッズ速報\n",
            "以下の試合のオープニングオッズが発表されました\n",
            "\n",
            "2021年07月21日08:10 開始予定（日本時間）\n",
            "野球 / メジャーリーグ\n",
            "Detroit Tigers vs Texas R… https://t.co/eDY94ZpTAN\n",
            "📈ベットシード\n",
            "#ブックメーカー #オッズ速報\n",
            "以下の試合のオープニングオッズが発表されました\n",
            "\n",
            "2021年07月21日08:10 開始予定（日本時間）\n",
            "野球 / メジャーリーグ\n",
            "Tampa Bay Rays vs Baltimo… https://t.co/hAJ7ykisJh\n",
            "📈ベットシード\n",
            "#ブックメーカー #オッズ速報\n",
            "以下の試合のオープニングオッズが発表されました\n",
            "\n",
            "2021年07月21日09:10 開始予定（日本時間）\n",
            "野球 / メジャーリーグ\n",
            "Houston Astros vs Clevela… https://t.co/kTAaEUj9FV\n",
            "📈ベットシード\n",
            "#ブックメーカー #オッズ速報\n",
            "以下の試合のオープニングオッズが発表されました\n",
            "\n",
            "2021年07月21日09:10 開始予定（日本時間）\n",
            "野球 / メジャーリーグ\n",
            "Chicago White Sox vs Minn… https://t.co/FNC3GEgvGy\n",
            "📈ベットシード\n",
            "#ブックメーカー #オッズ速報\n",
            "以下の試合のオープニングオッズが発表されました\n",
            "\n",
            "2021年07月21日09:40 開始予定（日本時間）\n",
            "野球 / メジャーリーグ\n",
            "Colorado Rockies vs Seatt… https://t.co/leawy60SXj\n",
            "And there is our new trainer…Katie Romano!!! Great to have you on staff, looking forward to working with you.\n",
            "Pittsburgh Soccer Team Stops Selling Chick-fil-A So That Fans Can 'Feel Welcome'. https://t.co/fnXI3A7Nr4 \n",
            "\n",
            "I thoug… https://t.co/9BnMB9M5c5\n",
            "@anonmomlife Yeah I was thinking that. Like gymnastics for Peyton one night a week and then soccer for tristan two nights a week.\n",
            "RT @daniellevslaton: Women’s soccer was added as an Olympic sport in Atlanta 1996. Formiga has played in every one. That’s incredible.\n",
            "RT @MommyMediumDick: one of my favorite moments from quarantine was when a soccer team had to apologize for having a cardboard cut out of o…\n",
            "By popular demand, we are going to make a 2021 alumni game happen! All soccer alumni should use this link to regist… https://t.co/1q0UvrcYjX\n",
            "RT @buysoccercards: 2020-21 Topps Merlin Pre-sale for only $239 a box. Cheapest you’ll find it anywhere.\n",
            "\n",
            "https://t.co/DLBClzQltn\n",
            "\n",
            "#Topps #…\n",
            "RT @RJuarez414: Will go down as a CIHS soccer legend!\n",
            "RT @PicksCity: Proud to announce the newest Pickscity AGENT\n",
            "\n",
            "Welcome to the fam @DustyTrout 🥂🍾\n",
            "\n",
            "#SportsBetting #Expert out of #Canada\n",
            "Speci…\n",
            "RT @AsteadWesley: tl;dr  \n",
            "\n",
            "be rich \n",
            "https://t.co/bKEAyIBKBf\n",
            "RT @aokima33: オリンピック村が完全にエピセンターになった場合、大規模なPCR検査も大人数の入院先も用意していません。私の知る限りでは。本来なら大型の病院船を選手村の横に着岸しておくべきでした。しかし日本の自衛隊は大型の病院船も持っていません。\n"
          ],
          "name": "stdout"
        },
        {
          "output_type": "error",
          "ename": "KeyboardInterrupt",
          "evalue": "ignored",
          "traceback": [
            "\u001b[0;31m---------------------------------------------------------------------------\u001b[0m",
            "\u001b[0;31mKeyboardInterrupt\u001b[0m                         Traceback (most recent call last)",
            "\u001b[0;32m<ipython-input-76-4642bac2696a>\u001b[0m in \u001b[0;36m<module>\u001b[0;34m()\u001b[0m\n\u001b[1;32m      1\u001b[0m \u001b[0mtwitterStream\u001b[0m \u001b[0;34m=\u001b[0m \u001b[0mStream\u001b[0m\u001b[0;34m(\u001b[0m\u001b[0mauth\u001b[0m\u001b[0;34m,\u001b[0m \u001b[0mlistener\u001b[0m\u001b[0;34m(\u001b[0m\u001b[0;34m)\u001b[0m\u001b[0;34m)\u001b[0m\u001b[0;34m\u001b[0m\u001b[0;34m\u001b[0m\u001b[0m\n\u001b[0;32m----> 2\u001b[0;31m \u001b[0mtwitterStream\u001b[0m\u001b[0;34m.\u001b[0m\u001b[0mfilter\u001b[0m\u001b[0;34m(\u001b[0m\u001b[0mtrack\u001b[0m\u001b[0;34m=\u001b[0m\u001b[0;34m[\u001b[0m\u001b[0;34m\"soccer\"\u001b[0m\u001b[0;34m]\u001b[0m\u001b[0;34m)\u001b[0m\u001b[0;34m\u001b[0m\u001b[0;34m\u001b[0m\u001b[0m\n\u001b[0m",
            "\u001b[0;32m/usr/local/lib/python3.7/dist-packages/tweepy/streaming.py\u001b[0m in \u001b[0;36mfilter\u001b[0;34m(self, follow, track, is_async, locations, stall_warnings, languages, encoding, filter_level)\u001b[0m\n\u001b[1;32m    472\u001b[0m             \u001b[0mself\u001b[0m\u001b[0;34m.\u001b[0m\u001b[0mbody\u001b[0m\u001b[0;34m[\u001b[0m\u001b[0;34m'filter_level'\u001b[0m\u001b[0;34m]\u001b[0m \u001b[0;34m=\u001b[0m \u001b[0mfilter_level\u001b[0m\u001b[0;34m.\u001b[0m\u001b[0mencode\u001b[0m\u001b[0;34m(\u001b[0m\u001b[0mencoding\u001b[0m\u001b[0;34m)\u001b[0m\u001b[0;34m\u001b[0m\u001b[0;34m\u001b[0m\u001b[0m\n\u001b[1;32m    473\u001b[0m         \u001b[0mself\u001b[0m\u001b[0;34m.\u001b[0m\u001b[0msession\u001b[0m\u001b[0;34m.\u001b[0m\u001b[0mparams\u001b[0m \u001b[0;34m=\u001b[0m \u001b[0;34m{\u001b[0m\u001b[0;34m'delimited'\u001b[0m\u001b[0;34m:\u001b[0m \u001b[0;34m'length'\u001b[0m\u001b[0;34m}\u001b[0m\u001b[0;34m\u001b[0m\u001b[0;34m\u001b[0m\u001b[0m\n\u001b[0;32m--> 474\u001b[0;31m         \u001b[0mself\u001b[0m\u001b[0;34m.\u001b[0m\u001b[0m_start\u001b[0m\u001b[0;34m(\u001b[0m\u001b[0mis_async\u001b[0m\u001b[0;34m)\u001b[0m\u001b[0;34m\u001b[0m\u001b[0;34m\u001b[0m\u001b[0m\n\u001b[0m\u001b[1;32m    475\u001b[0m \u001b[0;34m\u001b[0m\u001b[0m\n\u001b[1;32m    476\u001b[0m     def sitestream(self, follow, stall_warnings=False,\n",
            "\u001b[0;32m/usr/local/lib/python3.7/dist-packages/tweepy/streaming.py\u001b[0m in \u001b[0;36m_start\u001b[0;34m(self, is_async)\u001b[0m\n\u001b[1;32m    387\u001b[0m             \u001b[0mself\u001b[0m\u001b[0;34m.\u001b[0m\u001b[0m_thread\u001b[0m\u001b[0;34m.\u001b[0m\u001b[0mstart\u001b[0m\u001b[0;34m(\u001b[0m\u001b[0;34m)\u001b[0m\u001b[0;34m\u001b[0m\u001b[0;34m\u001b[0m\u001b[0m\n\u001b[1;32m    388\u001b[0m         \u001b[0;32melse\u001b[0m\u001b[0;34m:\u001b[0m\u001b[0;34m\u001b[0m\u001b[0;34m\u001b[0m\u001b[0m\n\u001b[0;32m--> 389\u001b[0;31m             \u001b[0mself\u001b[0m\u001b[0;34m.\u001b[0m\u001b[0m_run\u001b[0m\u001b[0;34m(\u001b[0m\u001b[0;34m)\u001b[0m\u001b[0;34m\u001b[0m\u001b[0;34m\u001b[0m\u001b[0m\n\u001b[0m\u001b[1;32m    390\u001b[0m \u001b[0;34m\u001b[0m\u001b[0m\n\u001b[1;32m    391\u001b[0m     \u001b[0;32mdef\u001b[0m \u001b[0mon_closed\u001b[0m\u001b[0;34m(\u001b[0m\u001b[0mself\u001b[0m\u001b[0;34m,\u001b[0m \u001b[0mresp\u001b[0m\u001b[0;34m)\u001b[0m\u001b[0;34m:\u001b[0m\u001b[0;34m\u001b[0m\u001b[0;34m\u001b[0m\u001b[0m\n",
            "\u001b[0;32m/usr/local/lib/python3.7/dist-packages/tweepy/streaming.py\u001b[0m in \u001b[0;36m_run\u001b[0;34m(self)\u001b[0m\n\u001b[1;32m    287\u001b[0m                     \u001b[0mself\u001b[0m\u001b[0;34m.\u001b[0m\u001b[0msnooze_time\u001b[0m \u001b[0;34m=\u001b[0m \u001b[0mself\u001b[0m\u001b[0;34m.\u001b[0m\u001b[0msnooze_time_step\u001b[0m\u001b[0;34m\u001b[0m\u001b[0;34m\u001b[0m\u001b[0m\n\u001b[1;32m    288\u001b[0m                     \u001b[0mself\u001b[0m\u001b[0;34m.\u001b[0m\u001b[0mlistener\u001b[0m\u001b[0;34m.\u001b[0m\u001b[0mon_connect\u001b[0m\u001b[0;34m(\u001b[0m\u001b[0;34m)\u001b[0m\u001b[0;34m\u001b[0m\u001b[0;34m\u001b[0m\u001b[0m\n\u001b[0;32m--> 289\u001b[0;31m                     \u001b[0mself\u001b[0m\u001b[0;34m.\u001b[0m\u001b[0m_read_loop\u001b[0m\u001b[0;34m(\u001b[0m\u001b[0mresp\u001b[0m\u001b[0;34m)\u001b[0m\u001b[0;34m\u001b[0m\u001b[0;34m\u001b[0m\u001b[0m\n\u001b[0m\u001b[1;32m    290\u001b[0m             \u001b[0;32mexcept\u001b[0m \u001b[0;34m(\u001b[0m\u001b[0mTimeout\u001b[0m\u001b[0;34m,\u001b[0m \u001b[0mssl\u001b[0m\u001b[0;34m.\u001b[0m\u001b[0mSSLError\u001b[0m\u001b[0;34m)\u001b[0m \u001b[0;32mas\u001b[0m \u001b[0mexc\u001b[0m\u001b[0;34m:\u001b[0m\u001b[0;34m\u001b[0m\u001b[0;34m\u001b[0m\u001b[0m\n\u001b[1;32m    291\u001b[0m                 \u001b[0;31m# This is still necessary, as a SSLError can actually be\u001b[0m\u001b[0;34m\u001b[0m\u001b[0;34m\u001b[0m\u001b[0;34m\u001b[0m\u001b[0m\n",
            "\u001b[0;32m/usr/local/lib/python3.7/dist-packages/tweepy/streaming.py\u001b[0m in \u001b[0;36m_read_loop\u001b[0;34m(self, resp)\u001b[0m\n\u001b[1;32m    337\u001b[0m             \u001b[0mlength\u001b[0m \u001b[0;34m=\u001b[0m \u001b[0;36m0\u001b[0m\u001b[0;34m\u001b[0m\u001b[0;34m\u001b[0m\u001b[0m\n\u001b[1;32m    338\u001b[0m             \u001b[0;32mwhile\u001b[0m \u001b[0;32mnot\u001b[0m \u001b[0mresp\u001b[0m\u001b[0;34m.\u001b[0m\u001b[0mraw\u001b[0m\u001b[0;34m.\u001b[0m\u001b[0mclosed\u001b[0m\u001b[0;34m:\u001b[0m\u001b[0;34m\u001b[0m\u001b[0;34m\u001b[0m\u001b[0m\n\u001b[0;32m--> 339\u001b[0;31m                 \u001b[0mline\u001b[0m \u001b[0;34m=\u001b[0m \u001b[0mbuf\u001b[0m\u001b[0;34m.\u001b[0m\u001b[0mread_line\u001b[0m\u001b[0;34m(\u001b[0m\u001b[0;34m)\u001b[0m\u001b[0;34m\u001b[0m\u001b[0;34m\u001b[0m\u001b[0m\n\u001b[0m\u001b[1;32m    340\u001b[0m                 \u001b[0mstripped_line\u001b[0m \u001b[0;34m=\u001b[0m \u001b[0mline\u001b[0m\u001b[0;34m.\u001b[0m\u001b[0mstrip\u001b[0m\u001b[0;34m(\u001b[0m\u001b[0;34m)\u001b[0m \u001b[0;32mif\u001b[0m \u001b[0mline\u001b[0m \u001b[0;32melse\u001b[0m \u001b[0mline\u001b[0m \u001b[0;31m# line is sometimes None so we need to check here\u001b[0m\u001b[0;34m\u001b[0m\u001b[0;34m\u001b[0m\u001b[0m\n\u001b[1;32m    341\u001b[0m                 \u001b[0;32mif\u001b[0m \u001b[0;32mnot\u001b[0m \u001b[0mstripped_line\u001b[0m\u001b[0;34m:\u001b[0m\u001b[0;34m\u001b[0m\u001b[0;34m\u001b[0m\u001b[0m\n",
            "\u001b[0;32m/usr/local/lib/python3.7/dist-packages/tweepy/streaming.py\u001b[0m in \u001b[0;36mread_line\u001b[0;34m(self, sep)\u001b[0m\n\u001b[1;32m    198\u001b[0m             \u001b[0;32melse\u001b[0m\u001b[0;34m:\u001b[0m\u001b[0;34m\u001b[0m\u001b[0;34m\u001b[0m\u001b[0m\n\u001b[1;32m    199\u001b[0m                 \u001b[0mstart\u001b[0m \u001b[0;34m=\u001b[0m \u001b[0mlen\u001b[0m\u001b[0;34m(\u001b[0m\u001b[0mself\u001b[0m\u001b[0;34m.\u001b[0m\u001b[0m_buffer\u001b[0m\u001b[0;34m)\u001b[0m\u001b[0;34m\u001b[0m\u001b[0;34m\u001b[0m\u001b[0m\n\u001b[0;32m--> 200\u001b[0;31m             \u001b[0mself\u001b[0m\u001b[0;34m.\u001b[0m\u001b[0m_buffer\u001b[0m \u001b[0;34m+=\u001b[0m \u001b[0mself\u001b[0m\u001b[0;34m.\u001b[0m\u001b[0m_stream\u001b[0m\u001b[0;34m.\u001b[0m\u001b[0mread\u001b[0m\u001b[0;34m(\u001b[0m\u001b[0mself\u001b[0m\u001b[0;34m.\u001b[0m\u001b[0m_chunk_size\u001b[0m\u001b[0;34m)\u001b[0m\u001b[0;34m\u001b[0m\u001b[0;34m\u001b[0m\u001b[0m\n\u001b[0m\u001b[1;32m    201\u001b[0m         \u001b[0;32mreturn\u001b[0m \u001b[0msix\u001b[0m\u001b[0;34m.\u001b[0m\u001b[0mb\u001b[0m\u001b[0;34m(\u001b[0m\u001b[0;34m''\u001b[0m\u001b[0;34m)\u001b[0m\u001b[0;34m\u001b[0m\u001b[0;34m\u001b[0m\u001b[0m\n\u001b[1;32m    202\u001b[0m \u001b[0;34m\u001b[0m\u001b[0m\n",
            "\u001b[0;32m/usr/local/lib/python3.7/dist-packages/urllib3/response.py\u001b[0m in \u001b[0;36mread\u001b[0;34m(self, amt, decode_content, cache_content)\u001b[0m\n\u001b[1;32m    442\u001b[0m             \u001b[0;32melse\u001b[0m\u001b[0;34m:\u001b[0m\u001b[0;34m\u001b[0m\u001b[0;34m\u001b[0m\u001b[0m\n\u001b[1;32m    443\u001b[0m                 \u001b[0mcache_content\u001b[0m \u001b[0;34m=\u001b[0m \u001b[0;32mFalse\u001b[0m\u001b[0;34m\u001b[0m\u001b[0;34m\u001b[0m\u001b[0m\n\u001b[0;32m--> 444\u001b[0;31m                 \u001b[0mdata\u001b[0m \u001b[0;34m=\u001b[0m \u001b[0mself\u001b[0m\u001b[0;34m.\u001b[0m\u001b[0m_fp\u001b[0m\u001b[0;34m.\u001b[0m\u001b[0mread\u001b[0m\u001b[0;34m(\u001b[0m\u001b[0mamt\u001b[0m\u001b[0;34m)\u001b[0m\u001b[0;34m\u001b[0m\u001b[0;34m\u001b[0m\u001b[0m\n\u001b[0m\u001b[1;32m    445\u001b[0m                 \u001b[0;32mif\u001b[0m \u001b[0mamt\u001b[0m \u001b[0;34m!=\u001b[0m \u001b[0;36m0\u001b[0m \u001b[0;32mand\u001b[0m \u001b[0;32mnot\u001b[0m \u001b[0mdata\u001b[0m\u001b[0;34m:\u001b[0m  \u001b[0;31m# Platform-specific: Buggy versions of Python.\u001b[0m\u001b[0;34m\u001b[0m\u001b[0;34m\u001b[0m\u001b[0m\n\u001b[1;32m    446\u001b[0m                     \u001b[0;31m# Close the connection when no data is returned\u001b[0m\u001b[0;34m\u001b[0m\u001b[0;34m\u001b[0m\u001b[0;34m\u001b[0m\u001b[0m\n",
            "\u001b[0;32m/usr/lib/python3.7/http/client.py\u001b[0m in \u001b[0;36mread\u001b[0;34m(self, amt)\u001b[0m\n\u001b[1;32m    463\u001b[0m             \u001b[0;31m# Amount is given, implement using readinto\u001b[0m\u001b[0;34m\u001b[0m\u001b[0;34m\u001b[0m\u001b[0;34m\u001b[0m\u001b[0m\n\u001b[1;32m    464\u001b[0m             \u001b[0mb\u001b[0m \u001b[0;34m=\u001b[0m \u001b[0mbytearray\u001b[0m\u001b[0;34m(\u001b[0m\u001b[0mamt\u001b[0m\u001b[0;34m)\u001b[0m\u001b[0;34m\u001b[0m\u001b[0;34m\u001b[0m\u001b[0m\n\u001b[0;32m--> 465\u001b[0;31m             \u001b[0mn\u001b[0m \u001b[0;34m=\u001b[0m \u001b[0mself\u001b[0m\u001b[0;34m.\u001b[0m\u001b[0mreadinto\u001b[0m\u001b[0;34m(\u001b[0m\u001b[0mb\u001b[0m\u001b[0;34m)\u001b[0m\u001b[0;34m\u001b[0m\u001b[0;34m\u001b[0m\u001b[0m\n\u001b[0m\u001b[1;32m    466\u001b[0m             \u001b[0;32mreturn\u001b[0m \u001b[0mmemoryview\u001b[0m\u001b[0;34m(\u001b[0m\u001b[0mb\u001b[0m\u001b[0;34m)\u001b[0m\u001b[0;34m[\u001b[0m\u001b[0;34m:\u001b[0m\u001b[0mn\u001b[0m\u001b[0;34m]\u001b[0m\u001b[0;34m.\u001b[0m\u001b[0mtobytes\u001b[0m\u001b[0;34m(\u001b[0m\u001b[0;34m)\u001b[0m\u001b[0;34m\u001b[0m\u001b[0;34m\u001b[0m\u001b[0m\n\u001b[1;32m    467\u001b[0m         \u001b[0;32melse\u001b[0m\u001b[0;34m:\u001b[0m\u001b[0;34m\u001b[0m\u001b[0;34m\u001b[0m\u001b[0m\n",
            "\u001b[0;32m/usr/lib/python3.7/http/client.py\u001b[0m in \u001b[0;36mreadinto\u001b[0;34m(self, b)\u001b[0m\n\u001b[1;32m    497\u001b[0m \u001b[0;34m\u001b[0m\u001b[0m\n\u001b[1;32m    498\u001b[0m         \u001b[0;32mif\u001b[0m \u001b[0mself\u001b[0m\u001b[0;34m.\u001b[0m\u001b[0mchunked\u001b[0m\u001b[0;34m:\u001b[0m\u001b[0;34m\u001b[0m\u001b[0;34m\u001b[0m\u001b[0m\n\u001b[0;32m--> 499\u001b[0;31m             \u001b[0;32mreturn\u001b[0m \u001b[0mself\u001b[0m\u001b[0;34m.\u001b[0m\u001b[0m_readinto_chunked\u001b[0m\u001b[0;34m(\u001b[0m\u001b[0mb\u001b[0m\u001b[0;34m)\u001b[0m\u001b[0;34m\u001b[0m\u001b[0;34m\u001b[0m\u001b[0m\n\u001b[0m\u001b[1;32m    500\u001b[0m \u001b[0;34m\u001b[0m\u001b[0m\n\u001b[1;32m    501\u001b[0m         \u001b[0;32mif\u001b[0m \u001b[0mself\u001b[0m\u001b[0;34m.\u001b[0m\u001b[0mlength\u001b[0m \u001b[0;32mis\u001b[0m \u001b[0;32mnot\u001b[0m \u001b[0;32mNone\u001b[0m\u001b[0;34m:\u001b[0m\u001b[0;34m\u001b[0m\u001b[0;34m\u001b[0m\u001b[0m\n",
            "\u001b[0;32m/usr/lib/python3.7/http/client.py\u001b[0m in \u001b[0;36m_readinto_chunked\u001b[0;34m(self, b)\u001b[0m\n\u001b[1;32m    592\u001b[0m         \u001b[0;32mtry\u001b[0m\u001b[0;34m:\u001b[0m\u001b[0;34m\u001b[0m\u001b[0;34m\u001b[0m\u001b[0m\n\u001b[1;32m    593\u001b[0m             \u001b[0;32mwhile\u001b[0m \u001b[0;32mTrue\u001b[0m\u001b[0;34m:\u001b[0m\u001b[0;34m\u001b[0m\u001b[0;34m\u001b[0m\u001b[0m\n\u001b[0;32m--> 594\u001b[0;31m                 \u001b[0mchunk_left\u001b[0m \u001b[0;34m=\u001b[0m \u001b[0mself\u001b[0m\u001b[0;34m.\u001b[0m\u001b[0m_get_chunk_left\u001b[0m\u001b[0;34m(\u001b[0m\u001b[0;34m)\u001b[0m\u001b[0;34m\u001b[0m\u001b[0;34m\u001b[0m\u001b[0m\n\u001b[0m\u001b[1;32m    595\u001b[0m                 \u001b[0;32mif\u001b[0m \u001b[0mchunk_left\u001b[0m \u001b[0;32mis\u001b[0m \u001b[0;32mNone\u001b[0m\u001b[0;34m:\u001b[0m\u001b[0;34m\u001b[0m\u001b[0;34m\u001b[0m\u001b[0m\n\u001b[1;32m    596\u001b[0m                     \u001b[0;32mreturn\u001b[0m \u001b[0mtotal_bytes\u001b[0m\u001b[0;34m\u001b[0m\u001b[0;34m\u001b[0m\u001b[0m\n",
            "\u001b[0;32m/usr/lib/python3.7/http/client.py\u001b[0m in \u001b[0;36m_get_chunk_left\u001b[0;34m(self)\u001b[0m\n\u001b[1;32m    560\u001b[0m                 \u001b[0mself\u001b[0m\u001b[0;34m.\u001b[0m\u001b[0m_safe_read\u001b[0m\u001b[0;34m(\u001b[0m\u001b[0;36m2\u001b[0m\u001b[0;34m)\u001b[0m  \u001b[0;31m# toss the CRLF at the end of the chunk\u001b[0m\u001b[0;34m\u001b[0m\u001b[0;34m\u001b[0m\u001b[0m\n\u001b[1;32m    561\u001b[0m             \u001b[0;32mtry\u001b[0m\u001b[0;34m:\u001b[0m\u001b[0;34m\u001b[0m\u001b[0;34m\u001b[0m\u001b[0m\n\u001b[0;32m--> 562\u001b[0;31m                 \u001b[0mchunk_left\u001b[0m \u001b[0;34m=\u001b[0m \u001b[0mself\u001b[0m\u001b[0;34m.\u001b[0m\u001b[0m_read_next_chunk_size\u001b[0m\u001b[0;34m(\u001b[0m\u001b[0;34m)\u001b[0m\u001b[0;34m\u001b[0m\u001b[0;34m\u001b[0m\u001b[0m\n\u001b[0m\u001b[1;32m    563\u001b[0m             \u001b[0;32mexcept\u001b[0m \u001b[0mValueError\u001b[0m\u001b[0;34m:\u001b[0m\u001b[0;34m\u001b[0m\u001b[0;34m\u001b[0m\u001b[0m\n\u001b[1;32m    564\u001b[0m                 \u001b[0;32mraise\u001b[0m \u001b[0mIncompleteRead\u001b[0m\u001b[0;34m(\u001b[0m\u001b[0;34mb''\u001b[0m\u001b[0;34m)\u001b[0m\u001b[0;34m\u001b[0m\u001b[0;34m\u001b[0m\u001b[0m\n",
            "\u001b[0;32m/usr/lib/python3.7/http/client.py\u001b[0m in \u001b[0;36m_read_next_chunk_size\u001b[0;34m(self)\u001b[0m\n\u001b[1;32m    520\u001b[0m     \u001b[0;32mdef\u001b[0m \u001b[0m_read_next_chunk_size\u001b[0m\u001b[0;34m(\u001b[0m\u001b[0mself\u001b[0m\u001b[0;34m)\u001b[0m\u001b[0;34m:\u001b[0m\u001b[0;34m\u001b[0m\u001b[0;34m\u001b[0m\u001b[0m\n\u001b[1;32m    521\u001b[0m         \u001b[0;31m# Read the next chunk size from the file\u001b[0m\u001b[0;34m\u001b[0m\u001b[0;34m\u001b[0m\u001b[0;34m\u001b[0m\u001b[0m\n\u001b[0;32m--> 522\u001b[0;31m         \u001b[0mline\u001b[0m \u001b[0;34m=\u001b[0m \u001b[0mself\u001b[0m\u001b[0;34m.\u001b[0m\u001b[0mfp\u001b[0m\u001b[0;34m.\u001b[0m\u001b[0mreadline\u001b[0m\u001b[0;34m(\u001b[0m\u001b[0m_MAXLINE\u001b[0m \u001b[0;34m+\u001b[0m \u001b[0;36m1\u001b[0m\u001b[0;34m)\u001b[0m\u001b[0;34m\u001b[0m\u001b[0;34m\u001b[0m\u001b[0m\n\u001b[0m\u001b[1;32m    523\u001b[0m         \u001b[0;32mif\u001b[0m \u001b[0mlen\u001b[0m\u001b[0;34m(\u001b[0m\u001b[0mline\u001b[0m\u001b[0;34m)\u001b[0m \u001b[0;34m>\u001b[0m \u001b[0m_MAXLINE\u001b[0m\u001b[0;34m:\u001b[0m\u001b[0;34m\u001b[0m\u001b[0;34m\u001b[0m\u001b[0m\n\u001b[1;32m    524\u001b[0m             \u001b[0;32mraise\u001b[0m \u001b[0mLineTooLong\u001b[0m\u001b[0;34m(\u001b[0m\u001b[0;34m\"chunk size\"\u001b[0m\u001b[0;34m)\u001b[0m\u001b[0;34m\u001b[0m\u001b[0;34m\u001b[0m\u001b[0m\n",
            "\u001b[0;32m/usr/lib/python3.7/socket.py\u001b[0m in \u001b[0;36mreadinto\u001b[0;34m(self, b)\u001b[0m\n\u001b[1;32m    587\u001b[0m         \u001b[0;32mwhile\u001b[0m \u001b[0;32mTrue\u001b[0m\u001b[0;34m:\u001b[0m\u001b[0;34m\u001b[0m\u001b[0;34m\u001b[0m\u001b[0m\n\u001b[1;32m    588\u001b[0m             \u001b[0;32mtry\u001b[0m\u001b[0;34m:\u001b[0m\u001b[0;34m\u001b[0m\u001b[0;34m\u001b[0m\u001b[0m\n\u001b[0;32m--> 589\u001b[0;31m                 \u001b[0;32mreturn\u001b[0m \u001b[0mself\u001b[0m\u001b[0;34m.\u001b[0m\u001b[0m_sock\u001b[0m\u001b[0;34m.\u001b[0m\u001b[0mrecv_into\u001b[0m\u001b[0;34m(\u001b[0m\u001b[0mb\u001b[0m\u001b[0;34m)\u001b[0m\u001b[0;34m\u001b[0m\u001b[0;34m\u001b[0m\u001b[0m\n\u001b[0m\u001b[1;32m    590\u001b[0m             \u001b[0;32mexcept\u001b[0m \u001b[0mtimeout\u001b[0m\u001b[0;34m:\u001b[0m\u001b[0;34m\u001b[0m\u001b[0;34m\u001b[0m\u001b[0m\n\u001b[1;32m    591\u001b[0m                 \u001b[0mself\u001b[0m\u001b[0;34m.\u001b[0m\u001b[0m_timeout_occurred\u001b[0m \u001b[0;34m=\u001b[0m \u001b[0;32mTrue\u001b[0m\u001b[0;34m\u001b[0m\u001b[0;34m\u001b[0m\u001b[0m\n",
            "\u001b[0;32m/usr/lib/python3.7/ssl.py\u001b[0m in \u001b[0;36mrecv_into\u001b[0;34m(self, buffer, nbytes, flags)\u001b[0m\n\u001b[1;32m   1069\u001b[0m                   \u001b[0;34m\"non-zero flags not allowed in calls to recv_into() on %s\"\u001b[0m \u001b[0;34m%\u001b[0m\u001b[0;34m\u001b[0m\u001b[0;34m\u001b[0m\u001b[0m\n\u001b[1;32m   1070\u001b[0m                   self.__class__)\n\u001b[0;32m-> 1071\u001b[0;31m             \u001b[0;32mreturn\u001b[0m \u001b[0mself\u001b[0m\u001b[0;34m.\u001b[0m\u001b[0mread\u001b[0m\u001b[0;34m(\u001b[0m\u001b[0mnbytes\u001b[0m\u001b[0;34m,\u001b[0m \u001b[0mbuffer\u001b[0m\u001b[0;34m)\u001b[0m\u001b[0;34m\u001b[0m\u001b[0;34m\u001b[0m\u001b[0m\n\u001b[0m\u001b[1;32m   1072\u001b[0m         \u001b[0;32melse\u001b[0m\u001b[0;34m:\u001b[0m\u001b[0;34m\u001b[0m\u001b[0;34m\u001b[0m\u001b[0m\n\u001b[1;32m   1073\u001b[0m             \u001b[0;32mreturn\u001b[0m \u001b[0msuper\u001b[0m\u001b[0;34m(\u001b[0m\u001b[0;34m)\u001b[0m\u001b[0;34m.\u001b[0m\u001b[0mrecv_into\u001b[0m\u001b[0;34m(\u001b[0m\u001b[0mbuffer\u001b[0m\u001b[0;34m,\u001b[0m \u001b[0mnbytes\u001b[0m\u001b[0;34m,\u001b[0m \u001b[0mflags\u001b[0m\u001b[0;34m)\u001b[0m\u001b[0;34m\u001b[0m\u001b[0;34m\u001b[0m\u001b[0m\n",
            "\u001b[0;32m/usr/lib/python3.7/ssl.py\u001b[0m in \u001b[0;36mread\u001b[0;34m(self, len, buffer)\u001b[0m\n\u001b[1;32m    927\u001b[0m         \u001b[0;32mtry\u001b[0m\u001b[0;34m:\u001b[0m\u001b[0;34m\u001b[0m\u001b[0;34m\u001b[0m\u001b[0m\n\u001b[1;32m    928\u001b[0m             \u001b[0;32mif\u001b[0m \u001b[0mbuffer\u001b[0m \u001b[0;32mis\u001b[0m \u001b[0;32mnot\u001b[0m \u001b[0;32mNone\u001b[0m\u001b[0;34m:\u001b[0m\u001b[0;34m\u001b[0m\u001b[0;34m\u001b[0m\u001b[0m\n\u001b[0;32m--> 929\u001b[0;31m                 \u001b[0;32mreturn\u001b[0m \u001b[0mself\u001b[0m\u001b[0;34m.\u001b[0m\u001b[0m_sslobj\u001b[0m\u001b[0;34m.\u001b[0m\u001b[0mread\u001b[0m\u001b[0;34m(\u001b[0m\u001b[0mlen\u001b[0m\u001b[0;34m,\u001b[0m \u001b[0mbuffer\u001b[0m\u001b[0;34m)\u001b[0m\u001b[0;34m\u001b[0m\u001b[0;34m\u001b[0m\u001b[0m\n\u001b[0m\u001b[1;32m    930\u001b[0m             \u001b[0;32melse\u001b[0m\u001b[0;34m:\u001b[0m\u001b[0;34m\u001b[0m\u001b[0;34m\u001b[0m\u001b[0m\n\u001b[1;32m    931\u001b[0m                 \u001b[0;32mreturn\u001b[0m \u001b[0mself\u001b[0m\u001b[0;34m.\u001b[0m\u001b[0m_sslobj\u001b[0m\u001b[0;34m.\u001b[0m\u001b[0mread\u001b[0m\u001b[0;34m(\u001b[0m\u001b[0mlen\u001b[0m\u001b[0;34m)\u001b[0m\u001b[0;34m\u001b[0m\u001b[0;34m\u001b[0m\u001b[0m\n",
            "\u001b[0;31mKeyboardInterrupt\u001b[0m: "
          ]
        }
      ]
    },
    {
      "cell_type": "markdown",
      "metadata": {
        "id": "kjQuMgxlxzga"
      },
      "source": [
        "##Tweets by user\n"
      ]
    },
    {
      "cell_type": "code",
      "metadata": {
        "id": "cBBSmhvUx2Z0"
      },
      "source": [
        "def tweets_by_user():\n",
        "  for tweet in Tweets_Usuario:\n",
        "    value = sentiment_assembly(tweet)\n",
        "\n",
        "    if value == 'Positive':\n",
        "      outP = open((path + \"/Twitter_By_User_Positive_results.txt\"), \"a\")\n",
        "      outP.write(value +  \" - \" + tweet)\n",
        "      outP.write(\"\\n\")\n",
        "      outP.close()\n",
        "    else:\n",
        "      outN = open((path + \"/Twitter_By_User_Negative_results.txt\"), \"a\")\n",
        "      outN.write(value +  \" - \" + tweet)\n",
        "      outN.write(\"\\n\")\n",
        "      outN.close()\n",
        "\n",
        "    print(tweet)"
      ],
      "execution_count": 76,
      "outputs": []
    },
    {
      "cell_type": "markdown",
      "metadata": {
        "id": "E2hJa7VrxBsc"
      },
      "source": [
        "#From audio"
      ]
    },
    {
      "cell_type": "code",
      "metadata": {
        "id": "fTgobj1IOSUb"
      },
      "source": [
        "def sentiment_audio():\n",
        "  audio_to_text = transcribe_audio()\n",
        "  \n",
        "  for audio in audio_to_text:\n",
        "  \n",
        "    value = sentiment_assembly(audio)\n",
        "\n",
        "    if value == 'Positive':\n",
        "      outP = open((path + \"/Audios_Positive_results.txt\"), \"a\")\n",
        "      outP.write(value +  \" - \" + audio)\n",
        "      outP.write(\"\\n\")\n",
        "      outP.close()\n",
        "    else:\n",
        "      outN = open((path + \"/Audios_Negative_results.txt\"), \"a\")\n",
        "      outN.write(value +  \" - \" + audio)\n",
        "      outN.write(\"\\n\")\n",
        "      outN.close()\n",
        "\n",
        "    print(audio)\n",
        "\n"
      ],
      "execution_count": 84,
      "outputs": []
    },
    {
      "cell_type": "code",
      "metadata": {
        "colab": {
          "resources": {
            "http://localhost:8080/nbextensions/google.colab/files.js": {
              "data": "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",
              "ok": true,
              "headers": [
                [
                  "content-type",
                  "application/javascript"
                ]
              ],
              "status": 200,
              "status_text": ""
            }
          },
          "base_uri": "https://localhost:8080/",
          "height": 194
        },
        "id": "tK8DYUTTffKB",
        "outputId": "8cfcecd0-0142-4da1-b267-2be13a7f10a3"
      },
      "source": [
        "sentiment_audio()"
      ],
      "execution_count": 95,
      "outputs": [
        {
          "output_type": "display_data",
          "data": {
            "text/html": [
              "\n",
              "     <input type=\"file\" id=\"files-ec4fbf43-c10b-4228-a895-3f63e3345125\" name=\"files[]\" multiple disabled\n",
              "        style=\"border:none\" />\n",
              "     <output id=\"result-ec4fbf43-c10b-4228-a895-3f63e3345125\">\n",
              "      Upload widget is only available when the cell has been executed in the\n",
              "      current browser session. Please rerun this cell to enable.\n",
              "      </output>\n",
              "      <script src=\"/nbextensions/google.colab/files.js\"></script> "
            ],
            "text/plain": [
              "<IPython.core.display.HTML object>"
            ]
          },
          "metadata": {
            "tags": []
          }
        },
        {
          "output_type": "stream",
          "text": [
            "Saving 49m2a-kddi3.wav to 49m2a-kddi3 (3).wav\n",
            "\n",
            "Analizando: Audio_1_segment_1.wav\n",
            "\n",
            "Terminado en: 121.96 seg.\n",
            "\n",
            "THE MINIMUM NUMBER OF ENVELOPES IS EIGHT DID YOU TAKE NOTICE OF HIS SUCCESS DID YOU SUCCEED IN GETTING THE MINIMUM NUMBER OF NOTICES IN THE ENVELOPE I NOTICED THAT HIS SUCCESSFUL ENTRY HAD THE MINIMUM NUMBER OF WORDS I NOTICED THAT SHE IS ENJOYING MANY SUCCESSES WE SUCCEEDED IN OUR MARKETING CLAIM BECAUSE WE USED BRIGHT RED ENVELOPES WE ARE TRYING TO FIT ALL OF OUR PUZZLE PIECES TOGETHER IN A LOGICAL MANNER IT IS JUST AS IF YOU ARE BUILDING A PUZZLE BY REFERRING TO THEE\n"
          ],
          "name": "stdout"
        }
      ]
    },
    {
      "cell_type": "markdown",
      "metadata": {
        "id": "o4wdvUvHxE6f"
      },
      "source": [
        "#From Video"
      ]
    },
    {
      "cell_type": "code",
      "metadata": {
        "id": "hZ4-5-WJfuUw"
      },
      "source": [
        "def sentiment_video(video):\n",
        "  video_to_text = transcribe_video([video])\n",
        "  \n",
        "  for video in video_to_text:\n",
        "  \n",
        "    value = sentiment_assembly(video)\n",
        "\n",
        "    if value == 'Positive':\n",
        "      outP = open((path + \"/Videos_Positive_results.txt\"), \"a\")\n",
        "      outP.write(value +  \" - \" + video)\n",
        "      outP.write(\"\\n\")\n",
        "      outP.close()\n",
        "    else:\n",
        "      outN = open((path + \"/Videos_Negative_results.txt\"), \"a\")\n",
        "      outN.write(value +  \" - \" + video)\n",
        "      outN.write(\"\\n\")\n",
        "      outN.close()\n",
        "\n",
        "    print(video)\n"
      ],
      "execution_count": 85,
      "outputs": []
    },
    {
      "cell_type": "markdown",
      "metadata": {
        "id": "tIGaug1axH1B"
      },
      "source": [
        "#Transformers"
      ]
    },
    {
      "cell_type": "code",
      "metadata": {
        "colab": {
          "base_uri": "https://localhost:8080/"
        },
        "id": "LD_rf9_ff9Mo",
        "outputId": "23bbe379-e58e-4df9-963f-cdb3d19c0ad1"
      },
      "source": [
        "from transformers import pipeline\n",
        "sentimentanalyzer = pipeline(\"sentiment-analysis\")\n",
        "sentimentanalyzer2 = pipeline(\"sentiment-analysis\", model = \"nlptown/bert-base-multilingual-uncased-sentiment\")\n",
        "sentimentanalyzer3 = pipeline(\"sentiment-analysis\", model = \"rohanrajpal/bert-base-multilingual-codemixed-cased-sentiment\")\n",
        "\n",
        "result = sentimentanalyzer(\"I really don't like what you did\")[0]\n",
        "print(f\"Sentiment: {result['label']}\")"
      ],
      "execution_count": 4,
      "outputs": [
        {
          "output_type": "stream",
          "text": [
            "Sentiment: NEGATIVE\n"
          ],
          "name": "stdout"
        }
      ]
    },
    {
      "cell_type": "code",
      "metadata": {
        "id": "1y-FmuH4ikTu"
      },
      "source": [
        "#result = sentimentanalyzer3(\"I really don't like what you did\")"
      ],
      "execution_count": 5,
      "outputs": []
    },
    {
      "cell_type": "code",
      "metadata": {
        "colab": {
          "base_uri": "https://localhost:8080/",
          "height": 35
        },
        "id": "jIaeyrLbituV",
        "outputId": "416a41de-402a-4efa-decc-ebea9863fec8"
      },
      "source": [
        "#result[0]['label']"
      ],
      "execution_count": 6,
      "outputs": [
        {
          "output_type": "execute_result",
          "data": {
            "application/vnd.google.colaboratory.intrinsic+json": {
              "type": "string"
            },
            "text/plain": [
              "'LABEL_1'"
            ]
          },
          "metadata": {
            "tags": []
          },
          "execution_count": 6
        }
      ]
    },
    {
      "cell_type": "markdown",
      "metadata": {
        "id": "G4G1wi-7xKx0"
      },
      "source": [
        "##Assembly with transformers"
      ]
    },
    {
      "cell_type": "code",
      "metadata": {
        "id": "ALqHgdy9p2y8"
      },
      "source": [
        "\n",
        "def calc_sen(text):\n",
        "  return sentimentanalyzer(text)[0]['label'], sentimentanalyzer2(text)[0]['label'], sentimentanalyzer3(text)[0]['label']"
      ],
      "execution_count": 86,
      "outputs": []
    },
    {
      "cell_type": "code",
      "metadata": {
        "id": "24DWN0Whg7iq"
      },
      "source": [
        "def sentiment_transformers(text):\n",
        "  counterP = 0\n",
        "  counterNeu = 0\n",
        "  v1, v2, v3 = calc_sen(text)\n",
        "\n",
        "  if v1 == 'POSITIVE':\n",
        "    counterP += 1\n",
        "\n",
        "  if v2 == '4 stars' or v2 == '5 stars':\n",
        "    counterP +=1\n",
        "\n",
        "  if v2 == '3 stars':\n",
        "    counterNeu +=1\n",
        "\n",
        "  if v3 == 'LABEL_2':\n",
        "    counterP += 1\n",
        "  if v3 == 'LABEL_1':\n",
        "    counterNeu +=1\n",
        "\n",
        "  if counterP >2 or (counterP == 1 and counterNeu >=1):\n",
        "    value = 'Positive'\n",
        "  elif counterNeu == 2:\n",
        "    value = 'Neutral'\n",
        "  elif counterP <= 1:\n",
        "    value = 'Negative' \n",
        "\n",
        "  if value == 'Positive':\n",
        "    outP = open((path + \"/Transformers_Positive_results.txt\"), \"a\")\n",
        "    outP.write(value +  \" - \" + text)\n",
        "    outP.write(\"\\n\")\n",
        "    outP.close()\n",
        "  elif value == 'Negative':\n",
        "    outN = open((path + \"/Transformers_Negative_results.txt\"), \"a\")\n",
        "    outN.write(value +  \" - \" + text)\n",
        "    outN.write(\"\\n\")\n",
        "    outN.close()\n",
        "  else:\n",
        "    outN = open((path + \"/Transformers_Neutral_results.txt\"), \"a\")\n",
        "    outN.write(value +  \" - \" + text)\n",
        "    outN.write(\"\\n\")\n",
        "    outN.close()\n",
        "\n",
        "  print(value)\n",
        "\n",
        "\n"
      ],
      "execution_count": 87,
      "outputs": []
    },
    {
      "cell_type": "code",
      "metadata": {
        "colab": {
          "base_uri": "https://localhost:8080/"
        },
        "id": "lHi8mNX9h7V1",
        "outputId": "570957a8-a5fd-4af4-d9e1-31ab0effb01a"
      },
      "source": [
        "sentiment_transformers('I love my life')"
      ],
      "execution_count": 28,
      "outputs": [
        {
          "output_type": "stream",
          "text": [
            "Positive\n"
          ],
          "name": "stdout"
        }
      ]
    },
    {
      "cell_type": "markdown",
      "metadata": {
        "id": "6AnznPYHytKY"
      },
      "source": [
        "#Reddit"
      ]
    },
    {
      "cell_type": "code",
      "metadata": {
        "id": "rgcxUzGeDBBm"
      },
      "source": [
        "CLIENT_ID = \"-J0czzbhT-t1boL-dS52KA\"\n",
        "CLIENT_SECRET = \"8dDh4CagRnQmk8P9RWluM2RHZMqzBw\"\n",
        "USER_AGENT = \"nlp-itesm-act-2\"\n",
        "\n",
        "reddit = praw.Reddit(\n",
        "    client_id=CLIENT_ID,\n",
        "    client_secret=CLIENT_SECRET,\n",
        "    user_agent=USER_AGENT,\n",
        "    check_for_async=False\n",
        ")"
      ],
      "execution_count": null,
      "outputs": []
    },
    {
      "cell_type": "code",
      "metadata": {
        "id": "p7k1vwe3N1FT"
      },
      "source": [
        "def clean_post_text(text):\n",
        "  # print(text)\n",
        "  text = re.sub(r'(?:__|[*#])|\\[(.*?)\\]\\(.*?\\)', r'\\1', text) # Removes Markdown Syntax\n",
        "  text = re.sub(r'\\/?r\\/', '', text) # Removes r/ subreddit mentions\n",
        "  text = re.sub(r'u\\\\?\\/', '', text) # Removes u/ user mentions\n",
        "  return text\n"
      ],
      "execution_count": null,
      "outputs": []
    },
    {
      "cell_type": "markdown",
      "metadata": {
        "id": "CNXvWgZ9E25_"
      },
      "source": [
        "En caso de querer extraer post de otra cuenta se debe de cambiar en:\n",
        "\n",
        "```python\n",
        "for submission in reddit.redditor(<username_deseado>).submissions.new(limit=1000):\n",
        "```"
      ]
    },
    {
      "cell_type": "code",
      "metadata": {
        "colab": {
          "base_uri": "https://localhost:8080/"
        },
        "id": "5tYEIkArGIq2",
        "outputId": "c1849d73-065e-47aa-e359-631acc235e0f"
      },
      "source": [
        "post_texts = []\n",
        "post_titles = []\n",
        "for submission in reddit.redditor(\"spez\").submissions.new(limit=1000):\n",
        "  if submission.selftext:\n",
        "    post_texts.append(clean_post_text(submission.selftext))\n",
        "  post_titles.append(submission.title)\n",
        "\n",
        "# print(post_titles)\n",
        "# print(post_texts)"
      ],
      "execution_count": null,
      "outputs": [
        {
          "output_type": "stream",
          "text": [
            "['An update on the recent issues surrounding a Reddit employee', 'Today we’re testing a new way to discuss political ads (and announcements)', 'Today we’re testing a new way to discuss political ads (and announcements)', 'Update to Our Content Policy', 'Upcoming changes to our content policy, our board, and where we’re going from here', 'Spring forward… into Reddit’s 2019 transparency report', 'Reddit’s 2018 transparency report (and maybe other stuff)', 'You have thousands of questions, I have dozens of answers! Reddit CEO here, AMA.', 'Despite everyone saying the redesign is perfect, please align these before we all go insane.', 'Reddit’s 2017 transparency report and suspect account findings', \"Let's see if you can hold off betraying long enough to make this interesting. I'll donate $1 for every member of this circle to the highest voted charity.\", 'In response to recent reports about the integrity of Reddit, I’d like to share our thinking.', 'Not my first, could be my last, State of the Snoo-nion', 'The FCC’s vote was predictably frustrating, but we’re not done fighting for net neutrality.', 'An update on the fight for the free and open internet', 'Time for my quarterly inquisition. Reddit CEO here, AMA.', 'With so much going on in the world, I thought I’d share some Reddit updates to distract you all', 'Reddit is ProCSS', 'I hear the feedback on CSS / styles. I’m traveling, but will be back next week to chat more.', \"I'm Steve Huffman, programmer and Reddit CEO. AMA.\", 'The web redesign, CSS, and mod tools', \"It's that time of year again. We just published our 2016 Transparency Report.\", 'Out with 2016, in with 2017', 'TIFU by editing some comments and creating an unnecessary controversy.', 'Hey, it’s Reddit’s totally politically neutral CEO here to provide updates and dodge questions.', 'Goodbye, Chad!', 'Click to hear about some of the things that have been keeping us busy. #2 will blow your mind.', 'Let’s all have a town hall about r/all', \"Let's talk about Orlando\", 'AMA about my darkest secrets', 'AMA about my darkest secrets', 'A New Challenger Appears!', 'Admin released from captivity, reintroduced to Reddit community', 'A few updates on what has been keeping us busy', 'For your reading pleasure, our 2015 Transparency Report', 'Reddit in 2016', 'Introducing new API terms', 'We are updating our Privacy Policy (effective Jan 1, 2016)', 'CEO Steve here to answer more questions.', 'Content Policy Update', \"Good morning, I thought I'd give a quick update.\", \"Let's talk content. AMA.\", 'Content Policy update. AMA Thursday, July 16th, 1pm pst.', 'I am Steve Huffman, the new CEO of reddit. AMA.', 'Penn State, thanks for showing me a great time this weekend!', \"In light of the recent elections, a friend of mine is starting a company to facilitate political campaigns and is in need of mobile developers. If you're interested, PM me, and I'll put you in touch.\", 'Hipmunk needs help with customer feedback!', \"Hey everyone! This is the new flight search startup I've been working on the past few months. Hope you like!\", 'Fare Thee Well, reddit!', 'We need more moderators on this reddit.', 'A couple of changes...', 'An explanation of why the atheism reddit does not appear on the default front page.', 'Sorry about that, reddit!', \"We've added a few new things we'd like you test on beta.reddit.com.\", 'We updated the toolbar and added a preference to remove the recently clicked widget.', \"Reddit doesn't care about your penis.\", 'Reddit layout changes: Change you can click on', 'cool - Google Search', 'blog.reddit: image previews on reddit', \"blog.reddit - We've open sourced reddit!\", 'reddit design changes: for real this time', 'We updated the beta site. Commence flaming.', 'reddit blog: reddit design changes', 'put those dollars into something safe, like reddit karma!', \"what's new on reddit: reddit is so normal\", 'Jim Zorn Named Head Coach of The Redskins', 'New Features for reddit', 'Sorry about that. We were having an argument about whether NFS should be used in production. Should it?', 'reddit status update', \"blog.reddit: Don't Tase Me Bro: the deal with new reddit\", 'blog.reddit: now, with rounded corners!', 'Reddit is Hiring (non-linkjacked)', \"Vote up if you'd like to work for reddit.\", \"This Morning's Downtime\", \"it's slow... it's unstable... it's... beta!\", 'alien artist blog: i thought lisp would be fun to learn', \"blog.reddit: We've Created a Reddit for Politics\", 'politics.reddit.com', 'blog.reddit: new reddit on the horizon', 'Sorry About the Popup Ad, and Thanks to the Users Who Helped Track it Down', \"blog.reddit: a note on search, and what we're working on\", 'blog.reddit: From Sea to Shining Sea', 'test submit', 'test submit', 'test submit', \"I'm going to be messing with some servers, and things may be wonky for a little while.\", 'Hotter Hot Page', \"What's Been Keeping Us Busy\", 'Ask Reddit: What do you think about allowing users to submit anonymously?', 'reddit now doubleplusgood', 'brace yourself, ads are coming', 'justin.tv visits reddit', \"What we've been up to at reddit lately\", \"Discuss: Should reddit make users' votes public?\", 'Want to work for reddit?', 'Amazing reddit Anouncements', \"Reddit's Streak of Bad Luck Continues...\", 'digg - Miss Reddit?', 'reddit downtime, take 2', 'Sorry about that, we literally tripped over a cable', 'Science Subreddit', 'Reddit Being Hacked?', 'Kiko Sells For $258,100.00', 'Jason Calacanis Offers $1000 a Month to Steal Top Reddit Users. spez, kn0thing, AaronSw: \"Cha-Ching! We\\'re outta here!\"', 'As Long As the Internet Requires Clicking, Print Magazines Will Stay Relevant', 'Some Advertising Does, In Fact, Cut Through The Clutter', 'Rumor: Yahoo Acquired Jotspot', 'Microsoft Gets Social', 'What were your motivations before you began, and what kept you going?', 'Google Calendar', 'Car Salesman Goes Off-Script in 1976 Commercial', 'Franz Ferdinand Frontman Shot By Gavrilo Princip Bassist', 'goto Startup School!', 'Amazon.com: The Gospel of the Flying Spaghetti Monster', 'Does youtube video prove election fraud in Belarus?', 'How America went suburban, and why.', 'Abramoff Reportedly Negotiating a Deal in Which He Would Plead Guilty, Testify', 'How Apple ate the world', 'Documentary on the state of the Internet in 1972 (via boingboing)', 'Dubai Company to Transfer U.S. Ports to American Company', 'Using REST with Ajax', 'A Crash Course in Character Encoding', 'Programming reddit', 'Yelling At Cats', 'European Union to Provide Emergency Money to Palestinians', 'Postage Is Due for Companies Sending E-Mail', 'Teach yourself speed-reading techniques', 'Oops, They Did It Again: Yahoo Helped to Jail Dissident', 'Ohno Captures Gold and Helps Brighten Games for the U.S. - New York Times', \"Figure Skating - Arakawa wins ladies' gold\", 'Ability to create your own subreddits', 'Detect duplicates- perhaps link related stories together', 'Short Track - Ohno takes bronze behind South Koreans', 'Speed Skating - Davis, Cheek go 1-2 in 1000m', 'Entertainment', 'Sports', 'Tags', 'What Ever Happened to Channel 1?', '15 Kegs too many? picture', \"US navy captures Somali 'pirates'\", 'Play as a Virtual Kiko Employee', 'Get Shuked: Guide to Writing a Great Suicuide Note', 'Fill My Room! - Real-Life Million-Dollar Homepage', 'U.S. Reverses Accord and Opens 389,000 Acres in Alaska to Explore for Oil (actual story)', 'Bush grenade attacker gets life', 'Mouse thrown into fire sets home ablaze', 'DeLay finished as majority leader', 'Not an episode of the OC: My coke addiction', 'Trade Used CDs for IPods', \"'Gang of sharks' kills Australian\", \"Use an Old Spell-Checker to See What's New\", 'NYT sat on wiretapping story for a year', 'Columnist Resigns His Post, Admitting Lobbyist Paid Him', 'Top Ten Nitpicked Movies', 'The Science of Beer Taste', 'Snow Shovel Diary', 'Hidden Feature in Sony DRM Uses Open Source Code to Add Apple DRM', 'Italian Engrish on gas pump', \"Allan Hubbard, President Bush's top economic adviser, professes not to know the size of the national debt\", 'Piranha-shaped floss dispensers', '\"People shouldn\\'t die because they have sex\"', 'Justice Determined DeLay Redistricting Illegal, Overruled By Political Hacks', 'How to Deal With Your Online Porn Addiction', \"Intelligent Design isn't just bad science, it's bad religion.\", \"Singapore executioner 'sacked'\", 'The Secret Lives of Numbers - Cool Visualization', \"Some Students Find Themselves In Principal's Office Over Blogs\", \"New shop's use of live models draws mixed reaction\", 'Dinosaurs vs DMCA', 'Declaring Victory and Getting Out', 'Crips co-founder may be spared by Schwarzenegger', 'Simple Memorizing Techniques', '18 Tricks to Teach Your Body', 'Poor Grades Aside, Athletes Get Into College on a $399 Diploma', 'Pong clock plays one round of Pong every 60 secs', 'Baltimore Losing Light Poles to Thieves', 'Bush knew there was no Iraq-9/11 link', 'Bush To Increase Funding For Hope-Based Initiatives', 'Knit an Ipod into Your Gloves', \"Here's why using a deep-fryer can be dangerous\", 'The Writings on the Stall', 'Lego-Shaped Hard Drives', 'Ted Koppel Signs Off', 'xbox360seller05@yahoo.com sells for $1035', 'The Difference Between Stupid Media and Intelligent Media', 'V8-Engine Paper Model', 'Meanings and Origins of Phrases', 'Sony offers MP3s in replacement for rootkit CDs', 'Feed the Amydala, or beware of giant lizards', 'Progress Toward Further Dimensions of Yet More Intense Shrill Bush-Hatred', 'All Hell Breaks Loose - Videos from the House Floor Tonight Regarding Iraq', \"Bob Woodward's Timetable - It's not a cover-up, but what the hell is it?\", 'Mom Makes Teen Stand on Street With Sign', 'Woodward Was Told of Plame More Than Two Years Ago', 'MPAA: pirated DVDs are \"New Drug On The Street\"', 'Fla. Official Wants Pink DUI License Plates', 'Edwards: â\\x80\\x9cI was wrongâ\\x80\\x9d on Iraq', \"Photoshop what the news organizations would say if they didn't have to worry about being politically correct\", 'Scott Adams is a Wally', 'Fox counsels viewers to share videos of shows', \"Pillow-fight mob in Toronto's Dundas Square this Sunday\", '500k Hard Disk de 1975', 'Thugs for God', 'Gas Station Sells Watered-Down Gasoline', 'Pinning the blame where it belongs', 'The realist persuasion', 'High school student beats incumbent mayor on write-in vote.', 'Times Reporter Agrees to Leave the Paper', 'One-Pot Cooking', '57% - Bush Lied Deliberately', 'Mapes is really pissed - Ousted CBS Producer Comes Out Swinging', 'Trade a Red Paperclip for a House', 'Democrat Wins Race for Governor in Virginia', \"JC's Girls Girls Girls\", 'Physics of cow tipping', '$80K advance for Flying Spaghetti Monster book', 'Google Local for mobile', 'Gravity: weight is over', 'PATRIOT Act secret-superwarrants use is up 10,000 percent', 'Imagine, Make It Real in Fab Lab', 'Former Marine who tells Iraq atrocity stories is incredibly full of crap', 'Greatest Internet Moments', 'Sea-pirates chased off with sonic blasts', 'How the MPAA killed the movie theater experience: a first-hand report', 'Whiteboard Clock Draws One-Hour Circles', 'David Lynch and Vedic \"Science\"', \"'Intelligent design' case draws to close\", 'Watching al-Jazeera', 'Review of Right Wing Blogs', 'How Conservative Is \"Too Conservative\"?', 'Bible Quote Visualization Tool', 'A Daddy Techbucks Makes a Village a Hot Spot', 'Carnivorous lizard in toilet', 'Can Somebody Call a Wildlife Biologist AND an Electrician?', 'The Mess That Greenspan Made: Hummer Overfloweth', 'New Assited Snow Shovel', 'Why wait for history to judge? Impeach him now.', 'What doesÂ\\xa0BushÂ\\xa0keep in his pockets?', 'Flickr Series of Giant Propane Explosion in San Francisco', 'How Will the Universe End?', 'Chicken Fetus Mistaken for Dead Baby', 'President Bush nominated Judge Samuel A. Alito Jr. to the Supreme Court', 'Japan Party OKs Draft of Constitution - Military Now Allowed', 'Vertical bookcase -- stable, ceiling-high stack of books', \"Why the White Sox aren't the White Socks.\", 'Bizarro microwave option', 'Boing Boing: TV commercial of 250,000 superballs let loose in San Francisco', 'White Sox Win World Series', 'Middle management email catfight from Indian tech firm', 'What do you get when you design a condom that men want to use? Sued.', 'Cows make fuel for biogas train', \"Quotes from Al Franken's New Book\", 'Best ads on television', 'Top 100 Beers - Beer Advocate', 'iPod Nano costs $283 to make, Game Boy Micro is worth $44', 'How easy is your writing to understand?', \"Supposedly the recipies from Mac D's\", 'March of the Penguins Direcor Mad at Christians who Hijacked the Movie', 'Alaskan Senator Threatens to Resign Over Bridge to No-Where', '19 die after being served liquor by politicians in Indian state', \"Pixel-art Mario made from stacked Rubik's Cubes\", 'Miers 3.0', \"Media Companies Go Too Far in Curbing Consumers' Activities -- Walt Mossberg\", 'Pork Projects by Year', 'Bad News Turns Into Flood On Miers', 'Why the Internet Died Today', 'Study Reveals Pittsburgh Unprepared For Full-Scale Zombie Attack', 'Man gets longer prison term to honor Larry Bird', 'World War II Airman Found Frozen in Glacier', \"David Copperfield to 'magic' girl pregnant\", 'Seven Questions Employees Should Ask Before Joining a Startup', '100 oldest dot com domains', 'Horrton Hears a Heart by Edgar Allan Suess', '\"Why Americans can\\'t write political fiction.\" by Christopher Lehmann', 'TIME Magazine - ALL-TIME 100 Novels', \"The Normalization of Treason, the Republicans' gift to America\", 'Tricks to remembering names', 'Dobson and Miers: The Other Shoe Drops', 'Daily Kos: Restoring Honesty and Dignity to the Press Corps', 'The Miller Case: A Notebook, a Cause, a Jail Cell and a Deal', 'The power of the Sleep Cycle', 'Is there anyone left to subpoena?', 'IRAQ THE MODEL', 'Donâ\\x80\\x99t screw with the librarian', \"Japanese court: links to news stories can't use headlines for link-text\", 'Did the Soviets try to launch a nuclear weapon at Pearl Harbor in 1968?', 'Odd Contraceptives from History', 'Iraq: Learning the Lessons of Vietnam', \"Thousands of men are shelling out $6,500 for hyper-realistic dolls that answer all their needs -- and don't talk back.\", 'Bill Gates surprises students as \"stand in\" professor', 'Why Is Africa Still Poor?', 'Fads are so yesterday', 'Average age of newspaper readers: 55', \"Who's That Guy in the Police Lineup?\", 'Bush hits back as Republicans erupt over Supreme Court pick', \"Why blogging isn't a Web 2.0 thing\", \"Harriet Miers's Blog\", \"10 things you shouldn't buy new\", 'Cardstacker FAQs', 'Cities Ranked by Cost of Living', \"Fire destroys 'Wallace and Gromit' warehouse\", 'The market in fear', 'If Lucas had directed Serenity', 'McCain passes amendment to end torture of detainees; Bush threatens veto', 'Anonymous Bittorrent', 'Snake bursts after gobbling gator', \"Students who frequenly use computers perform worse than those who don't\", 'How to pick up girls', 'Grandpa shoots neighbour over loud music', \"Dolphins sing 'Batman' theme\", \"Teacher Banned After Ripping Out Boy's Insulin Pump\", '146 Reasons Why Sugar Is Ruining Your Health', \"Robot inspects bank robber's mouth for bomb\", \"'Hollaback' set to break digital mark\", 'Crime and Punishment', 'Me Against My Students - How I use the Internet to combat plagiarists, fabulists, and cheaters.', 'When a President Is Not Spoiling for a Fight', 'Sonic Grenade', 'Nicotine beer in the pipeline', 'Amazon.com: How to Cheat Your Friends at Poker', 'Rejected iPod Engravings', 'Andy Rooney on 60 Minutes on Iraq', '10 Super Foods You Should NEVER Eat!', 'Role of Rove, Libby in CIA Leak Case Clearer', 'Spitzerism', \"Voting Fraud Is Found in Afghanistan's Election\", 'Driverless Buses Headed to London, May Miss It', 'Endangered Species Act Gets Rewrite', 'Pi joke', 'The Ties That Do Not Bind: The Decline of Marriage and Loyalty', 'Magazine ad  \"unleashes hell\" for Boeing and Bell', 'A Quiet Middleman for Presidents and Comrades', 'Project Censored', \"Lance Armstrong's Endurance Tested By Sheryl Crow Concert\", 'Warm Teddy Bear Helps Nab Robbery Suspect', 'The truth vs. Tom DeLay', \"Buying of News by Bush's Aides Is Ruled Illegal\", 'Electronic Driving: the Future?', 'NYC Traffic Cams + Google Maps', '\"Creative Commons Comics\" debut on SNL this weekend', 'New Yorker cartoon formula exposed!', 'Car which will book you for speeding', 'The Forbes 400 - The Richest Americans', 'Pixar artist describes hassle of recovering stolen vehicle', 'What makes an idea viral?', 'The Basic Laws of Human Stupidity', 'HOWTO pop a combination lock with a beer can', 'Gay penguin goes straight', \"'Intelligent design' takes center stage in Pennsylvania trial\", 'Microsoft Windows Officially Broken', 'TIME Magazine: TIME 100 - People of the Century', 'Cows Cause Fatal Truck Crash, Oil Spill', 'Armed and dangerous - Flipper the firing dolphin let loose by Katrina', 'The New Yorker: Intelligent Design', 'Bus Caught Fire After a Waiver Put It Back Into Service', 'Georgian Prison Wardens Find 12-Meter Escape Tunnel', \"'Cane Ain't Able'\", 'Israelis kill top militants after rocket attack', 'Naked poster brings town to halt', 'Bedeviled: Hagans, UVa. defense shut down Duke', \"Vatican 'to ban new gay priests'\", 'Duck Hunt/Doom mashup', \"Japan's coolest vending machines\", 'Funny Office Slang', 'Caring for Your Introvert', 'Where Stories Go to Die: Page A23', 'Florida Sub Shops Aid In Katrina Relief Order - 200,000 Subs', \"Mexico tests slimming powers of tequila's agave\", 'Parakeet Knows Home Address', 'Rita evacuation turns into traffic nightmare', \"Chromosome transplant in mice could provide clue to Down's syndrome illnesses\", 'Your Enlightened Guide to Airplane Seating', 'How Permanent is your CD-R', 'Play-Doh as Interface', 'Real-life radar-enabled robotic Half-Life \"sentry gun\"', 'User triangulation: how to listen to customers', 'Bush: Troops will not withdraw on my watch', 'IRS checksÂ\\xa0lost in truck accident', 'Ten Restaurant Trends We Hate', 'Why I\\'m Not A Conservative: The \"America Sucks\" Right', \"Joi Ito's Web: Eroding freedoms\", 'The 28 Hour Day', \"Bush Braces As Cindy Sheehan's Other Son Drowns In New Orleans\", 'Challenged by Creationists, Museums Answer Back', 'Bush Official Arrested in Corruption Probe', 'Bush Says Spending Cuts Will Be Needed', 'CINDY VS. HILLARY: MEEOWW!', 'The anomalous properties of water', 'The Hundred Greatest Theorems', 'Brunell Leads Comeback', 'The 10 Secrets of a Master Networker', \"Blair attacks BBC for 'anti-US bias'\", 'It Must Be true. They Told Us So.', \"Burger King recalls 'sacrilegious' desserts\", 'Katrina: The Gathering', 'Student Arrested After Pilot Uniform Found', 'Quick Trigger Fingers on Campus', 'Most perfect power-strip design EVAR', 'Abortion Trucks - Highway Photos', \"Iran insists on nuclear 'rights'\", 'Test-Tube T-Bones on the Horizon Say Researchers', 'Hmong immigrant convicted of murdering 6 deer hunters', 'Have you heard the one about Katrina?', 'Ring Tones, Cameras, Now This: Sex Is Latest Cellphone Feature', 'Helvetica vs. Arial', \"Some economists worry about Katrina's effect on the budget\", 'After Talk of Comeback, Armstrong Rules It Out', 'Forget the U.N.: Clinton Has a League of His Own', 'Fears grow for Katrina insurers', 'How to Win at Carnival Games', 'How to Go From Introvert to Extrovert', 'Fire, blasts level\\xa0fireworks market', 'How To Shuffle and Cut a Deck of Cards One-Handed', 'Report: More Kids Being Home-Churched', 'Card Throwing: A course on how to throw playing cards', \"Motorola develops 'polite' phone to help reduce incidents of distracted drivers\", 'Top Ten Things You Can Do To Get Blogged', 'Bush approval down; No more FEMA debit cards; Brown fired from FEMA', 'Flying dinosaur biggest airborne animal', 'Blackwater Mercenaries Deploy in New Orleans', 'Windmills in the Sky', 'Seeking Justice, of Gods or the Politicians', 'HIV-positive man gets 13 years for spitting blood', 'Two mother embryo', 'Stupid Quotes About Hurricane Katrina', \"U.S. won't ban media\\xa0from New Orleans searches\", 'Gore airlifts\\xa0victims\\xa0from New Orleans - Sep 9, 2005', 'China Telecom said to block Skype', 'Katrina victims to get $2K debit cards', 'Photoset of Hurricane Katrina victims in Houston', \"'Evil' bogus spy jailed for life\", 'Kuwait Pledges $500M for Hurricane Relief', \"Katrina couldn't close bar\", 'Mars Rover Reaches Top of Husband Hill', \"New Orleans pumps fail; Mississippi coast like 'hell on earth'\", 'Sticks and Wheels Help Them Forget the Bombs', '15 Answers to Creationist Nonesense (pdf)', '$250,000 Intelligent Design challenge (UPDATED: $1 million)', 'The Fall of the House of Saud', 'Work vs. Progress - scottberkun.com', 'Useless Skills', 'PETA reconsiders campaign comparing animal abuse to slavery', 'Man Convicted in Huge Computer-Theft Case', 'Justice Takes a Beating', 'Wanted: Duck killer', 'The 86 Rules of Boozing', 'U.S. Archbishop Subpoenaed Ahead of Mass', 'Rolling Stones and Corporate Whores', 'Who Do We Work For?', 'eBay: Space shuttle repair kit', 'Bush unswayed by Sen. Frist on stem cell research', 'What Business Can Learn from Open Source', 'How to Become a Ninja', 'Infinite Loop: iPod is murder!', 'Top Ten Signs That Free Software Developers are in it for Ego, Not Freedom', 'Joel on Software - Usability Testing with Morae', 'Why the US wants to end link between time and sun', 'The Last Page of the Internet', \"Newlywed's Disappearance on Cruise Probed\", 'OfficeGuns', 'Joel on Software - Hitting the High Notes', 'ban comic sans :: Putting the Sans in Comic Sans', 'Why I Hate the Apache Web Server (PDF)', 'The Bellman | Ringing your bell since', 'The Shirt', 'Sun Ray Blog', 'Did you ever wonder what it would be like to see a water balloon pop in space?', 'Removing Your Materials from Google', 'Learn How to Read Menus in Chinese', 'House votes to keep anti-terror law', 'Welcome to AIM Fight', 'ABC News: Studies Say We Learn to Fib While Young', \"IOL: Text of Blair's remarks after attacks\", 'So You Want to Write a Book?', 'How To Give A Great Presentation', 'The New Yorker: The Critics: A Critic At Large', 'Mom Indicted for Hiring Stripper for Teen', 'Brain science | Helpful junk | Economist.com', 'Google finds sense of humo(u)r on surface of Moon', 'Which evil nation state are you? (similes for Microsoft, Yahoo and Google)', 'sausage food or something', 'Build your own paper rocket!', 'Joel on Software - Biculturalism', 'Marginal Revolution: The fall of Hollywood?', 'Custom', 'Photoshop Painting Techniques: Hair and Fur', 'Pulp Fiction in 30 seconds with bunnies.', 'Napkin Folding 101', 'Scott Blake - Bar Code Art', 'How It Should Have Ended', 'Outsource your job to earn more! - The Times of India', 'Voyeur Heaven: finding interesting video, sound and image files in unprotected directories', 'Man with a chain saw that was apparently covered with blood was let into the U.S.  - Boston.com - Mass. - News', 'AutoStitch', 'Turing machine', 'Tour de France standings', 'IBM poop heads say LAMP users need to \"grow up\"', 'Waiter Rant', 'The Hello World Collection', 'Becoming a Better Programmer', 'Tom Toles', 'About the Mac OS X 10.4.2 Update (Delta)', 'lists:thingsyoucandowithrss [DokuWiki]', 'Good Experience Games', 'The Mysteries of Mass', 'Techniques To Manage Procrastination', \"If MSG is so bad for you, why doesn't everyone in Asia have a headache?\", 'Moodgrapher: The World according to Livejournal', 'Odeo: Listen, Sync, Create', \"Matt Cooper's Source\", 'The Right to Read - GNU Project - Free Software Foundation (FSF)', 'Circuit Monitoring', 'Games for the Brain', 'Treasures on Internet or very useful links', 'Context Free Design Grammar', 'The Long Tail: \"Pre-filters\" vs. \"Post-filters\"', 'Mobile GMaps - Google Maps on your mobile phone!', 'What was ABC thinking?', 'Language Is A Virus', 'Lost newton papers', 'Num Sum: spreadsheet Money owed', 'Learn Flash in Two Hours!', 'Bad keystroke leads to $251 million stock buy', 'Mental Hygiene', 'ESR: \"We Don\\'t Need the GPL Anymore\"', 'Macintosh review in Byte', 'Google sued for click fraud', \"Jon Stewart's ('84) Commencement Address\", 'Rate Your Stuff!', 'How to Meditate', '50 Coolest Websites 2005 - TIME.com', 'CNN.com - High court OKs personal property seizures', 'Marketers Scan Blogs For Brand Insights']\n",
            "['We would like to give you all an update on the recent issues that have transpired concerning a specific Reddit employee, as well as provide you with context into actions that we took to prevent doxxing and harassment.\\n\\nAs of today, the employee in question is no longer employed by Reddit. We built a relationship with her first as a mod and then through her contractor work on RPAN. We did not adequately vet her background before formally hiring her. \\n\\nWe’ve put significant effort into improving how we handle doxxing and harassment, and this employee was the subject of both. In this case, we over-indexed on protection, which had serious consequences in terms of enforcement actions. \\n\\n On March 9th, we added extra protections for this employee, including actioning content that mentioned the employee’s name or shared personal information on third-party sites, which we reserve for serious cases of harassment and doxxing.\\n On March 22nd, a news article about this employee was posted by a mod of ukpolitics. The article was removed and the submitter banned by the aforementioned rules. When contacted by the moderators of ukpolitics, we reviewed the actions, and reversed the ban on the moderator, and we informed the ukpolitics moderation team that we had restored the mod.\\n We updated our rules to flag potential harassment for human review.\\n\\nDebate and criticism have always been and always will be central to conversation on Reddit—including discussion about public figures and Reddit itself—as long as they are not used as vehicles for harassment. Mentioning a public figure’s name should not get you banned.\\n\\nWe care deeply for Reddit and appreciate that you do too. We understand the anger and confusion about these issues and their bigger implications. The employee is no longer with Reddit, and we’ll be evolving a number of relevant internal policies.\\n\\nWe did not operate to our own standards here. We will do our best to do better for you.', 'In case you missed the billboards, blog posts, and AMAs, we’re doing our best to encourage people on and off Reddit to vote this year. Along with our Up the Vote campaign and ongoing security and safety work to guard against shenanigans, we’ve also been evolving how we handle another important aspect of the election process: political ads.\\n\\n First, some background\\n\\nPolitical ads have been a relatively quiet part of Reddit for many years. Last year, in thinking through what the right balance was between unfettered political ads and prohibiting them altogether for 2020 (both approaches that other platforms have taken), we decided on a policy we felt was the best approach for Reddit: no misinformation, human review of the ads and where they link, a subreddit listing all political ads (RedditPoliticalAds), and a requirement to keep comments on for 24 hours.\\n\\nSince debuting this policy earlier this year, the last condition (requiring comments to remain on) has enabled redditors to discuss political ads—providing more context in the comments and even offering counterarguments—but so far it’s only been lightly used. As we get closer to November, however, the prominence of and discussion around political ads will increase, and, with it, the need for a clear moderation system for these comments.\\n\\n The problem we’re addressing\\n\\nAs I mentioned a couple months back, unmoderated spaces on Reddit are an area we want to improve, from Modmail to PM’s, and political ads pose a unique challenge.\\n\\nIf the OP of a political ad (i.e., a campaign) moderates the comments, it’s problematic: they might remove dissenting perspectives. And if we (the admins) moderate the comments of a political ad, it’s even more problematic, putting us in the position of either moderating too much or too little, with inevitable accusations of bias either way.\\n\\nThe problem, we realized, is similar to what we see in announcements: lots of people commenting on a highly visible post outside the context of a community. It’s fair to say that announcements isn’t really a community; it lacks the culture, cohesion, and moderation that benefit most other subreddits, and as a result, the quality of conversation has deteriorated as the audience has grown.\\n\\nUltimately, conversations really only happen in the context of a community, and neither announcements nor political ads with comments on provide this. We believe we can foster better discussion on both with a different approach.\\n\\n What we’re testing today\\n\\nInstead of having the usual free-for-all of comments on the announcements post itself, we are trying out a new experience today that encourages discussion of this post within other communities—an approach we hope works for political ads as well.\\n\\nBelow is a stickied comment with a link to submit this post to other communities on Reddit and a list of those discussion posts. The stickied comment will update automatically with new posts.\\n\\nA few other details to note for this test:\\n\\n The discussion posts are like any other post, which means they can be voted on by users and removed by mods.\\n Communities that don’t want to participate don’t have to. (If you’re a mod of a community where a user attempts to crosspost this, you will get a Modmail alerting you to this with opt-out instructions.)\\n Individual community rules apply to these posts just as any other, so read the rules before attempting to bring the discussion into a completely unrelated community.\\n Our stickied comment will link to discussions only from communities subject to our ads allow list. Communities that have already opted not to appear in all won’t appear in the comment either, even if there is a discussion of this post there.\\n After today’s test, we will likely test this system with political ads.\\n\\nThis test will be a success if there are a variety of posts and conversations about this post, even—and perhaps particularly—if they are critical.\\n\\n How we’re answering questions\\n\\nannouncements posts have an important difference from political ads: I treat them as AMAs and do my best to answer questions and respond to criticism (both of which I appreciate). With this approach, I expect doing so will be more difficult (at least this first time). However, the point of this test is not to make you hunt for our answers or for us to reply to fewer questions, and we don’t intend to use this approach for all our admin posts (e.g., in ModNews, changelog, ModSupport, and others, which are smaller subreddits that still work well).\\n\\nFor today, we’re going to make the first link of this post to ModNews and start by answering mods’ questions there. In a future announcement, we may ask a specific community if they would host us for the discussion that day (depending on what the announcement is) and set that as an official destination for discussion, like a regular AMA.\\n\\nAdditionally, I’ll do my best to find other places to respond, and we’ll maintain another comment below this post to list replies we’ve given outside of announcements so you can easily find our responses (which was a feature request from our post last week).\\n\\nUltimately, the goal of this test is to enable Reddit to do what Reddit does best: facilitate conversations (within the context of a community), provide commentary on political ads the way redditors already do on news and politics daily (sharing more information and calling bullshit in the comments when necessary), and extend the discussion well beyond the scope of the original post.\\n\\nThank you for participating. We hope this approach sets the stage for successful commentary not just today but down the road on political ads as well.\\n\\nSteve\\n\\n&x200B;\\n\\nEdit (9/28/20): Update: After initial testing and a few small tweaks to the sorting and score display of the links in stickied comments like the one below, we’ll be using this discussion system on political ads moving forward. \\n\\nAs I mentioned, our goal with this approach was to encourage these types of discussions to happen within the context of a community. While this feature is completely optional for communities (opt-out instructions here), we were pleased overall with the level of engagement that we saw from communities and users on this test post.\\n\\nWe’re still exploring how we’ll use this feature for announcements posts and how we can work with specific communities to have discussions about them. In the meantime, you can see our updated political ads policy on our Advertising Policy Help Page.', \"A few weeks ago, we committed to closing the gap between our values and our policies to explicitly address hate. After talking extensively with mods, outside organizations, and our own teams, we’re updating our content policy today and enforcing it (with your help).\\n\\n First, a quick recap\\n\\nSince our last post, here’s what we’ve been doing:\\n\\n We brought on a **new Board member**.\\n We held policy calls with mods—both from established Mod Councils and from communities disproportionately targeted with hate—and discussed areas where we can do better to action bad actors, clarify our policies, make mods' lives easier, and concretely reduce hate.\\n    You can find detailed notes from our All-Council mod call here, including specific product work we discussed.\\n We developed our enforcement plan, including both our immediate actions (e.g., today’s bans) and long-term investments (tackling the most critical work discussed in our mod calls, sustainably enforcing the new policies, and advancing Reddit’s community governance).\\n\\nFrom our conversations with mods and outside experts, it’s clear that while we’ve gotten better in some areas—like actioning violations at the community level, scaling enforcement efforts, measurably reducing hateful experiences like harassment year over year—we still have a long way to go to address the gaps in our policies and enforcement to date.\\n\\nThese include addressing questions our policies have left unanswered (like whether hate speech is allowed or even protected on Reddit), aspects of our product and mod tools that are still too easy for individual bad actors to abuse (inboxes, chats, modmail), and areas where we can do better to partner with our mods and communities who want to combat the same hateful conduct we do.\\n\\nUltimately, it’s our responsibility to support our communities by taking stronger action against those who try to weaponize parts of Reddit against other people. In the near term, this support will translate into some of the product work we discussed with mods. But it starts with dealing squarely with the hate we can mitigate today through our policies and enforcement.\\n\\n New Policy\\n\\nThis is the new content policy. Here’s what’s different:\\n\\n It starts with a statement of our vision for Reddit and our communities, including the basic expectations we have for all communities and users.\\n Rule 1 explicitly states that communities and users that promote hate based on identity or vulnerability will be banned.\\n    There is an expanded definition of what constitutes a violation of this rule, along with specific examples, in our Help Center article.\\n Rule 2 ties together our previous rules on prohibited behavior with an ask to abide by community rules and post with authentic, personal interest.\\n    Debate and creativity are welcome, but spam and malicious attempts to interfere with other communities are not.\\n The other rules are the same in spirit but have been rewritten for clarity and inclusiveness.\\n\\nAlongside the change to the content policy, we are initially banning about 2000 subreddits, the vast majority of which are inactive. Of these communities, about 200 have more than 10 daily users. Both The_Donald and ChapoTrapHouse were included.\\n\\nAll communities on Reddit must abide by our content policy in good faith. We banned The_Donald because it has not done so, despite every opportunity. The community has consistently hosted and upvoted more rule-breaking content than average (Rule 1), antagonized us and other communities (Rules 2 and 8), and its mods have refused to meet our most basic expectations. Until now, we’ve worked in good faith to help them preserve the community as a space for its users—through warnings, mod changes, quarantining, and more.\\n\\nThough smaller, ChapoTrapHouse was banned for similar reasons: They consistently host rule-breaking content and their mods have demonstrated no intention of reining in their community.\\n\\nTo be clear, views across the political spectrum are allowed on Reddit—but all communities must work within our policies and do so in good faith, without exception.\\n\\n Our commitment\\n\\nOur policies will never be perfect, with new edge cases that inevitably lead us to evolve them in the future. And as users, you will always have more context, community vernacular, and cultural values to inform the standards set within your communities than we as site admins or any AI ever could.\\n\\nBut just as our content moderation cannot scale effectively without your support, you need more support from us as well, and we admit we have fallen short towards this end. We are committed to working with you to combat the bad actors, abusive behaviors, and toxic communities that undermine our mission and get in the way of the creativity, discussions, and communities that bring us all to Reddit in the first place. We hope that our progress towards this commitment, with today’s update and those to come, makes Reddit a place you enjoy and are proud to be a part of for many years to come.\\n\\nEdit: After digesting feedback, we made a clarifying change to our help center article for Promoting Hate Based on Identity or Vulnerability.\", \"TL;DR: We’re working with mods to change our content policy to explicitly address hate. kn0thing has resigned from our board to fill his seat with a Black candidate, a request we will honor. I want to take responsibility for the history of our policies over the years that got us here, and we still have work to do.\\n\\nAfter watching people across the country mourn and demand an end to centuries of murder and violent discrimination against Black people, I wanted to speak out. I wanted to do this both as a human being, who sees this grief and pain and knows I have been spared from it myself because of the color of my skin, and as someone who literally has a platform and, with it, a duty to speak out.\\n\\nEarlier this week, I wrote an email to our company addressing this crisis and a few ways Reddit will respond. When we shared it, many of the responses said something like, “How can a company that has faced racism from users on its own platform over the years credibly take such a position?”\\n\\nThese questions, which I know are coming from a place of real pain and which I take to heart, are really a statement: There is an unacceptable gap between our beliefs as people and a company, and what you see in our content policy. \\n\\nOver the last fifteen years, hundreds of millions of people have come to Reddit for things that I believe are fundamentally good: user-driven communities—across a wider spectrum of interests and passions than I could’ve imagined when we first created subreddits—and the kinds of content and conversations that keep people coming back day after day. It's why we come to Reddit as users, as mods, and as employees who want to bring this sort of community and belonging to the world and make it better daily.\\n\\nHowever, as Reddit has grown, alongside much good, it is facing its own challenges around hate and racism. We have to acknowledge and accept responsibility for the role we have played. Here are three problems we are most focused on:\\n\\n Parts of Reddit reflect an unflattering but real resemblance to the world in the hate that Black users and communities see daily, despite the progress we have made in improving our tooling and enforcement. \\n Users and moderators genuinely do not have enough clarity as to where we as administrators stand on racism. \\n Our moderators are frustrated and need a real seat at the table to help shape the policies that they help us enforce.\\n\\nWe are already working to fix these problems, and this is a promise for more urgency. Our current content policy is effectively nine rules for what you cannot do on Reddit. In many respects, it’s served us well. Under it, we have made meaningful progress cleaning up the platform (and done so without undermining the free expression and authenticity that fuels Reddit). That said, we still have work to do. This current policy lists only what you cannot do, articulates none of the values behind the rules, and does not explicitly take a stance on hate or racism.\\n\\nWe will update our content policy to include a vision for Reddit and its communities to aspire to, a statement on hate, the context for the rules, and a principle that Reddit isn’t to be used as a weapon. We have details to work through, and while we will move quickly, I do want to be thoughtful and also gather feedback from our moderators (through our Mod Councils). With more moderator engagement, the timeline is weeks, not months.\\n\\nAnd just this morning, Alexis Ohanian (kn0thing), my Reddit cofounder, announced that he is resigning from our board and that he wishes for his seat to be filled with a Black candidate, a request that the board and I will honor. We thank Alexis for this meaningful gesture and all that he’s done for us over the years.\\n\\nAt the risk of making this unreadably long, I'd like to take this moment to share how we got here in the first place, where we have made progress, and where, despite our best intentions, we have fallen short.\\n\\nIn the early days of Reddit, 2005–2006, our idealistic “policy” was that, excluding spam, we would not remove content. We were small and did not face many hard decisions. When this ideal was tested, we banned racist users anyway. In the end, we acted based on our beliefs, despite our “policy.” \\n\\nI left Reddit from 2010–2015. During this time, in addition to rapid user growth, Reddit’s no-removal policy ossified and its content policy took no position on hate. \\n\\nWhen I returned in 2015, my top priority was creating a content policy to do two things: deal with hateful communities I had been immediately confronted with (like CoonTown, which was explicitly designed to spread racist hate) and provide a clear policy of what’s acceptable on Reddit and what’s not. We banned that community and others because they were “making Reddit worse” but were not clear and direct about their role in sowing hate. We crafted our 2015 policy around behaviors adjacent to hate that were actionable and objective: violence and harassment, because we struggled to create a definition of hate and racism that we could defend and enforce at our scale. Through continual updates to these policies 2017, 2018, 2019, 2020 (and a broader definition of violence), we have removed thousands of hateful communities. \\n\\nWhile we dealt with many communities themselves, we still did not provide the clarity—and it showed, both in our enforcement and in confusion about where we stand. In 2018, I confusingly said racism is not against the rules, but also isn’t welcome on Reddit. This gap between our content policy and our values has eroded our effectiveness in combating hate and racism on Reddit; I accept full responsibility for this.\\n\\nThis inconsistency has hurt our trust with our users and moderators and has made us slow to respond to problems. This was also true with the_donald, a community that relished in exploiting and detracting from the best of Reddit and that is now nearly disintegrated on their own accord. As we looked to our policies, “Breaking Reddit” was not a sufficient explanation for actioning a political subreddit, and I fear we let being technically correct get in the way of doing the right thing. Clearly, we should have quarantined it sooner.\\n\\nThe majority of our top communities have a rule banning hate and racism, which makes us proud, and is evidence why a community-led approach is the only way to scale moderation online. That said, this is not a rule communities should have to write for themselves and we need to rebalance the burden of enforcement. I also accept responsibility for this. \\n\\nDespite making significant progress over the years, we have to turn a mirror on ourselves and be willing to do the hard work of making sure we are living up to our values in our product and policies. This is a significant moment. We have a choice: return to the status quo or use this opportunity for change. We at Reddit are opting for the latter, and we will do our very best to be a part of the progress.\\n\\nI will be sticking around for a while to answer questions as usual, but I also know that our policies and actions will speak louder than our comments.\\n\\nThanks,\\n\\nSteve\", \"TL;DR: Today we published our 2019 **Transparency Report**. I’ll stick around to answer your questions about the report (and other topics) in the comments.\\n\\nHi all,\\n\\nIt’s that time of year again when we share Reddit’s annual transparency report.\\n\\nWe share this report each year because you have a right to know how user data is being managed by Reddit, and how it’s both shared and not shared with government and non-government parties.\\n\\nYou’ll find information on content removed from Reddit and requests for user information. This year, we’ve expanded the report to include new data—specifically, a breakdown of content policy removals, content manipulation removals, subreddit removals, and subreddit quarantines.\\n\\n By the numbers\\n\\nSince the full report is rather long, I’ll call out a few stats below:\\n\\nADMIN REMOVALS\\n\\n In 2019, we removed \\\\~53M pieces of content in total, mostly for spam and content manipulation (e.g. brigading and vote cheating), exclusive of legal/copyright removals, which we track separately.\\n For Content Policy violations, we removed\\n    222k pieces of content,\\n    55.9k accounts, and\\n    21.9k subreddits (87% of which were removed for being unmoderated).\\n Additionally, we quarantined 256 subreddits.\\n\\nLEGAL REMOVALS\\n\\n Reddit received 110 requests from government entities to remove content, of which we complied with 37.3%.\\n In 2019 we removed about 5x more content for copyright infringement than in 2018, largely due to copyright notices for adult-entertainment and notices targeting pieces of content that had already been removed.\\n\\nREQUESTS FOR USER INFORMATION\\n\\n We received a total of 772 requests for user account information from law enforcement and government entities.\\n    366 of these were emergency disclosure requests, mostly from US law enforcement (68% of which we complied with).\\n    406 were non-emergency requests (73% of which we complied with); most were US subpoenas.\\n    Reddit received an additional 224 requests to temporarily preserve certain user account information (86% of which we complied with).\\n Note: We carefully review each request for compliance with applicable laws and regulations. If we determine that a request is not legally valid, Reddit will challenge or reject it. (You can read more in our Privacy Policy and Guidelines for Law Enforcement.)\\n\\n While I have your attention...\\n\\nI’d like to share an update about our thinking around quarantined communities.\\n\\nWhen we expanded our quarantine policy, we created an appeals process for sanctioned communities. One of the goals was to “force subscribers to reconsider their behavior and incentivize moderators to make changes.” While the policy attempted to hold moderators more accountable for enforcing healthier rules and norms, it didn’t address the role that each member plays in the health of their community.\\n\\nToday, we’re making an update to address this gap: Users who consistently upvote policy-breaking content within quarantined communities will receive automated warnings, followed by further consequences like a temporary or permanent suspension. We hope this will encourage healthier behavior across these communities.\\n\\n If you’ve read this far\\n\\nIn addition to this report, we share news throughout the year from teams across Reddit, and if you like posts about what we’re doing, you can stay up to date and talk to our teams in RedditSecurity, ModNews, redditmobile, and changelog.\\n\\nAs usual, I’ll be sticking around to answer your questions in the comments. AMA.\\n\\nUpdate: I'm off for now. Thanks for questions, everyone.\", \"Hi all,\\n\\nToday we’ve posted our latest Transparency Report.\\n\\nThe purpose of the report is to share information about the requests Reddit receives to disclose user data or remove content from the site. We value your privacy and believe you have a right to know how data is being managed by Reddit and how it is shared (and not shared) with governmental and non-governmental parties.\\n\\nWe’ve included a breakdown of requests from governmental entities worldwide and from private parties from within the United States. The most common types of requests are subpoenas, court orders, search warrants, and emergency requests. In 2018, Reddit received a total of 581 requests to produce user account information from both United States and foreign governmental entities, which represents a 151% increase from the year before. We scrutinize all requests and object when appropriate, and we didn’t disclose any information for 23% of the requests. We received 28 requests from foreign government authorities for the production of user account information and did not comply with any of those requests.\\n\\nThis year, we expanded the report to included details on two additional types of content removals: those taken by us at Reddit, Inc., and those taken by subreddit moderators (including Automod actions). We remove content that is in violation of our site-wide policies, but subreddits often have additional rules specific to the purpose, tone, and norms of their community. You can now see the breakdown of these two types of takedowns for a more holistic view of company and community actions.\\n\\nIn other news, you may have heard that we closed an additional round of funding this week, which gives us more runway and will help us continue to improve our platform. What else does this mean for you? Not much. Our strategy and governance model remain the same. And—of course—we do not share specific user data with any investor, new or old.\\n\\nI’ll hang around for a while to answer your questions.\\n\\n–Steve\\n\\n&x200B;\\n\\nedit: Thanks for the silver you cheap bastards.\\n\\nupdate: I'm out for now. Will check back later.\", \"Update: I've got to take off for now. I hear the anger today, and I get it. I hope you take that anger straight to the polls next month. You may not be able to vote me out, but you can vote everyone else out.\\n\\n—\\n\\nHello again!\\n\\nIt’s been a minute since my last post here, so I wanted to take some time out from our usual product and policy updates, meme safety reports, and waiting for livecounting to reach 10,000,000 to share some highlights from the past few months and talk about our plans for the months ahead.\\n\\nWe started off the quarter with a win for net neutrality, but as always, the fight against the Dark Side continues, with Europe passing a new copyright directive that may strike a real blow to the open internet. Nevertheless, we will continue to fight for the open internet (and occasionally pester you with posts encouraging you to fight for it, too).\\n\\nWe also had a lot of fun fighting for the not-so-free but perfectly balanced world of thanosdidnothingwrong. I’m always amazed to see redditors so engaged with their communities that they get Snoo tattoos. \\n\\nSpeaking of bans, you’ve probably noticed that over the past few months we’ve banned a few subreddits and quarantined several more. We don't take the banning of subreddits lightly, but we will continue to enforce our policies (and be transparent with all of you when we make changes to them) and use other tools to encourage a healthy ecosystem for communities. We’ve been investing heavily in our Anti-Evil and Trust & Safety teams, as well as a new team devoted solely to investigating and preventing efforts to interfere with our site, state-sponsored and otherwise. We also recognize the ways that redditors themselves actively help flag potential suspicious actors, and we’re working on a system to allow you all to report directly to this team.\\n\\nOn the product side, our teams have been hard at work shipping countless updates to our iOS and Android apps, like universal search and News. We’ve also expanded Chat on mobile and desktop and launched an opt-in subreddit chat, which we’ve already seen communities using for game-day discussions and chats about TV shows. We started testing out a new hub for OC (Original Content) and a Save Drafts feature (with shared drafts as well) for text and link posts in the redesign. \\n\\nSpeaking of which, we’ve made a ton of improvements to the redesign since we last talked about it in April. \\n\\nIncluding but not limited to… night mode, user & post flair improvements, better traffic pages for \\n\\nmods, accessibility improvements, keyboard shortcuts, a bunch of new community widgets, fixing key AutoMod integrations, and the ability to have community styling show up on mobile as well, which was one of the main reasons why we took on the redesign in the first place. I know you all have had a lot of feedback since we first launched it (I have too). Our teams have poured a tremendous amount of work into shipping improvements, and their 1 focus now is on improving performance. If you haven’t checked it out in a while, I encourage you to give it a spin.\\n\\nLast but not least, on the community front, we just wrapped our second annual Moderator Thank You Roadshow, where the rest of the admins and I got the chance to meet mods in different cities, have a bit of fun, and chat about Reddit. We also launched a new Mod Help Center and new mod tools for Chat and the redesign, with more fun stuff (like Modmail Search) on the way.\\n\\nOther than that, I can’t imagine we have much to talk about, but I’ll hang to around some questions anyway.\\n\\n—spez\", \"Hi all,\\n\\nEach year around this time, we share Reddit’s latest transparency report and a few highlights from our Legal team’s efforts to protect user privacy. This year, our annual post happens to coincide with one of the biggest national discussions of privacy online and the integrity of the platforms we use, so I wanted to share a more in\\\\-depth update in an effort to be as transparent with you all as possible.\\n\\nFirst, here is our 2017 Transparency Report. This details government and law\\\\-enforcement requests for private information about our users. The types of requests we receive most often are subpoenas, court orders, search warrants, and emergency requests. We require all of these requests to be legally valid, and we push back against those we don’t consider legally justified. In 2017, we received significantly more requests to produce or preserve user account information. The percentage of requests we deemed to be legally valid, however, decreased slightly for both types of requests. \\\\(You’ll find a full breakdown of these stats, as well as non\\\\-governmental requests and DMCA takedown notices, in the report. You can find our transparency reports from previous years here.\\\\) \\n\\nWe also participated in a number of amicus briefs, joining other tech companies in support of issues we care about. In Hassell v. Bird and Yelp v. Superior Court \\\\(Montagna\\\\), we argued for the right to defend a user's speech and anonymity if the user is sued. And this year, we've advocated for upholding the net neutrality rules \\\\(County of Santa Clara v. FCC\\\\) and defending user anonymity against unmasking prior to a lawsuit \\\\(Glassdoor v. Andra Group, LP\\\\).\\n\\nI’d also like to give an update to my last post about the investigation into Russian attempts to exploit Reddit. I’ve mentioned before that we’re cooperating with Congressional inquiries. In the spirit of transparency, we’re going to share with you what we shared with them earlier today:\\n\\nIn my post last month, I described that we had found and removed a few hundred accounts that were of suspected Russian Internet Research Agency origin. I’d like to share with you more fully what that means. At this point in our investigation, we have found 944 suspicious accounts, few of which had a visible impact on the site: \\n\\n 70&37; \\\\(662\\\\) had zero karma\\n 1&37; \\\\(8\\\\) had negative karma\\n 22&37; \\\\(203\\\\) had 1\\\\-999 karma\\n 6&37; \\\\(58\\\\) had 1,000\\\\-9,999 karma\\n 1&37; \\\\(13\\\\) had a karma score of 10,000\\\\+\\n\\nOf the 282 accounts with non\\\\-zero karma, more than half \\\\(145\\\\) were banned prior to the start of this investigation through our routine Trust & Safety practices. All of these bans took place before the 2016 election and in fact, all but 8 of them took place back in 2015. This general pattern also held for the accounts with significant karma: of the 13 accounts with 10,000\\\\+ karma, 6 had already been banned prior to our investigation—all of them before the 2016 election. Ultimately, we have seven accounts with significant karma scores that made it past our defenses.\\n\\nAnd as I mentioned last time, our investigation did not find any election\\\\-related advertisements of the nature found on other platforms, through either our self\\\\-serve or managed advertisements. I also want to be very clear that none of the 944 users placed any ads on Reddit. We also did not detect any effective use of these accounts to engage in vote manipulation. \\n\\nTo give you more insight into our findings, here is a link to all 944 accounts. We have decided to keep them visible for now, but after a period of time the accounts and their content will be removed from Reddit. We are doing this to allow moderators, investigators, and all of you to see their account histories for yourselves.\\n\\nWe still have a lot of room to improve, and we intend to remain vigilant. Over the past several months, our teams have evaluated our site\\\\-wide protections against fraud and abuse to see where we can make those improvements. But I am pleased to say that these investigations have shown that the efforts of our Trust & Safety and Anti\\\\-Evil teams are working. It’s also a tremendous testament to the work of our moderators and the healthy skepticism of our communities, which make Reddit a difficult platform to manipulate.\\n\\nWe know the success of Reddit is dependent on your trust. We hope continue to build on that by communicating openly with you about these subjects, now and in the future. Thanks for reading. I’ll stick around for a bit to answer questions.\\n\\n—Steve \\\\(spez\\\\)\\n\\nupdate: I'm off for now. Thanks for the questions!\", 'In the past couple of weeks, Reddit has been mentioned as one of the platforms used to promote Russian propaganda. As it’s an ongoing investigation, we have been relatively quiet on the topic publicly, which I know can be frustrating. While transparency is important, we also want to be careful to not tip our hand too much while we are investigating. We take the integrity of Reddit extremely seriously, both as the stewards of the site and as Americans.\\n\\nGiven the recent news, we’d like to share some of what we’ve learned:\\n\\nWhen it comes to Russian influence on Reddit, there are three broad areas to discuss: ads, direct propaganda from Russians, indirect propaganda promoted by our users.\\n\\nOn the first topic, ads, there is not much to share. We don’t see a lot of ads from Russia, either before or after the 2016 election, and what we do see are mostly ads promoting spam and ICOs.  Presently, ads from Russia are blocked entirely, and all ads on Reddit are reviewed by humans. Moreover, our ad policies prohibit content that depicts intolerant or overly contentious political or cultural views.\\n\\nAs for direct propaganda, that is, content from accounts we suspect are of Russian origin or content linking directly to known propaganda domains, we are doing our best to identify and remove it. We have found and removed a few hundred accounts, and of course, every account we find expands our search a little more. The vast majority of suspicious accounts we have found in the past months were banned back in 2015–2016 through our enhanced efforts to prevent abuse of the site generally.\\n\\nThe final case, indirect propaganda, is the most complex. For example, the Twitter account @TEN\\\\_GOP is now known to be a Russian agent. @TEN\\\\_GOP’s Tweets were amplified by thousands of Reddit users, and sadly, from everything we can tell, these users are mostly American, and appear to be unwittingly promoting Russian propaganda. I believe the biggest risk we face as Americans is our own ability to discern reality from nonsense, and this is a burden we all bear.\\n\\nI wish there was a solution as simple as banning all propaganda, but it’s not that easy. Between truth and fiction are a thousand shades of grey. It’s up to all of us—Redditors, citizens, journalists—to work through these issues. It’s somewhat ironic, but I actually believe what we’re going through right now will actually reinvigorate Americans to be more vigilant, hold ourselves to higher standards of discourse, and fight back against propaganda, whether foreign or not.\\n\\nThank you for reading. While I know it’s frustrating that we don’t share everything we know publicly, I want to reiterate that we take these matters very seriously, and we are cooperating with congressional inquiries. We are growing more sophisticated by the day, and we remain open to suggestions and feedback for how we can improve.', \"Hello again,\\n\\nNow that it’s far enough into the year that we’re all writing the date correctly, I thought I’d give a quick recap of 2017 and share some of what we’re working on in 2018.\\n\\nIn 2017, we doubled the size of our staff, and as a result, we accomplished more than ever:\\n\\nWe recently gave our iOS and Android apps major updates that, in addition to many of your most\\\\-requested features, also includes a new suite of mod tools. If you haven’t tried the app in a while, please check it out! \\n\\nWe added a ton of new features to Reddit, from spoiler tags and post\\\\-to\\\\-profile to chat \\\\(now in beta for individuals and groups\\\\), and we’re especially pleased to see features that didn’t exist a year ago like crossposts and native video on our front pages every day.\\n\\nNot every launch has gone swimmingly, and while we may not respond to everything directly, we do see and read all of your feedback. We rarely get things right the first time \\\\(profile pages, anybody?\\\\), but we’re still working on these features and we’ll do our best to continue improving Reddit for everybody. If you’d like to participate and follow along with every change, subscribe to announcements \\\\(major announcements\\\\), beta \\\\(long\\\\-running tests\\\\), modnews \\\\(moderator features\\\\), and changelog \\\\(most everything else\\\\).\\n\\nI’m particularly proud of how far our Community, Trust & Safety, and Anti\\\\-Evil teams have come. We’ve steadily shifted the balance of our work from reactive to proactive, which means that much more often we’re catching issues before they become issues. I’d like to highlight one stat in particular: at the beginning of 2017 our T&S work was almost entirely driven by user reports. Today, more than half of the users and content we action are caught by us proactively using more sophisticated modeling. Often we catch policy violations before being reported or even seen by users or mods.\\n\\nThe greater Reddit community does something incredible every day. In fact, one of the lessons I’ve learned from Reddit is that when people are in the right context, they are more creative, collaborative, supportive, and funnier than we sometimes give ourselves credit for \\\\(I’m serious!\\\\). A couple great examples from last year include that time you all created an artistic masterpiece and that other time you all organized site\\\\-wide grassroots campaigns for net neutrality. Well done, everybody.\\n\\nIn 2018, we’ll continue our efforts to make Reddit welcoming. Our biggest project continues to be the web redesign. We know you have a lot of questions, so our teams will be doing a series of blog posts and AMAs all about the redesign, starting soon\\\\-ish in blog. \\n\\nIt’s still in alpha with a few thousand users testing it every day, but we’re excited about the progress we’ve made and looking forward to expanding our testing group to more users. \\\\(Thanks to all of you who have offered your feedback so far!\\\\) If you’d like to join in the fun, we pull testers from beta. We’ll be dramatically increasing the number of testers soon.\\n\\nWe’re super excited about 2018. The staff and I will hang around to answer questions for a bit.\\n\\nHappy New Year,\\n\\nSteve and the Reddit team\\n\\nupdate: I'm off for now. As always, thanks for the feedback and questions.\", 'Following today’s disappointing vote from the FCC, Alexis and I wanted to take the time to thank redditors for your incredible activism on this issue, and reassure you that we’re going to continue fighting for the free and open internet. \\n\\nOver the past few months, we have been floored by the energy and creativity redditors have displayed in the effort to save net neutrality. It was inspiring to witness organic takeovers of the front page \\\\(twice\\\\), read touching stories about how net neutrality matters in users’ everyday lives, see bills about net neutrality discussed on the front page \\\\(with over 100,000 upvotes and cross-posts to over 100 communities\\\\), and watch redditors exercise their voices as citizens in the hundreds of thousands of calls they drove to Congress.\\n\\nIt is disappointing that the FCC Chairman plowed ahead with his planned repeal despite all of this public concern, not to mention the objections expressed by his fellow commissioners, the FCC’s own CTO, more than a hundred members of Congress, dozens of senators, and the very builders of the modern internet. \\n\\nNevertheless, today’s vote is the beginning, not the end. While the fight to preserve net neutrality is going to be longer than we had hoped, this is far from over.\\n\\nMany of you have asked what comes next. We don’t exactly know yet, but it seems likely that the FCC’s decision will be challenged in court soon, and we would be supportive of that challenge. It’s also possible that Congress can decide to take up the cause and create strong, enforceable net neutrality rules that aren’t subject to the political winds at the FCC. Nevertheless, this will be a complex process that takes time.\\n\\nWhat is certain is that Reddit will continue to be involved in this issue in the way that we know best: seeking out every opportunity to amplify your voices and share them with those who have the power to make a difference. \\n\\nThis isn’t the outcome we wanted, but you should all be proud of the awareness you’ve created. Those who thought that they’d be able to quietly repeal net neutrality without anyone noticing or caring learned a thing or two, and we still may come out on top of this yet. We’ll keep you informed as things develop.\\n\\narabscarab \\\\(Jessica, our head of policy\\\\) will also be in the comments to address your questions. \\n\\n—spez & kn0thing\\n\\nupdate: Please note the FCC is not united in this decision and find the dissenting statements from commissioners Clyburn and Rosenworcel.\\n\\nupdate2 (9:55AM pst): While the vote has not technically happened, we decided to post after the two dissenting commissioners released their statements. However, the actual vote appears to be delayed for security reasons. We hope everyone is safe.\\n\\nupdate3 (10:13AM pst): The FCC votes to repeal 3–2.', \"Update: Thank you, everyone! We were in touch with Congressman Mike Doyle's office yesterday sharing some of your great stories from his home district in Pennsylvania (thanks, Bones_MD!), and they've heard you loud and clear. They are leading an effort to get Congress to ask the FCC to delay their December 14 vote, but they need as many Congressional members as possible to sign on. You can help them by calling or writing your member of Congress (look them up here or through www.battleforthenet.com) and specifically asking him or her to sign onto Representative Doyle's letter to the FCC. We'll be doing the same. Keep it up, we're being heard!\\n\\n\\n\\nHi All,\\n\\nIf you spent any time on Reddit last week, you may have noticed a common theme in the posts on your front page, so we wanted to take a moment to recap what’s happened so far in the fight for net neutrality, underscore how important this issue is to Reddit, and share how we plan to continue to stand up for an internet that remains open and free.\\n\\nOn Tuesday, FCC chairman Ajit Pai announced his intention to vote on a full rollback of the 2015 net neutrality rules. While the pre-Thanksgiving timing of the announcement might have helped the news sneak by over the holidays, you all have helped prevent that from happening. Aside from ensuring that net neutrality was discussed IRL around Thanksgiving tables across the country, you brought the conversation about the open internet to almost every community on the site, from dataisbeautiful to trashpandas. You’ve made high-quality gifs, flooded the meme market, explained the issue to people who are out of the loop, and given a history of why net neutrality rules are essential. \\n\\nIn just one week, you made 50,000 unique posts and over 350,000 comments related to net neutrality, generating over 21 million votes. While Tuesday’s news hits close to home, we are grateful that the Reddit community cares just as much about net neutrality as we do at Reddit HQ.\\n\\nAs many of you know, the FCC’s vote will happen on December 14 and is expected to pass. However, the vote is also expected to be challenged almost immediately in court, likely kicking off a long process that will take years to work through. During this time, Congress will likely try to legislate a fix. As a still-small company that owes its existence to net neutrality’s giving us a fair chance in the marketplace, we will take every opportunity to share our perspective and give constructive input to this process. The data says that Americans don’t see this as a partisan issue, and neither do we.\\n\\nMost of the activism right now is focused on driving messages to Congress and the FCC before December 14 \\\\(including a protest in DC the day before the vote\\\\).  The FCC has received a record 22 million comments on net neutrality but has indicated they have not reviewed comments that don’t introduce new facts into the record or make serious legal arguments. Additionally, they believe a number of the comments are fake. While we are unlikely to change the FCC’s decision, we encourage you to follow Commissioner Rosenworcel’s suggestion and continue to “make a ruckus” to let the FCC hear your individual stories on the importance of net neutrality.  \\n\\nA few months ago, kn0thing asked you to leave comments explaining why net neutrality is important to you, and thousands of you delivered. Today, we’re asking you again to leave personal stories that we can use in the battle ahead. When we shared these stories with members of Congress this past July, we saw firsthand how effective they are at humanizing an issue that is too often perceived as an abstract battle between big corporate interests. \\n\\nWe will continue to share these personal testimonials with more members of Congress, with the media, and potentially file them in court briefs. Our goal in this effort is to keep the personal dimension of the open internet top of mind for everyone who wants to repeal net neutrality. We know how powerful redditors banding together for a common cause can be, so our focus will continue to be on amplifying your voices, from Capitol Hill to — if it comes to it — the Supreme Court. \\n\\nSo, please tell us in the comments:\\n\\nHow would your life change if internet service providers started blocking or throttling certain internet traffic, or creating paid prioritization channels for certain content? \\n\\nInclude as much detail as you feel comfortable sharing. Generally, the more specific, the better. Mentioning your state and Congressional representative is especially useful.\\n\\nThank you.\\n\\nArabScarab \\\\(Jessica Ashooh, our Head of Policy\\\\), and I will hang around to answer questions.\", \"Hello Everyone!\\n\\nIt’s been a few months since I last did one of these, so I thought I’d check in and share a few updates.\\n\\nIt’s been a busy few months here at HQ. On the product side, we launched Reddit-hosted video and gifs; crossposting is in beta; and Reddit’s web redesign is in alpha testing with a limited number of users, which we’ll be expanding to an opt-in beta later this month. We’ve got a long way to go, but the feedback we’ve received so far has been super helpful \\\\(thank you!\\\\). If you’d like to participate in this sort of testing, head over to beta and subscribe.\\n\\nAdditionally, we’ll be slowly migrating folks over to the new profile pages over the next few months, and two-factor authentication rollout should be fully released in a few weeks. We’ve made many other changes as well, and if you’re interested in following along with all these updates, you can subscribe to changelog.\\n\\nIn real life, we finished our moderator thank you tour where we met with hundreds of moderators all over the US. It was great getting to know many of you, and we received a ton of good feedback and product ideas that will be working their way into production soon. The next major release of the native apps should make moderators happy \\\\(but you never know how these things will go…\\\\).\\n\\nLast week we expanded our content policy to clarify our stance around violent content. The previous policy forbade “inciting violence,” but we found it lacking, so we expanded the policy to cover any content that encourages, glorifies, incites, or calls for violence or physical harm against people or animals. We don’t take changes to our policies lightly, but we felt this one was necessary to continue to make Reddit a place where people feel welcome.\\n\\nAnnnnnnd in other news:\\n\\nIn case you didn’t catch our post the other week, we’re running our first ever software development internship program next year. If fetching coffee is your cup of tea, check it out!\\n\\nThis weekend is Extra Life, a charity gaming marathon benefiting Children’s Miracle Network Hospitals, and we have a team. Join our team, play games with the Reddit staff, and help us hit our $250k fundraising goal.\\n\\nFinally, today we’re kicking off our ninth annual Secret Santa exchange on Reddit Gifts! This is one of the longest-running traditions on the site, connecting over 100,000 redditors from all around the world through the simple act of giving and receiving gifts. We just opened this year's exchange a few hours ago, so please join us in spreading a little holiday cheer by signing up today.\\n\\nSpeaking of the holidays, I’m no longer allowed to use a computer over the Thanksgiving holiday, so I’d love some ideas to keep me busy.\\n\\n-Steve\\n\\nupdate: I'm taking off for now. Thanks for the questions and feedback. I'll check in over the next couple of days if more bubbles up. Cheers!\", \"Hi All,\\n\\nWe’ve got some updates to share about Reddit the platform, community, and business:\\n\\nFirst off, thank you to all of you who participated in the Net Neutrality Day of Action earlier this month! We believe a free and open Internet is the most important advancement of our lifetime, and its preservation is paramount. Even if the FCC chooses to disregard public opinion and rolls back existing Net Neutrality regulations, the fight for Internet freedom is far from over, and Reddit will be there. Alexis and I just returned from Washington, D.C. where we met with members and senators on both sides of the aisle and shared your stories and passion about this issue. Thank you again for making your voice heard.\\n\\nWe’re happy to report Reddit IRL is alive and well: while in D.C., we hosted one of a series of meetups around the country to connect with moderators in person, and back in June, Redditors gathered for Global Reddit Meetup Day across 120 cities worldwide. We have a few more meetups planned this year, and so far it’s been great fun to connect with everyone face to face.\\n\\nReddit has closed another round of funding. This is an important milestone for the company, and while Reddit the business continues to grow and is healthier than ever, the additional capital provides even more resources to build a Reddit that is accessible, welcoming, broad, and available to everyone on the planet. I want to emphasize our values and goals are not changing, and our investors continue to support our mission.\\n\\nOn the product side, we have a lot going on. It’s incredible how much we’re building, and we’re excited to show you over the coming months. Our video beta continues to expand. A few hundred communities have access, and have been critical to working out bugs and polishing the system. We’re creating more geo-specific views of Reddit, and the web redesign (codename: Reddit4) is well underway. I can’t wait for you all to see what we’re working on. The redesign is a massive effort and will take months to deploy. We'll have an alpha end of August, a public beta in October, and we'll see where the feedback takes us from there.\\n\\nWe’re making some changes to our Privacy Policy. Specifically, we’re phasing out Do Not Track, which isn’t supported by all browsers, doesn’t work on mobile, and is implemented by few—if any—advertisers, and replacing it with our own privacy controls. DNT is a nice idea, but without buy-in from the entire ecosystem, its impact is limited. In place of DNT, we're adding in new, more granular privacy controls that give you control over how Reddit uses any data we collect about you. This applies to data we collect both on and off Reddit  (some of which ad blockers don’t catch). The information we collect allows us to serve you both more relevant content and ads. While there is a tension between privacy and personalization, we will continue to be upfront with you about what we collect and give you mechanisms to opt out. Changes go into effect in 30 days.\\n\\nOur Community, Trust & Safety, and Anti-Evil teams are hitting their stride. For the first time ever, the majority of our enforcement actions last quarter were proactive instead of reactive. This means we’re catching abuse earlier, and as a result we saw over 1M fewer moderator reports despite traffic increasing over the same period (speaking of which, we updated community traffic numbers to be more accurate).\\n\\nWhile there is plenty more to report, I’ll stop here. If you have any questions about the above or anything else, I’ll be here a couple hours.\\n\\n–Steve\\n\\nu: I've got to run for now. Thanks for the questions! I'll be back later this evening to answer some more.\", 'Hi Mods,\\n\\nI wanted to follow up on the CSS and redesign post from a few weeks back and provide some more information as well as clarify some questions that have emerged.\\n\\nBased on your feedback, we will allow you to continue to use CSS on top of the new structured styles. This will be the last part of the customization tool we build as we want to make sure the structured options we are offering are rock solid. Also, please keep in mind that if you do choose to use the advanced option, we will no longer be treading as carefully as we have done in the past about breaking styles applied through CSS^1.\\n\\nTo give you a sense of our approach, we’re starting with a handful of highly-customized communities (e.g. overwatch and gameofthrones) and seeing how close we can get to their existing appearance using the new system. Logos, images, colors, spoilers, menus, flairs (all kinds), and lots more will be supported. I know you’d like to see a list of everything, but we think the best approach will be to show instead of tell, which we’re racing to as quickly as possible.\\n\\nThe widget system I mentioned in the last post isn’t directly related. Many communities have added complex functionality over the years (calendars, scoreboards, etc). A widget system will elevate these features to first-class status on Reddit, with the aim of making them both more powerful and reuseable. Yes, we’re evaluating how we would accept user-created widgets.  We intend for widgets to be able to be updated via the API, so you’ll still be able to create dynamically updating content in your subreddit sidebar.\\n\\nThis change, and the redesign in general, is going to happen slowly.  We will will not be abruptly cutting everyone over to the new site at once.  We know it won’t be perfect at first (unlike the current site), and plan to include plenty of time to solicit feedback and make iterations.  Sharing our plans for subreddit customization this far advance with you is part of this process.\\n\\nWe’ll start with a small alpha group and create a subreddit to solicit feedback.  As we continue to add features, we’ll expand the testing group to an opt-in beta.  If you’d like to participate in the alpha please add a reply to this comment.  Please note, signing up does not guarantee a spot in the alpha.  We want to be able to be responsive to the alpha testers, and keeping the initial group small has proved to be effective in the past.\\n\\nI’d like thank everyone who has provided feedback on this topic.  There have been some very constructive threads.  I’d also like to take a moment to appreciate how civil the feedback has been.  This is a topic many of you feel passionate about.  Thank you for keeping things constructive.\\n\\nCool?\\n\\nCool.\\n\\n&nbsp;\\n\\n^1 No snark allowed.', 'Hey All,\\n\\nI just wanted to leave a quick note and say we’re listening to all the feedback around CSS / customization. The quietness on my end is because I’m traveling and won’t have a couple hours to chat until next week, and I want to make sure I have time to answer questions. I appreciate all the feedback so far (and the fact that it’s been overwhelmingly polite!).\\n\\nCheers,\\n\\nSteve', \"Hello cscareerquestions, I’m Steve Huffman, aka Spez. I founded both Reddit and Hipmunk (where I was CTO). Until about a year and a half ago, I was a full time engineer. I started programming as a kid, and worked as a developer through high school and college at Virginia (CS major). As some of you may know, kn0thing made a bet on Twitter with one of your mods that if you hit this subscriber milestone, I would answer all your CS career questions. Congratulations at hitting 100K subscribers, glad you’re on Reddit! And, yes, we’re hiring...\\n\\nUpdate: I'm taking off for now. I'll check back in this evening for a few more questions. Thanks for the questions, and thanks to the moderators!\", \"Hi Mods,\\n\\nYou may recall from my announcement post earlier this year that I mentioned we’re currently working on a full redesign of the site, which brings me to the two topics I wanted to talk to you about today: Custom Styles and Mod Tools.\\n\\nCustom Styles\\n\\nCustom community styles are a key component in allowing communities to express their identity, and we want to preserve this in the site redesign. For a long time, we’ve used CSS as the mechanism for subreddit customization, but we’ll be deprecating CSS during the redesign in favor of a new system over the coming months. While CSS has provided a wonderful creative canvas to many communities, it is not without flaws:\\n\\n It’s web-only. Increasing users are viewing Reddit on mobile (over 50%), where CSS is not supported. We’d love for you to be able to bring your spice to phones as well.\\n CSS is a pain in the ass: it’s difficult to learn; it’s error-prone; and it’s time consuming.\\n Some changes cause confusion (such as changing the subscription numbers).\\n CSS causes us to move slow. We’d like to make changes more quickly. You’ve asked us to improve things, and one of the things that slows us down is the risk of breaking subreddit CSS (and third-party mod tools).\\n\\nWe’re designing a new set of tools to address the challenges with CSS but continue to allow communities to express their identities. These tools will allow moderators to select customization options for key areas of their subreddit across platforms. For example, header images and flair colors will be rendered correctly on desktop and mobile.\\n\\nWe know great things happen when we give users as much flexibility as possible. The menu of options we’ll provide for customization is still being determined. Our starting point is to replicate as many of the existing uses that already exist, and to expand beyond as we evolve.\\n\\nWe will also natively supporting a lot of the functionality that subreddits currently build into the sidebar via a widget system. For instance, a calendar widget will allow subreddits to easily display upcoming events. We’d like this feature and many like it to be accessible to all communities.\\n\\nHow are we going to get there? We’ll be working closely with as many of you as possible to design these features. The process will span the next few months. We have a lot of ideas already and are hoping you’ll help us add and refine even more. The transition isn’t going to be easy for everyone, so we’ll assist communities that want help (i.e. we’ll do it for you). powerlanguage will be reaching out for alpha testers.\\n\\nMod Tools\\n\\nMod tools have evolved over time to be some of the most complex parts of Reddit, both in terms of user experience and the underlying code.  We know that these tools are crucial for the maintaining the health of your communities, and  we know many of you who moderate very large subreddits depend on third-party tools for your work. Not breaking these tools is constantly on our mind (for better or worse).\\n\\nWe’re in contact with the devs of Toolbox, and would like to work together to port it to the redesign. Once that is complete, we’ll begin work on updating these tools, including supporting natively the most requested features from Toolbox.\\n\\nThe existing site and the redesigned site will run in parallel while we make these changes. That is, we don’t have plans for turning off the current site anytime soon. If you depend on functionality that has not yet been transferred to the redesign, you will still have a way to perform those actions.\\n\\nWhile we have your attention… we’re also growing our internal team that handles spam and bad-actors. Our current focus is on report abuse. We’ve caught a lot of bad behavior. We hope you notice the difference, and we’ll keep at it regardless.\\n\\nMoving Forward\\n\\nWe know moderation can feel janitorial–thankless and repetitive. Thank you for all that you do. Our goal is to take care much of that burden so you can focus on helping your communities thrive.\\n\\nBig changes are ahead. These are fundamental, core issues that we’ll be grappling with together–changes to how communities are managed and express identity are not taken lightly. We’ll be giving you further details as we move forward, but wanted to give you a heads up early.\\n\\nThanks for reading.\\n\\nupdate: now that I've cherry-picked all the easy questions, I'm going to take off and leave the hard ones for powerlanguage. I'll be back in a couple hours.\", 'Hello Everyone,\\n\\nWe just posted our 2016 Transparency Report. It details government and law-enforcement-agency requests for private information about our users. We publish it each year, and you can find previous versions here.\\n\\nOur goals in publishing the report are to demonstrate Reddit’s commitment to remaining a place that encourages authentic conversation and to share with you the ways in which we work to protect the privacy of our users.\\n\\nGenerally, the types of requests we receive are subpoenas, court orders, search warrants, and emergency requests. We require all requests to be legally valid, and, in 2016, we did not produce records in response to approximately 40% of them, which is on par with previous years.\\n\\nAnother way in which we stand up on behalf of users is through participation in amicus briefs. Basically, we say we support a party and their position. In tech, it is one of the few areas in which many companies work together to send a strong message to courts.\\n\\nWe participated in a couple amicus briefs this year, including one on behalf of Facebook in the state of New York, who was served with a bulk warrant for account information, photos, private messages, and other information for 381 individuals. Reddit joined with a number of other tech companies in supporting Facebook’s arguments that questioned the legal validity of the bulk search warrant and the associated gag order which prevented Facebook from notifying its users.\\n\\nAgain, in support of Facebook, we joined a group to fight against a Section 230 ruling in the state of California. Section 230 essentially allows platforms like Reddit to exist because it grants broad immunity to online service providers from harms arising out of third-party content. In this case, the trial court had held that Jason Cross a/k/a Michael Knight (“Knight”) could seek to hold Facebook liable for failing to remove third-party content that Knight found objectionable.  Amici filed a response in support of Facebook and to argue against the trial court’s order finding that California right of publicity claims fall outside the broad scope of Section 230’s immunity. \\n\\nThank you for reading. I hope that you take this report as a sign of our commitment to your privacy and trust.\\n\\nI’ll answer any questions that I can, but please understand I can’t always be completely candid when it comes to legal matters.\\n\\nSteve (spez)\\n', \"Hi All,\\n\\nI would like to take a minute to look back on 2016 and share what is in store for Reddit in 2017.\\n\\n2016 was a transformational year for Reddit. We are a completely different company than we were a year ago, having improved in just about every dimension. We hired most of the company, creating many new teams and growing the rest. As a result, we are capable of building more than ever before.\\n\\nLast year was our most productive ever. We shipped well-reviewed apps for both iOS and Android. It is crazy to think these apps did not exist a year ago—especially considering they now account for over 40% of our content views. Despite being relatively new and not yet having all the functionality of the desktop site, the apps are fastest and best way to browse Reddit. If you haven’t given them a try yet, you should definitely take them for a spin.\\n\\nAdditionally, we built a new web tech stack, upon which we built the long promised new version moderator mail and our mobile website. We added image hosting on all platforms as well, which now supports the majority of images uploaded to Reddit.\\n\\nWe want Reddit to be a welcoming place for all. We know we still have a long way to go, but I want to share with you some of the progress we have made. Our Anti-Evil and Trust & Safety teams reduced spam by over 90%, and we released the first version of our blocking tool, which made a nice dent in reported abuse. In the wake of Spezgiving, we increased actions taken against individual bad actors by nine times. Your continued engagement helps us make the site better for everyone, thank you for that feedback.\\n\\nAs always, the Reddit community did many wonderful things for the world. You raised a lot of money; stepped up to help grieving families; and even helped diagnose a rare genetic disorder. There are stories like this every day, and they are one of the reasons why we are all so proud to work here. Thank you.\\n\\nWe have lot upcoming this year. Some of the things we are working on right now include a new frontpage algorithm, improved performance on all platforms, and moderation tools on mobile (native support to follow). We will publish our yearly transparency report in March.\\n\\nOne project I would like to preview is a rewrite of the desktop website. It is a long time coming. The desktop website has not meaningfully changed in many years; it is not particularly welcoming to new users (or old for that matter); and still runs code from the earliest days of Reddit over ten years ago. We know there are implications for community styles and various browser extensions. This is a massive project, and the transition is going to take some time. We are going to need a lot of volunteers to help with testing: new users, old users, creators, lurkers, mods, please sign up here!\\n\\nHere's to a happy, productive, drama-free (ha), 2017!\\n\\nSteve and the Reddit team\\n\\nupdate: I'm off for now. Will check back in a couple hours. Thanks!\\n\", 'tl;dr: I fucked up. I ruined Thanksgiving. I’m sorry. I won’t do it again. We are taking a more aggressive stance against toxic users and poorly behaving communities. You can filter all now.\\n\\nHi All,\\n\\nI am sorry: I am sorry for compromising the trust you all have in Reddit, and I am sorry to those that I created work and stress for, particularly over the holidays. It is heartbreaking to think that my actions distracted people from their family over the holiday; instigated harassment of our moderators; and may have harmed Reddit itself, which I love more than just about anything.\\n\\nThe United States is more divided than ever, and we see that tension within Reddit itself. The community that was formed in support of President-elect Donald Trump organized and grew rapidly, but within it were users that devoted themselves to antagonising the broader Reddit community.\\n\\nMany of you are aware of my attempt to troll the trolls last week. I honestly thought I might find some common ground with that community by meeting them on their level. It did not go as planned. I restored the original comments after less than an hour, and explained what I did.\\n\\nI spent my formative years as a young troll on the Internet. I also led the team that built Reddit ten years ago, and spent years moderating the original Reddit communities, so I am as comfortable online as anyone. As CEO, I am often out in the world speaking about how Reddit is the home to conversation online, and a follow on question about harassment on our site is always asked. We have dedicated many of our resources to fighting harassment on Reddit, which is why letting one of our most engaged communities openly harass me felt hypocritical.\\n\\nWhile many users across the site found what I did funny, or appreciated that I was standing up to the bullies (I received plenty of support from users of the_donald), many others did not. I understand what I did has greater implications than my relationship with one community, and it is fair to raise the question of whether this erodes trust in Reddit. I hope our transparency around this event is an indication that we take matters of trust seriously. Reddit is no longer the little website my college roommate, kn0thing, and I started more than eleven years ago. It is a massive collection of communities that provides news, entertainment, and fulfillment for millions of people around the world, and I am continually humbled by what Reddit has grown into. I will never risk your trust like this again, and we are updating our internal controls to prevent this sort of thing from happening in the future.\\n\\nMore than anything, I want Reddit to heal, and I want our country to heal, and although many of you have asked us to ban the the_donald outright, it is with this spirit of healing that I have resisted doing so. If there is anything about this election that we have learned, it is that there are communities that feel alienated and just want to be heard, and Reddit has always been a place where those voices can be heard.\\n\\nHowever, when we separate the behavior of some of the_donald users from their politics, it is their behavior we cannot tolerate. The opening statement of our Content Policy asks that we all show enough respect to others so that we all may continue to enjoy Reddit for what it is. It is my first duty to do what is best for Reddit, and the current situation is not sustainable.\\n\\nHistorically, we have relied on our relationship with moderators to curb bad behaviors. While some of the moderators have been helpful, this has not been wholly effective, and we are now taking a more proactive approach to policing behavior that is detrimental to Reddit:\\n\\n We have identified hundreds of the most toxic users and are taking action against them, ranging from warnings to timeouts to permanent bans.\\nPosts stickied on the_donald will no longer appear in all. all is not our frontpage, but is a popular listing that our most engaged users frequent, including myself. The sticky feature was designed for moderators to make announcements or highlight specific posts. It was not meant to circumvent organic voting, which the_donald does to slingshot posts into all, often in a manner that is antagonistic to the rest of the community.\\n\\n We will continue taking on the most troublesome users, and going forward, if we do not see the situation improve, we will continue to take privileges from communities whose users continually cross the line—up to an outright ban.\\n\\nAgain, I am sorry for the trouble I have caused. While I intended no harm, that was not the result, and I hope these changes improve your experience on Reddit.\\n\\nSteve\\n\\nPS: As a bonus, I have enabled filtering for all for all users. You can modify the filters by visiting all on the desktop web (I’m old, sorry), but it will affect all platforms, including our native apps on iOS and Android.\\n', 'Dearest Redditors,\\n\\nWe have been hard at work the past few months adding features, improving our ads business, and protecting users. Here is some of the stuff we have been up to:\\n\\nHopefully you did not notice, but as of last week, the m.reddit.com is powered by an entirely new tech platform. We call it 2X. In addition to load times being significantly faster for users (by about 2x…) development is also much quicker. This means faster iteration and more improvements going forward. Our recently released AMP site and moderator mail are already running on 2X.\\n\\nSpeaking of modmail, the beta we announced a couple months ago is going well. Thirty communities volunteered to help us iron out the kinks (thank you, DIY!). The community feedback has been invaluable, and we are incorporating as much as we can in preparation for the general release, which we expect to be sometime next month.\\n\\nPrepare your pitchforks: we are enabling basic interest targeting in our advertising product. This will allow advertisers to target audiences based on a handful of predefined interests (e.g. sports, gaming, music, etc.), which will be informed by which communities they frequent. A targeted ad is more relevant to users and more valuable to advertisers. We describe this functionality in our privacy policy and have added a permanent link to this opt-out page. The main changes are in \\'Advertising and Analytics’. The opt-out is per-browser, so it should work for both logged in and logged out users.\\n\\nWe have a cool community feature in the works as well. Improved spoiler tags went into beta earlier today. Communities have long been using tricks with NSFW tags to hide spoilers, which is clever, but also results in side-effects like actual NSFW content everywhere just because you want to discuss the latest episode of The Walking Dead.\\n\\nWe did have some fun with Atlantic Recording Corporation in the last couple of months.  After a user posted a link to a leaked Twenty One Pilots song from the Suicide Squad soundtrack, Atlantic petitioned a NY court to order us to turn over all information related to the user and any users with the same IP address. We pushed back on the request, and our lawyer, who knows how to turn a phrase, opposed the petition by arguing, \"Because Atlantic seeks to use pre-action discovery as an impermissible fishing expedition to determine if it has a plausible claim for breach of contract or breach of fiduciary duty against the Reddit user and not as a means to match an existing, meritorious claim to an individual, its petition for pre-action discovery should be denied.\" After seeing our opposition and arguing its case in front of a NY judge, Atlantic withdrew its petition entirely, signaling our victory. While pushing back on these requests requires time and money on our end, we believe it is important for us to ensure applicable legal standards are met before we disclose user information.\\n\\nLastly, we are celebrating the kick-off of our eighth annual Secret Santa exchange next Tuesday on Reddit Gifts! It is true Reddit tradition, often filled with great gifts and surprises. If you have never participated, now is the perfect time to create an account. It will be a fantastic event this year.\\n\\nI will be hanging around to answer questions about this or anything else for the next hour or so.\\n\\nSteve\\n\\nu: I\\'m out for now. Will check back later. Thanks!', 'I am sad to share that deimorz is leaving Reddit (just the company, not the site, hopefully). Chad joined us back in 2013 when the company was only about ten people. He is the author of AutoModerator, which enabled Reddit to grow to its current size, and he is the creator of SubredditSimulator, which will ensure our survival after you are all gone. If you have spent any time in bugs, help, ModSupport, AutoModerator, modhelp, redditdev, Games, TheoryOfReddit, and many others, you have probably met Chad and have likely been helped by him.\\n\\nChad, Reddit would not be what it is today without you, and we will miss you dearly. Best of luck out there!', 'I would like to share some of the things we have been up to since we last chatted.\\n\\nOn the product side, we’ve been busy. Both our iPhone and Android apps have had multiple releases, and we’re proud at how well they are progressing. Mobile web (m.reddit.com) is undergoing a major overhaul that we’re testing internally, and hope to start showing to users in the next couple weeks. We have been running many experiments on desktop web to increase user engagement, particularly for users who are new to Reddit. You can see what experiments we are running on this live thread, and notable changes to the site are listed in changelog.\\n\\nWe’ve started development on a new frontpage algorithm. The current algorithm is outdated and is no longer meeting our needs. There are a number of problems we’d like to solve: increased velocity, improved personalization, reduced dependence on /new, and not requiring us to choose the defaults. We’re still in the early days, but I’m happy we’re dedicating resources to it.\\n\\nAs it relates to monetization, we’ve made a handful of changes: we tested adding affiliate tags to e-commerce links, which we ended up turning off; we announced Promoted User Posts; and we announced tests we’ll be running on sponsored headlines. Changes and additions to ads can be met with skepticism, and this is why we test changes carefully and listen to feedback. As we evolve our ads platform, we are working to do it in a way that that complements the core experience and engages redditors. These changes and experiments will continue to happen, but while it is critical that we build Reddit into a sustainable business, we don’t want to compromise what’s brought us here. Going forward, we will list these in changelog so all these kinds of announcements are in one place.\\n\\nYesterday, we previewed new moderator mail to moderators. This has been a long time coming, and we’re excited to show it off. The current moderator mail system is a hack on top of our messaging system, which is itself a hack on top of our commenting system. The new tool should save a lot of time for everyone, and new tech stack will allow for better future iterations and builds. We’ll be working with moderators to refine it while we work towards a full rollout.\\n\\nWe’ve seen great results from our Anti-Evil, Trust & Safety, and Community teams. The mandate of these teams is to eliminate spam and abuse and to ensure Reddit is a welcoming place for all. In the last quarter, we’ve reduced harassment reports by 15%, spam reports by 66%, and moderator spam removals by 15%. We’ve also reduced our support ticket backlog substantially, dropping our average response time from 64 hours to 7 in the process.\\n\\nHappy to chat about this stuff, or anything else.\\n\\ne: grammar\\n\\nu: Thank you! Heading out for now. Will check back later.', \"Hi All,\\n\\nA few days ago, we talked about a few technological and process changes we would be working on in order to improve your Reddit experience and ensure access to timely information is available.\\n\\nOver the last day we rolled out a behavior change to all. The all listing gives us a glimpse into what is happening on all of Reddit independent of specific interests or subscriptions. In many ways, all is a reflection of what is happening online in general. It is culturally important and drives many conversations around the world.\\n\\nThe changes we are making are to preserve this aspect of all—our specific goal being to prevent any one community from dominating the listing. The algorithm change is fairly simple—as a community is represented more and more often in the listing, the hotness of its posts will be increasingly lessened. This results in more variety in all.\\n\\nMany people will ask if this is related to the_donald. The short answer is no, we have been working on this change for a while, but I cannot deny their behavior hastened its deployment. We have seen many communities like the_donald over the years—ones that attempt to dominate the conversation on Reddit at the expense of everyone else. This undermines Reddit, and we are not going to allow it. \\n\\nInterestingly enough, the_donald was already getting downvoted out of all yesterday morning before we made any changes. It seems the rest of the Reddit community had had enough. Ironically, EnoughTrumpSpam was hit harder than any other community when we rolled out the changes. That’s Reddit for you. ¯\\\\\\\\\\\\_(ツ)_/¯ \\n\\nAs always, we will keep an eye out for any unintended side-effects and make changes as necessary. Community has always been one of the very best things about Reddit—let’s remember that. Thank you for reading, thank you for Reddit-ing, let’s all get back to connecting with our fellow humans, sharing ferret gifs, and making the Reddit the most fun, authentic place online.\\n\\nSteve\\n\\nu: I'm off for now. Thanks for the feedback! I'll check back in a couple hours.\", 'Hi All,\\n\\nWhat happened in Orlando this weekend was a national tragedy. Let’s remember that first and foremost, this was a devastating and visceral human experience that many individuals and whole communities were, and continue to be, affected by. In the grand scheme of things, this is what is most important today.\\n\\nI would like to address what happened on Reddit this past weekend. Many of you use Reddit as your primary source of news, and we have a duty to provide access to timely information during a crisis. This is a responsibility we take seriously.\\n\\nThe story broke on news, as is common. In such situations, their community is flooded with all manners of posts. Their policy includes removing duplicate posts to focus the conversation in one place, and removing speculative posts until facts are established. A few posts were removed incorrectly, which have now been restored. One moderator did cross the line with their behavior, and is no longer a part of the team. We have seen the accusations of censorship. We have investigated, and beyond the posts that are now restored, have not found evidence to support these claims.\\n\\nWhether you agree with news’ policies or not, it is never acceptable to harass users or moderators. Expressing your anger is fine. Sending death threats is not. We will be taking action against users, moderators, posts, and communities that encourage such behavior.\\n\\nWe are working with news to understand the challenges faced and their actions taken throughout, and we will work more closely with moderators of large communities in future times of crisis. We–Reddit Inc, moderators, and users–all have a duty to ensure access to timely information is available.\\n\\nIn the wake of this weekend, we will be making a handful of technology and process changes:\\n\\n Live threads are the best place for news to break and for the community to stay updated on the events. We are working to make this more timely, evident, and organized.\\n We’re introducing a change to Sticky Posts: They’ll now be called Announcement Posts, which better captures their intended purpose; they will only be able to be created by moderators; and they must be text posts. Votes will continue to count. We are making this change to prevent the use of Sticky Posts to organize bad behavior.\\n We are working on a change to the all algorithm to promote more diversity in the feed, which will help provide more variety of viewpoints and prevent vote manipulation.\\n We are nearly fully staffed on our Community team, and will continue increasing support for moderator teams of major communities.\\n\\nAgain, what happened in Orlando is horrible, and above all, we need to keep things in perspective. We’ve all been set back by the events, but we will move forward together to do better next time. ', \"Hi All,\\n\\nWe haven’t done one of these in a little while, and I thought it would be a good time to catch up.\\n\\nWe’ve launched a bunch of stuff recently, and we’re hard at work on lots more: m.reddit.com improvements, the next versions of Reddit for iOS and Android, moderator mail, relevancy experiments (lots of little tests to improve experience), account take-over prevention, technology improvements so we can move faster, and–of course–hiring.\\n\\nI’ve got a couple hours, so, ask me anything!\\n\\nSteve\\n\\nedit: Thanks for the questions! I'm stepping away for a bit. I'll check back later.\", 'Hi All,\\n\\nWe haven’t done one of these in a little while, and I thought it would be a good time to catch up.\\n\\nWe’ve launched a bunch of stuff recently, and we’re hard at work on lots more: m.reddit.com improvements, the next versions of Reddit for iOS and Android, moderator mail, relevancy experiments (lots of little tests to improve experience), account take-over prevention, technology improvements so we can move faster, and–of course–hiring.\\n\\nI’ve got a couple hours, so, ask me anything!\\n\\nSteve', 'Today we are excited to announce that Philippe Beaudette has joined us to lead our Community team. He comes from Wikipedia by way of Wikia. At the Wikimedia Foundation (which hosts and supports Wikipedia, among other sites) he was responsible for the team that did community management, user trust and safety, and strategic change management, guiding the community through a time of immense growth and maturation. He spent almost 7 years there, as one of their first community hires, and managed to have his fingers on a huge number of projects, from fundraising (raising money from nearly every country in the world and accepting Wikipedia’s first donation from Antarctica) to community governance and their international elections processes–while dealing with communities working in almost 200 different languages.  He’s particularly proud to have led their community interactions around a worldwide 24 hour site shut-down to drive awareness of the SOPA bill two years ago, an effort that Reddit also joined.\\n\\nAfter leaving Wikipedia, Philippe joined Wikia and ran the Community Support and Engagement team there, supporting Wikia’s 350,000 fan-created communities. We are honored to have him on our team. Please welcome Philippe!\\n\\nIn addition to Philippe, we have brought on an additional five members to the Community and Trust and Safety teams this week. See if you can collect them all!', 'I am sad to share that krispykrackers is leaving Reddit. Over the past five years, she has done an incredible amount of work for us and the Reddit community. She has been the face of our Community team at Reddit; helped us write many of our policies and was indispensable working through countless tricky situations; and she lead our efforts in support of Extra Life, raising hundreds of thousands of dollars for Children’s Miracle Network Hospitals. She has been a friend to me and many others here. While we are sad to see her go, we wish her the best going forward.\\n\\nActually replacing Kristine is impossible, but next Monday, four (maybe five!) new members of our Community and Trust and Safety teams will be starting, which will give the team even more horsepower.', 'Hi All,\\n\\nI want to give you all an update with the things that are keeping us busy, and hopefully as a result, making you less busy:\\n\\n Spam: Last quarter we saw a huge increase in spam, including a handful of heavy attacks. We diverted resources to combat this, and we have made quite a bit of progress, lowering user reported spam by over 60% from its high point last quarter. We still have plenty of work to do, but we are making steady progress. Removing as spam or reporting as such are still the most effective ways to help.\\n\\n Account Take-Overs (ATOs): In response to our improved spam-fighting measures, the bad-guys have been targeting existing accounts, compromising them for the purpose of spamming and vote cheating. We are fighting ATOs on the engineering side, but ATOs also create a burden on our community team to notify affected users, send password reset emails, etc. We are working on automating the notification and recovery processes to free up our community managers. The root cause of the issue is poor passwords. Please use strong and unique passwords.\\n\\n Support Backlog: Because of the aforementioned issues, our community team is swamped with support tickets. We are doing a good job keeping up with the incoming flow, but we do have a backlog that is taking time to work through. We are sorry for any delays. The good news is we have a number of new people joining the team over the next few weeks that will help.\\n\\n Modmail: I am happy to report that we finally have a team dedicated to working on a new system for moderator mail. To this point, we have tried a number of approaches and have had a handful of false starts, but we have not made the sort of progress we would like. The current system is a series of hacks built on an old code base, and because of this, we have decided to build modmail as a new, separate system. This will allow us to develop it without disrupting your current workflows. We know this is where you spend a lot of your time, and we are working hard to make it more effective.\\n\\nWe appreciate all you do for Reddit as moderators, and we appreciate seeing the questions you ask in this community. We are particularly thankful for those of you who jump in and help the other moderators here and elsewhere.\\n\\n– The Reddit Team', \"In 2014, we published our first Transparency Report, which can be found here. We made a commitment to you to publish an annual report, detailing government and law enforcement agency requests for private information about our users. In keeping with that promise, we’ve published our 2015 transparency report. \\n\\nWe hope that sharing this information will help you better understand our Privacy Policy and demonstrate our commitment for Reddit to remain a place that actively encourages authentic conversation.\\n\\nOur goal is to provide information about the number and types of requests for user account information and removal of content that we receive, and how often we are legally required to respond. This isn’t easy as a small company as we don’t always have the tools we need to accurately track the large volume of requests we receive. We will continue, when legally possible, to inform users before sharing user account information in response to these requests.\\n\\nIn 2015, we did not produce records in response to 40% of government requests, and we did not remove content in response to 79% of government requests.\\n\\nIn 2016, we’ve taken further steps to protect the privacy of our users. We joined our industry peers in an amicus brief supporting Twitter, detailing our desire to be honest about the national security requests for removal of content and the disclosure of user account information.\\n\\nIn addition, we joined an amicus brief supporting Apple in their fight against the government's attempt to force a private company to work on behalf of them. While the government asked the court to vacate the court order compelling Apple to assist them, we felt it was important to stand with Apple and speak out against this unprecedented move by the government, which threatens the relationship of trust between a platforms and its users, in addition to jeopardizing your privacy. \\n\\nWe are also excited to announce the launch of our external law enforcement guidelines. Beyond clarifying how Reddit works as a platform and briefly outlining how both federal and state law enforcements can compel Reddit to turn over user information, we believe they make very clear that we adhere to strict standards. \\n\\nWe know the success of Reddit is made possible by your trust. We hope this transparency report strengthens that trust, and is a signal to you that we care deeply about your privacy.\\n\\n(I'll do my best to answer questions, but as with all legal matters, I can't always be completely candid.)\\n\\nedit: I'm off for now. There are a few questions that I'll try to answer after I get clarification.\\n\", 'Hi All,\\n\\nNow that 2015 is in the books, it’s a good time to reflect on where we are and where we are going. Since I returned last summer, my goal has been to bring a sense of calm; to rebuild our relationship with our users and moderators; and to improve the fundamentals of our business so that we can focus on making you (our users), those that work here, and the world in general, proud of Reddit. Reddit’s mission is to help people discover places where they can be themselves and to empower the community to flourish.\\n\\n2015 was a big year for Reddit. First off, we cleaned up many of our external policies including our Content Policy, Privacy Policy, and API terms. We also established internal policies for managing requests from law enforcement and governments. Prior to my return, Reddit took an industry-changing stance on involuntary pornography.\\n\\nReddit is a collection of communities, and the moderators play a critical role shepherding these communities. It is our job to help them do this. We have shipped a number of improvements to these tools, and while we have a long way to go, I am happy to see steady progress.\\n\\nSpam and abuse threaten Reddit’s communities. We created a Trust and Safety team to focus on abuse at scale, which has the added benefit of freeing up our Community team to focus on the positive aspects of our communities. We are still in transition, but you should feel the impact of the change more as we progress. We know we have a lot to do here.\\n\\nI believe we have positioned ourselves to have a strong 2016. A phrase we will be using a lot around here is \"Look Forward.\" Reddit has a long history, and it’s important to focus on the future to ensure we live up to our potential. Whether you access it from your desktop, a mobile browser, or a native app, we will work to make the Reddit product more engaging. Mobile in particular continues to be a priority for us. Our new Android app is going into beta today, and our new iOS app should follow it out soon.\\n\\nWe receive many requests from law enforcement and governments. We take our stewardship of your data seriously, and we know transparency is important to you, which is why we are putting together a Transparency Report. This will be available in March.\\n\\nThis year will see a lot of changes on Reddit. Recently we built an A/B testing system, which allows us to test changes to individual features scientifically, and we are excited to put it through its paces. Some changes will be big, others small and, inevitably, not everything will work, but all our efforts are towards making Reddit better. We are all redditors, and we are all driven to understand why Reddit works for some people, but not for others; which changes are working, and what effect they have; and to get into a rhythm of constant improvement. We appreciate your patience while we modernize Reddit.\\n\\nAs always, Reddit would not exist without you, our community, so thank you. We are all excited about what 2016 has in store for us.\\n\\n–Steve\\n\\nedit: I\\'m off. Thanks for the feedback and questions. We\\'ve got a lot to deliver on this year, but the whole team is excited for what\\'s in store. We\\'ve brought on a bunch of new people lately, but our biggest need is still hiring. If you\\'re interested, please check out https://www.reddit.com/jobs.', 'Today we are introducing standardized API Terms of Use. You, our community of developers, are important to us, and have been instrumental to the success of the Reddit platform. First and foremost, we want to reaffirm our commitment to providing (and improving!) a public API.\\n\\nThere are a couple of notable changes to the API terms that I’d like to highlight. The first is that we are requesting all users of the API to register with us. This provides a point of contact for when we have important updates to share; provides a point of contact for when things go wrong; and helps us prevent abuse.\\n\\nWe are also no longer requiring a special licensing agreement to use our API for commercial purposes. We do request that you seek approval for your monetization model in the registration process.\\n\\nWe have added clarity about the types of things that the API is not intended for–namely applications that promote illegal activity, disrupt core Reddit functionality, or introduce security risks. But you weren’t doing any of these things anyway.\\n\\nWe still require users of our API to comply with our User Agreement, Privacy Policy, API Usage Limits, and any other applicable laws or regulations. We will continue to require the use of OAuth2.  We understand moving to OAuth2 can take time, so we are giving developers until March 17th to make this change.\\n\\nWe look forward to working with you more to create great experiences for our communities. There are many wonderful projects built on our API, and we would love to see even more. Thank you for all that you do.\\n\\nYou can contact the api@reddit.com alias to ask questions about the API service.', \"In a little over a month we’ll be updating our Privacy Policy. We know this is important to you, so I want to explain what has changed and why.\\n\\nKeeping control in your hands is paramount to us, and this is our first consideration any time we change our privacy policy. Our overarching principle continues to be to request as little personally identifiable information as possible. To the extent that we store such information, we do not share it generally. Where there are exceptions to this, notably when you have given us explicit consent to do so, or in response to legal requests, we will spell them out clearly.\\n\\nThe new policy is functionally very similar to the previous one, but it’s shorter, simpler, and less repetitive. We have clarified what information we collect automatically (basically anything your browser sends us) and what we share with advertisers (nothing specific to your Reddit account).\\n\\nOne notable change is that we are increasing the number of days we store IP addresses from 90 to 100 so we can measure usage across an entire quarter. In addition to internal analytics, the primary reason we store IPs is to fight spam and abuse. I believe in the future we will be able to accomplish this without storing IPs at all (e.g. with hashing), but we still need to work out the details.\\n\\nIn addition to changes to our Privacy Policy, we are also beginning to roll out support for Do Not Track. Do Not Track is an option you can enable in modern browsers to notify websites that you do not wish to be tracked, and websites can interpret it however they like (most ignore it). If you have Do Not Track enabled, we will not load any third-party analytics. We will keep you informed as we develop more uses for it in the future.\\n\\nIndividually, you have control over what information you share with us and what your browser sends to us automatically. I encourage everyone to understand how browsers and the web work and what steps you can take to protect your own privacy. Notably, browsers allow you to disable third-party cookies, and you can customize your browser with a variety of privacy-related extensions.\\n\\nWe are proud that Reddit is home to many of the most open and genuine conversations online, and we know this is only made possible by your trust, without which we would not exist. We will continue to do our best to earn this trust and to respect your basic assumptions of privacy.\\n\\nThank you for reading. I’ll be here for an hour to answer questions, and I'll check back in again the week of Dec 14th before the changes take effect.\\n\\n-Steve (spez)\\n\\nedit: Thanks for all the feedback. I'm off for now.\", \"It's been a little while since we've done this. Since we last talked, we've released a handful of improvements for moderators; released a few updates to AlienBlue; continue to work on the bigger mod/community tools (updates next week, I believe); hired a bunch of people, including two new community managers; and continue to make progress on our new mobile apps.\\n\\nThere is a lot going on around here. Our most pressing priority is hiring, particularly engineers. If you're an engineer of any shape or size, please considering joining us. Email  jobs@reddit.com if you're interested!\\n\\nupdate: I'm outta here. Thanks for the questions!\", \"Today we are releasing an update to our Content Policy. Our goal was to consolidate the various rules and policies that have accumulated over the years into a single set of guidelines we can point to.\\n\\nThank you to all of you who provided feedback throughout this process. Your thoughts and opinions were invaluable. This is not the last time our policies will change, of course. They will continue to evolve along with Reddit itself.\\n\\nOur policies are not changing dramatically from what we have had in the past. One new concept is Quarantining a community, which entails applying a set of restrictions to a community so its content will only be viewable to those who explicitly opt in. We will Quarantine communities whose content would be considered extremely offensive to the average redditor.\\n\\nToday, in addition to applying Quarantines, we are banning a handful of communities that exist solely to annoy other redditors, prevent us from improving Reddit, and generally make Reddit worse for everyone else. Our most important policy over the last ten years has been to allow just about anything so long as it does not prevent others from enjoying Reddit for what it is: the best place online to have truly authentic conversations.\\n\\nI believe these policies strike the right balance.\\n\\nupdate: I know some of you are upset because we banned anything today, but the fact of the matter is we spend a disproportionate amount of time dealing with a handful of communities, which prevents us from working on things for the other 99.98% (literally) of Reddit. I'm off for now, thanks for your feedback. RIP my inbox.\", \"I thought I'd start my day with a quick status update for you all. It's only been a couple weeks since my return, but we've got a lot going on. We are in a phase of emergency fixes to repair a number of longstanding issues that are causing all of us grief. I normally don't like talking about things before they're ready, but because many of you are asking what's going on, and have been asking for a long time before my arrival, I'll share what we're up to.\\n\\nUnder active development:\\n\\n Content Policy. We're consolidating all our rules into one place. We won't release this formally until we have the tools to enforce it.\\n Quarantine the communities we don't want to support\\n Improved banning for both admins and moderators (a less sneaky alternative to shadowbanning)\\n Improved ban-evasion detection techniques (to make the former possible).\\n Anti-brigading research (what techniques are working to coordinate attacks)\\n AlienBlue bug fixes\\n AlienBlue improvements\\n Android app\\n\\nNext up:\\n\\n Anti-abuse and harassment (e.g. preventing PM harassment)\\n Anti-brigading\\n Modmail improvements\\n\\nAs you can see, lots on our plates right now, but the team is cranking, and we're excited to get this stuff shipped as soon as possible!\\n\\nI'll be hanging around in the comments for an hour or so.\\n\\nupdate: I'm off to work for now. Unlike you, work for me doesn't consist of screwing around on Reddit all day. Thanks for chatting!\", 'We started Reddit to be—as we said back then with our tongues in our cheeks—“The front page of the Internet.” Reddit was to be a source of enough news, entertainment, and random distractions to fill an entire day of pretending to work, every day. Occasionally, someone would start spewing hate, and I would ban them. The community rarely questioned me. When they did, they accepted my reasoning: “because I don’t want that content on our site.”\\n\\nAs we grew, I became increasingly uncomfortable projecting my worldview on others. More practically, I didn’t have time to pass judgement on everything, so I decided to judge nothing. \\n\\nSo we entered a phase that can best be described as Don’t Ask, Don’t Tell. This worked temporarily, but once people started paying attention, few liked what they found. A handful of painful controversies usually resulted in the removal of a few communities, but with inconsistent reasoning and no real change in policy.\\n\\nOne thing that isn\\'t up for debate is why Reddit exists. Reddit is a place to have open and authentic discussions. The reason we’re careful to restrict speech is because people have more open and authentic discussions when they aren\\'t worried about the speech police knocking down their door. When our purpose comes into conflict with a policy, we make sure our purpose wins.\\n\\nAs Reddit has grown, we\\'ve seen additional examples of how unfettered free speech can make Reddit a less enjoyable place to visit, and can even cause people harm outside of Reddit. Earlier this year, Reddit took a stand and banned non-consensual pornography. This was largely accepted by the community, and the world is a better place as a result (Google and Twitter have followed suit). Part of the reason this went over so well was because there was a very clear line of what was unacceptable.\\n\\nTherefore, today we\\'re announcing that we\\'re considering a set of additional restrictions on what people can say on Reddit—or at least say on our public pages—in the spirit of our mission.\\n\\nThese types of content are prohibited [1]:\\n\\n  Spam\\n  Anything illegal (i.e. things that are actually illegal, such as copyrighted material. Discussing illegal activities, such as drug use, is not illegal)\\n  Publication of someone’s private and confidential information\\n  Anything that incites harm or violence against an individual or group of people (it\\'s ok to say \"I don\\'t like this group of people.\" It\\'s not ok to say, \"I\\'m going to kill this group of people.\")\\n  Anything that harasses, bullies, or abuses an individual or group of people (these behaviors intimidate others into silence)[2]\\n  Sexually suggestive content featuring minors\\n\\nThere are other types of content that are specifically classified:\\n\\n  Adult content must be flagged as NSFW (Not Safe For Work). Users must opt into seeing NSFW communities. This includes pornography, which is difficult to define, but you know it when you see it.\\n  Similar to NSFW, another type of content that is difficult to define, but you know it when you see it, is the content that violates a common sense of decency. This classification will require a login, must be opted into, will not appear in search results or public listings, and will generate no revenue for Reddit.\\n\\nWe\\'ve had the NSFW classification since nearly the beginning, and it\\'s worked well to separate the pornography from the rest of Reddit. We believe there is value in letting all views exist, even if we find some of them abhorrent, as long as they don’t pollute people’s enjoyment of the site. Separation and opt-in techniques have worked well for keeping adult content out of the common Redditor’s listings, and we think it’ll work for this other type of content as well. \\n\\nNo company is perfect at addressing these hard issues. We’ve spent the last few days here discussing and agree that an approach like this allows us as a company to repudiate content we don’t want to associate with the business, but gives individuals freedom to consume it if they choose. This is what we will try, and if the hateful users continue to spill out into mainstream reddit, we will try more aggressive approaches. Freedom of expression is important to us, but it’s more important to us that we at reddit be true to our mission.\\n\\n[1] This is basically what we have right now. I’d appreciate your thoughts. A very clear line is important and our language should be precise.\\n\\n[2] Wording we\\'ve used elsewhere is this \"Systematic and/or continued actions to torment or demean someone in a way that would make a reasonable person (1) conclude that reddit is not a safe platform to express their ideas or participate in the conversation, or (2) fear for their safety or the safety of those around them.\"\\n\\nedit: added an example to clarify our concept of \"harm\"\\nedit: attempted to clarify harassment based on our existing policy\\n\\nupdate: I\\'m out of here, everyone. Thank you so much for the feedback. I found this very productive. I\\'ll check back later.', 'Hey Everyone,\\n\\nThere has been a lot of discussion lately —on reddit, in the news, and here internally— about reddit’s policy on the more offensive and obscene content on our platform. Our top priority at reddit is to develop a comprehensive Content Policy and the tools to enforce it.\\n\\nThe overwhelming majority of content on reddit comes from wonderful, creative, funny, smart, and silly communities. That is what makes reddit great. There is also a dark side, communities whose purpose is reprehensible, and we don’t have any obligation to support them. And we also believe that some communities currently on the platform should not be here at all.\\n\\nNeither Alexis nor I created reddit to be a bastion of free speech, but rather as a place where open and honest discussion can happen:  These are very complicated issues, and we are putting a lot of thought into it. It’s something we’ve been thinking about for quite some time.  We haven’t had the tools to enforce policy, but now we’re building those tools and reevaluating our policy.\\n\\nWe as a community need to decide together what our values are. To that end, I’ll be hosting an AMA on Thursday 1pm pst to present our current thinking to you, the community, and solicit your feedback.\\n\\nPS - I won’t be able to hang out in comments right now. Still meeting everyone here!', \"Hey Everyone, I'm Steve, aka spez, the new CEO around here. For those of you who don't know me, I founded reddit ten years ago with my college roommate Alexis, aka kn0thing. Since then, reddit has grown far larger than my wildest dreams. I'm so proud of what it's become, and I'm very excited to be back.\\n\\nI know we have a lot of work to do. One of my first priorities is to re-establish a relationship with the community. This is the first of what I expect will be many AMAs (I'm thinking I'll do these weekly).\\n\\nMy proof: it's me!\\n\\nedit: I'm done for now. Time to get back to work. Thanks for all the questions!\", 'Preferably in the Boston area.', \"http://www.hipmunk.com\\n\\nHipmunk is a new travel search startup making it easier to find plane tickets. We launched a couple of days ago and have received a lot of great press.\\n\\nSince launch we have been inundated with feedback emails and chat support requests. We need someone to answer customers' questions and feedback through email and live chat.\\n\\nThe ideal candidate is web-savvy, friendly, and has an endlessly positive attitude. Hours and location are flexible.\\n\\nWe are based in San Francisco.\\n\\nIf interested, please email jobs-8-2010@hipmunk.com\", 'Nominate people here, and hopefully we can improve the spam false-positive issue that has been bothering you all.\\n\\nWe need people who are willing to watch the spam listing for this reddit and make sure it is only spam that is blocked.', \"We're working on a couple of things that will hopefully help avoid future eruptions like the one of the past few days:\\n\\n  We're improving the popularity metric for reddits. Specifically, attacking a reddit will not boost its popularity. This will take some time, but we'll get there.\\n\\n  No mercy for attacking a reddit. Starting now, anyone who mass-downvotes every link on a reddit will have their voting privileges removed.\\n\\nFAQ\\n\\nWhy was atheism removed from the default reddit list for non-logged-in users again?\\n\\nFor the past few months the default reddits have been the top ten most popular reddits, which are automatically computed each morning from the previous day's activity. atheism went through a couple of weeks under attack from other users causing it to appear more popular than it should have been. At the time this was an isolated issue, so we didn't do much about it. When the same thing happened to moviecritic, we addressed the issue by removing the two less popular reddits from the list by hand. Given the two bullet points above, this will no longer be necessary.\\n\\nWhy was atheism removed from the top bar as well?\\n\\nThis was a side-effect of how we removed it from the front page. We used the same function for both returning the list of reddits for the front page and returning the list of reddits for the top bar. It was a mistake, and is fixed now.\\n\\nWhy is the christianity reddit so popular all of a sudden?\\n\\nContrary to popular belief, this isn't my or anyone else at reddit's handy-work. It is because a handful of atheism users are downvoting every story on christianity. As I have previously mentioned, this actually makes a reddit more popular, an unintended side-effect of how we rank reddits. I'm working on undoing the attack, but this will take time. Of course, I will also undo any attacks against any other reddits as well.\\n\\nWill atheism ever appear on the front page?\\n\\nIf it gets more popular, it will be possible.\\n\\nBut it has more than 50,000 subscribers, it must be popular!\\n\\nSubscribers aren't a factor in a reddit's popularity. It's popularity is determined by level of activity.\\n\\nYou said something previously about not all content being appropriate for the front page. What's the deal with that?\\n\\nIn the past we chose the front-page reddits by hand, and in the future we might do that again, but it's not something we're actively working on. There are over 25,000 communities on reddit, and only 10 appear on the front page. It's nothing personal. We want to have a large variety of content on the front page to demonstrate that there is something here for everyone. If we start engineering the front page again, it'll be clear what we're doing, and how we're doing it.\\n\\nEverything you say is a lie. You clearly hate atheists. Why should I believe you now?\\n\\nEver since Alexis and I founded reddit.com over four years ago, we've worked hard to make this a place where anyone can come and share new and interesting links. We've (and me, specifically) have made mistakes, but we've done our best to fix them and move on, and I think our actions over the past four years speak for themselves. You're free to dislike me/us, and we will proudly continue to provide a forum for you to do so on this site.\", 'Skip to the second half if you don\\'t care about how we got to this point.\\n\\nFirst, a little history: When we first allowed users to create their\\nown reddits, every link from every reddit had an equal chance at being\\nseen on our front page. We had to tweak this slightly with the rise in\\npopularity of the nsfw reddit and put some reddits behind an \"are\\nyou over 18?\" barrier, a change that was welcomed by most users. Next,\\nwe allowed users to choose which reddits appear on their front page,\\nbut it wasn\\'t until we started normalizing the front page that we ran\\ninto issues.\\n\\nWhen the front page is normalized, a link that is 1 in a small reddit\\nis basically equal in hotness to a link that is 1 in a large reddit.\\nThis helps prevent small reddits from being washed out by the larger\\nones. Because of this change we had to also limit the number of\\nreddits that make up the front page, otherwise things would jump\\naround wildly (a user could create a new reddit, submit one link, and\\nsince that link was 1 in its reddit, it could appear on the front\\npage). For quite some time we maintained this list of front page\\nreddits by hand.\\n\\nMaintaining the list of front page reddits became tedious after a\\nwhile, so we added a new algorithm to find the most active reddits\\nautomatically. This algorithm purposefully ignores the number of\\nsubscribers when choosing reddits since that number is so easy to\\ngame. The popularity of a reddit is based on the number of\\nsubmissions, votes, and general level of activity of the reddit. The\\nalgorithm changes from time to time, and we don\\'t describe it fully to\\nmitigate gaming it. We use the top ten reddits returned by this\\nalgorithm to make up the default non-logged-in front page.\\n\\nHere\\'s the explanation part you\\'re looking for\\n\\nA couple of weeks ago the moviecritic reddit popped into the top ten\\nreddits, causing quite a stir. The reddit isn\\'t used for new and\\ninteresting links, but rather for links to movies: sometimes old and\\nsometimes new. Users were upset that moviecritic was taking up\\nfront-page space and started attacking the reddit by downvoting\\neverything in sight. Users of the atheism reddit had been under\\nattacks like this for weeks. Unfortunately, attacking a reddit\\ngenerates a lot of activity on that reddit and makes our algorithm\\nthink the reddit is more popular than it really is, making the problem\\neven worse. \\n\\nSeeing as this might become an ongoing problem, we added the ability\\nto prevent certain reddits from appearing in the top ten. We flagged\\nmoviecritic and atheism as two such reddits, hopefully allowing these\\nreddits to grow in peace. I should have posted this explanation then\\ninstead of waiting until now, and for that I apologize.\\n\\nGiven the nature and somtimes polarizing tone of the\\ncontent on the atheism reddit, it will likely always garner the ire of\\nmany other users. Showcasing religious flame-wars only serves to lower the level of discourse on the site as a whole, and unknowingly walking into such a flame-war isn\\'t the first-time experience we\\'d like new users to have here, which is why we think it best to leave things the way they are.  \\n\\nThere are thousands of communities on reddit covering a wide range of\\ntopics. Most are for sharing new and interesting content from around\\nthe web, and others are strictly for discussion. We hope there is a\\nplace for everyone on reddit, and we also hope you realize not\\neverything found on reddit is appropriate for the front page.\\n\\nUPDATE: I\\'ll try and rephrase a point that I didn\\'t get across before. /moviecritic and /atheism aren\\'t legitimate top ten reddits. They appeared that way because they were under attack, making them appear even more popular. Removing atheism from the top ten by hand isn\\'t about censoring, it\\'s about a shortcoming in our popularity metric. We\\'ll fix the problem, and that\\'ll be the end of it.', 'All better now.', 'Visit beta.reddit.com. The updates include:\\n\\n A new submit page.\\n The ability to submit to any subreddit from the regular submit page.\\n The ability to add text to a self-post.\\n Improved comments pages.\\n Support for HD Youtube videos.\\n Numerous bug-fixes.\\n\\nPS - Cookies will behave strangely. You will need to login/logout on www.reddit.com.']\n"
          ],
          "name": "stdout"
        }
      ]
    },
    {
      "cell_type": "code",
      "metadata": {
        "id": "qNDcRD-IzNkp"
      },
      "source": [
        "def reddit_post():\n",
        "  for title in post_titles:\n",
        "    value = sentiment_assembly(title)\n",
        "\n",
        "    if value == 'Positive':\n",
        "      outP = open((path + \"/Reddit_Titles_Positive_results.txt\"), \"a\")\n",
        "      outP.write(value +  \" - \" + title)\n",
        "      outP.write(\"\\n\")\n",
        "      outP.close()\n",
        "    else:\n",
        "      outN = open((path + \"/Reddit_Titles_Negative_results.txt\"), \"a\")\n",
        "      outN.write(value +  \" - \" + title)\n",
        "      outN.write(\"\\n\")\n",
        "      outN.close()\n",
        "\n",
        "    print(title)\n",
        "\n",
        "  for post in post_texts:\n",
        "    value = sentiment_assembly(post)\n",
        "\n",
        "    if value == 'Positive':\n",
        "      outP = open((path + \"/Reddit_Posts_Positive_results.txt\"), \"a\")\n",
        "      outP.write(value +  \" - \" + post)\n",
        "      outP.write(\"\\n\")\n",
        "      outP.close()\n",
        "    else:\n",
        "      outN = open((path + \"/Reddit_Posts_Negative_results.txt\"), \"a\")\n",
        "      outN.write(value +  \" - \" + post)\n",
        "      outN.write(\"\\n\")\n",
        "      outN.close()\n",
        "\n",
        "    print(post)"
      ],
      "execution_count": 88,
      "outputs": []
    },
    {
      "cell_type": "markdown",
      "metadata": {
        "id": "HtXD_aCo0On_"
      },
      "source": [
        "#From Youtube video\n"
      ]
    },
    {
      "cell_type": "markdown",
      "metadata": {
        "id": "26XeqpKWFNRO"
      },
      "source": [
        "Al llamar la función, debe de enviar como parámetro el link del video de youtube que desee"
      ]
    },
    {
      "cell_type": "code",
      "metadata": {
        "id": "X8bdmMUN0ReD"
      },
      "source": [
        "def youtube_video(youtube_link):\n",
        "\n",
        "  video = YouTube(youtube_link)\n",
        "  video.streams.filter(file_extension = \"mp4\")[0].download(filename= \"youtubeVideo\")\n",
        "\n",
        "  sentiment_video(\"youtubeVideo.mp4\")\n",
        "\n"
      ],
      "execution_count": 89,
      "outputs": []
    },
    {
      "cell_type": "code",
      "metadata": {
        "id": "raUOLNAZLeKK"
      },
      "source": [
        ""
      ],
      "execution_count": null,
      "outputs": []
    }
  ]
}